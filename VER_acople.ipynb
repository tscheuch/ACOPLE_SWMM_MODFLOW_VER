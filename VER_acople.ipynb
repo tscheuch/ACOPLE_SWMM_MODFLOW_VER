{
 "cells": [
  {
   "cell_type": "markdown",
   "metadata": {},
   "source": [
    "Modelo acople SWMM-MODFLOW para ser verificado"
   ]
  },
  {
   "cell_type": "markdown",
   "metadata": {},
   "source": [
    "# Import Libraries and Dependencies"
   ]
  },
  {
   "cell_type": "code",
   "execution_count": 1,
   "metadata": {},
   "outputs": [
    {
     "name": "stdout",
     "output_type": "stream",
     "text": [
      "flopy is installed in C:\\Users\\tibun\\Anaconda3\\envs\\acople\\lib\\site-packages\\flopy\n"
     ]
    }
   ],
   "source": [
    "import pandas as pd\n",
    "import numpy as np\n",
    "from numpy import *\n",
    "from scipy.spatial import cKDTree\n",
    "import matplotlib as mpl\n",
    "import matplotlib.pyplot as plt\n",
    "from matplotlib.colors import LightSource\n",
    "plt.rcParams[\"font.family\"] = \"Times New Roman\"\n",
    "import os\n",
    "import platform\n",
    "import sys\n",
    "import math\n",
    "import time\n",
    "import re\n",
    "from datetime import datetime\n",
    "\n",
    "from pyswmm import Simulation, Nodes, Subcatchments, Links, SystemStats\n",
    "\n",
    "import flopy\n",
    "from flopy.discretization.structuredgrid import StructuredGrid\n",
    "from flopy.utils import Raster\n",
    "from flopy.utils.zonbud import ZoneBudget, read_zbarray\n",
    "\n",
    "\n",
    "import geopandas as gpd\n",
    "from geopandas.tools import sjoin\n",
    "from geopandas import GeoDataFrame\n",
    "from shapely.geometry import Point, Polygon\n",
    "from shapely.geometry import Point\n",
    "import fiona\n",
    "\n",
    "import rasterio\n",
    "from rasterio.plot import show\n",
    "from rasterio.merge import merge\n",
    "from rasterio.plot import show_hist\n",
    "\n",
    "from affine import Affine\n",
    "from pyproj import Proj, transform\n",
    "import folium\n",
    "from folium import plugins\n",
    "from folium import IFrame\n",
    "import cartopy as cp\n",
    "import cartopy.crs as ccrs\n",
    "from cartopy.io.shapereader import Reader\n",
    "import cartopy.io.img_tiles as cimgt"
   ]
  },
  {
   "cell_type": "markdown",
   "metadata": {},
   "source": [
    "# Create MODFLOW model"
   ]
  },
  {
   "cell_type": "markdown",
   "metadata": {},
   "source": [
    "## Create workspace directory, set path to MF executable, model name, etc."
   ]
  },
  {
   "cell_type": "code",
   "execution_count": 2,
   "metadata": {},
   "outputs": [],
   "source": [
    "modelname='VER'\n",
    "if platform.system() == 'Windows': exe_name='mfnwt.exe'\n",
    "if platform.system() == 'Darwin': exe_name='mfnwt'\n",
    "\n",
    "workspace = 'VER_MF_workspace'\n",
    "if not os.path.isdir(workspace):\n",
    "    os.mkdir(workspace)\n",
    "    \n",
    "ml = flopy.modflow.Modflow(modelname, version='mfnwt', exe_name=exe_name, model_ws=workspace)"
   ]
  },
  {
   "cell_type": "markdown",
   "metadata": {},
   "source": [
    "## DIS package: Temporal and Spatial Discretization"
   ]
  },
  {
   "cell_type": "markdown",
   "metadata": {},
   "source": [
    "### Spatial Discretization"
   ]
  },
  {
   "cell_type": "code",
   "execution_count": 3,
   "metadata": {},
   "outputs": [
    {
     "name": "stdout",
     "output_type": "stream",
     "text": [
      "model resolution: x=5.0m, y=5.0m\n"
     ]
    }
   ],
   "source": [
    "nlay = 1     #number of layers\n",
    "nrows = 22  #number of rows\n",
    "ncols = 27  #number of columns\n",
    "W = 135     #model size (X)\n",
    "B = 110     #model size (Y)\n",
    "d = 20      #aquifer thickness\n",
    "top = 0\n",
    "bottom = -20\n",
    "\n",
    "x_resolution = W/ncols    \n",
    "y_resolution = B/nrows\n",
    "z_resolution=d/nlay\n",
    "\n",
    "delr = y_resolution\n",
    "delc = x_resolution\n",
    "\n",
    "print('model resolution: x=%sm, y=%sm' % (x_resolution,y_resolution))"
   ]
  },
  {
   "cell_type": "markdown",
   "metadata": {},
   "source": [
    "### Temporal Discrtization (Transient Configuration)"
   ]
  },
  {
   "cell_type": "code",
   "execution_count": 5,
   "metadata": {},
   "outputs": [],
   "source": [
    "nper = 1\n",
    "perlen = 1\n",
    "nstp = 1\n",
    "steady= False\n",
    "#steady = True"
   ]
  },
  {
   "cell_type": "markdown",
   "metadata": {},
   "source": [
    "Análisis de Sencibilidad: Al aumentar nstp, disminuye la cantidad de agua exfiltrada (Drenada) al modelo superficial. Pareciera ser que el modelo subterráneo \"distribuye\" mejor el agua entre las celdas."
   ]
  },
  {
   "cell_type": "code",
   "execution_count": 6,
   "metadata": {},
   "outputs": [],
   "source": [
    "dis = flopy.modflow.ModflowDis(\n",
    "    ml, nlay=nlay, nrow=nrows, ncol=ncols,\n",
    "    delr=delr, delc=delc, top=top, botm=bottom,\n",
    "    nper=nper, perlen=perlen, nstp=nstp, steady=steady)"
   ]
  },
  {
   "cell_type": "markdown",
   "metadata": {},
   "source": [
    "### Set spatial reference:"
   ]
  },
  {
   "cell_type": "code",
   "execution_count": 7,
   "metadata": {},
   "outputs": [],
   "source": [
    "ml.modelgrid.set_coord_info(xoff=662916.664, yoff=5428317.527, angrot=0, epsg=32718)"
   ]
  },
  {
   "cell_type": "code",
   "execution_count": 8,
   "metadata": {},
   "outputs": [],
   "source": [
    "ml.update_modelgrid()"
   ]
  },
  {
   "cell_type": "code",
   "execution_count": 9,
   "metadata": {},
   "outputs": [
    {
     "data": {
      "image/png": "[encoded data removed]",
      "text/plain": [
       "<Figure size 576x576 with 1 Axes>"
      ]
     },
     "metadata": {
      "needs_background": "light"
     },
     "output_type": "display_data"
    }
   ],
   "source": [
    "# First step is to set up the plot\n",
    "fig = plt.figure(figsize=(8, 8))\n",
    "ax = fig.add_subplot(1, 1, 1, aspect='equal')\n",
    "\n",
    "# Next we create an instance of the PlotMapView class\n",
    "mapview = flopy.plot.PlotMapView(model=ml)\n",
    "\n",
    "# Then we can use the plot_grid() method to draw the grid\n",
    "# The return value for this function is a matplotlib LineCollection object,\n",
    "# which could be manipulated (or used) later if necessary.\n",
    "linecollection = mapview.plot_grid()\n",
    "\n",
    "t = ax.set_title(\"Model Grid\")"
   ]
  },
  {
   "cell_type": "markdown",
   "metadata": {},
   "source": [
    "Guardar la grilla como un shapefile:"
   ]
  },
  {
   "cell_type": "code",
   "execution_count": 10,
   "metadata": {},
   "outputs": [
    {
     "name": "stdout",
     "output_type": "stream",
     "text": [
      "wrote GIS/Shapes/MODFLOW_VER_grid_flopy.shp\n"
     ]
    }
   ],
   "source": [
    "ml.modelgrid.write_shapefile('GIS/Shapes/MODFLOW_VER_grid_flopy.shp')"
   ]
  },
  {
   "cell_type": "code",
   "execution_count": 11,
   "metadata": {},
   "outputs": [
    {
     "name": "stderr",
     "output_type": "stream",
     "text": [
      "C:\\Users\\tibun\\Anaconda3\\envs\\acople\\lib\\site-packages\\pyproj\\crs.py:77: FutureWarning: '+init=<authority>:<code>' syntax is deprecated. '<authority>:<code>' is the preferred initialization method.\n",
      "  return _prepare_from_string(\" \".join(pjargs))\n"
     ]
    }
   ],
   "source": [
    "MODFLOW_gdf=gpd.read_file('../GIS/Shapes/MODFLOW_VER_grid_flopy.shp')\n",
    "MODFLOW_gdf.crs={'init': 'epsg:32718'}"
   ]
  },
  {
   "cell_type": "code",
   "execution_count": 12,
   "metadata": {},
   "outputs": [
    {
     "data": {
      "text/html": [
       "<div>\n",
       "<style scoped>\n",
       "    .dataframe tbody tr th:only-of-type {\n",
       "        vertical-align: middle;\n",
       "    }\n",
       "\n",
       "    .dataframe tbody tr th {\n",
       "        vertical-align: top;\n",
       "    }\n",
       "\n",
       "    .dataframe thead th {\n",
       "        text-align: right;\n",
       "    }\n",
       "</style>\n",
       "<table border=\"1\" class=\"dataframe\">\n",
       "  <thead>\n",
       "    <tr style=\"text-align: right;\">\n",
       "      <th></th>\n",
       "      <th>node</th>\n",
       "      <th>row</th>\n",
       "      <th>column</th>\n",
       "      <th>geometry</th>\n",
       "    </tr>\n",
       "  </thead>\n",
       "  <tbody>\n",
       "    <tr>\n",
       "      <th>0</th>\n",
       "      <td>1</td>\n",
       "      <td>1</td>\n",
       "      <td>1</td>\n",
       "      <td>POLYGON ((662916.664 5428427.527, 662921.664 5...</td>\n",
       "    </tr>\n",
       "    <tr>\n",
       "      <th>1</th>\n",
       "      <td>2</td>\n",
       "      <td>1</td>\n",
       "      <td>2</td>\n",
       "      <td>POLYGON ((662921.664 5428427.527, 662926.664 5...</td>\n",
       "    </tr>\n",
       "    <tr>\n",
       "      <th>2</th>\n",
       "      <td>3</td>\n",
       "      <td>1</td>\n",
       "      <td>3</td>\n",
       "      <td>POLYGON ((662926.664 5428427.527, 662931.664 5...</td>\n",
       "    </tr>\n",
       "    <tr>\n",
       "      <th>3</th>\n",
       "      <td>4</td>\n",
       "      <td>1</td>\n",
       "      <td>4</td>\n",
       "      <td>POLYGON ((662931.664 5428427.527, 662936.664 5...</td>\n",
       "    </tr>\n",
       "    <tr>\n",
       "      <th>4</th>\n",
       "      <td>5</td>\n",
       "      <td>1</td>\n",
       "      <td>5</td>\n",
       "      <td>POLYGON ((662936.664 5428427.527, 662941.664 5...</td>\n",
       "    </tr>\n",
       "    <tr>\n",
       "      <th>...</th>\n",
       "      <td>...</td>\n",
       "      <td>...</td>\n",
       "      <td>...</td>\n",
       "      <td>...</td>\n",
       "    </tr>\n",
       "    <tr>\n",
       "      <th>589</th>\n",
       "      <td>590</td>\n",
       "      <td>22</td>\n",
       "      <td>23</td>\n",
       "      <td>POLYGON ((663026.664 5428322.527, 663031.664 5...</td>\n",
       "    </tr>\n",
       "    <tr>\n",
       "      <th>590</th>\n",
       "      <td>591</td>\n",
       "      <td>22</td>\n",
       "      <td>24</td>\n",
       "      <td>POLYGON ((663031.664 5428322.527, 663036.664 5...</td>\n",
       "    </tr>\n",
       "    <tr>\n",
       "      <th>591</th>\n",
       "      <td>592</td>\n",
       "      <td>22</td>\n",
       "      <td>25</td>\n",
       "      <td>POLYGON ((663036.664 5428322.527, 663041.664 5...</td>\n",
       "    </tr>\n",
       "    <tr>\n",
       "      <th>592</th>\n",
       "      <td>593</td>\n",
       "      <td>22</td>\n",
       "      <td>26</td>\n",
       "      <td>POLYGON ((663041.664 5428322.527, 663046.664 5...</td>\n",
       "    </tr>\n",
       "    <tr>\n",
       "      <th>593</th>\n",
       "      <td>594</td>\n",
       "      <td>22</td>\n",
       "      <td>27</td>\n",
       "      <td>POLYGON ((663046.664 5428322.527, 663051.664 5...</td>\n",
       "    </tr>\n",
       "  </tbody>\n",
       "</table>\n",
       "<p>594 rows × 4 columns</p>\n",
       "</div>"
      ],
      "text/plain": [
       "     node  row  column                                           geometry\n",
       "0       1    1       1  POLYGON ((662916.664 5428427.527, 662921.664 5...\n",
       "1       2    1       2  POLYGON ((662921.664 5428427.527, 662926.664 5...\n",
       "2       3    1       3  POLYGON ((662926.664 5428427.527, 662931.664 5...\n",
       "3       4    1       4  POLYGON ((662931.664 5428427.527, 662936.664 5...\n",
       "4       5    1       5  POLYGON ((662936.664 5428427.527, 662941.664 5...\n",
       "..    ...  ...     ...                                                ...\n",
       "589   590   22      23  POLYGON ((663026.664 5428322.527, 663031.664 5...\n",
       "590   591   22      24  POLYGON ((663031.664 5428322.527, 663036.664 5...\n",
       "591   592   22      25  POLYGON ((663036.664 5428322.527, 663041.664 5...\n",
       "592   593   22      26  POLYGON ((663041.664 5428322.527, 663046.664 5...\n",
       "593   594   22      27  POLYGON ((663046.664 5428322.527, 663051.664 5...\n",
       "\n",
       "[594 rows x 4 columns]"
      ]
     },
     "execution_count": 12,
     "metadata": {},
     "output_type": "execute_result"
    }
   ],
   "source": [
    "MODFLOW_gdf"
   ]
  },
  {
   "cell_type": "markdown",
   "metadata": {},
   "source": [
    "Definimos los centroides de cada celda de la capa superior para hacer la georrferenciación celda-subcuenca evitando la superposición o doble conteo."
   ]
  },
  {
   "cell_type": "code",
   "execution_count": 13,
   "metadata": {},
   "outputs": [
    {
     "name": "stderr",
     "output_type": "stream",
     "text": [
      "C:\\Users\\tibun\\Anaconda3\\envs\\acople\\lib\\site-packages\\pyproj\\crs.py:77: FutureWarning: '+init=<authority>:<code>' syntax is deprecated. '<authority>:<code>' is the preferred initialization method.\n",
      "  return _prepare_from_string(\" \".join(pjargs))\n"
     ]
    }
   ],
   "source": [
    "MODFLOW_centroid=gpd.GeoDataFrame()\n",
    "MODFLOW_centroid[\"geometry\"]=MODFLOW_gdf[\"geometry\"].centroid\n",
    "MODFLOW_centroid[\"node\"]=MODFLOW_gdf[\"node\"]\n",
    "MODFLOW_centroid.crs = {'init': 'epsg:32718'}"
   ]
  },
  {
   "cell_type": "markdown",
   "metadata": {},
   "source": [
    "### Apply Elevation"
   ]
  },
  {
   "cell_type": "markdown",
   "metadata": {},
   "source": [
    "Importamos los shapes que definen condiciones de borde, iniciales, elevación, entre otros."
   ]
  },
  {
   "cell_type": "code",
   "execution_count": 15,
   "metadata": {},
   "outputs": [],
   "source": [
    "active_subcuenca_gdf=gpd.read_file('GIS/Shapes/SUBCUENCA_VER.shp')\n",
    "active_humedal_gdf=gpd.read_file('GIS/Shapes/HUMEDAL_VER_X2.shp')\n",
    "active_out_gdf=gpd.read_file('GIS/Shapes/OUT_X2.shp')"
   ]
  },
  {
   "cell_type": "code",
   "execution_count": 16,
   "metadata": {},
   "outputs": [
    {
     "data": {
      "text/plain": [
       "(<AxesSubplot:>, <AxesSubplot:>, <AxesSubplot:>)"
      ]
     },
     "execution_count": 16,
     "metadata": {},
     "output_type": "execute_result"
    },
    {
     "data": {
      "image/png": "[encoded data removed]",
      "text/plain": [
       "<Figure size 432x288 with 1 Axes>"
      ]
     },
     "metadata": {
      "needs_background": "light"
     },
     "output_type": "display_data"
    },
    {
     "data": {
      "image/png": "[encoded data removed]",
      "text/plain": [
       "<Figure size 432x288 with 1 Axes>"
      ]
     },
     "metadata": {
      "needs_background": "light"
     },
     "output_type": "display_data"
    },
    {
     "data": {
      "image/png": "[encoded data removed]",
      "text/plain": [
       "<Figure size 432x288 with 1 Axes>"
      ]
     },
     "metadata": {
      "needs_background": "light"
     },
     "output_type": "display_data"
    }
   ],
   "source": [
    "active_subcuenca_gdf.plot(), active_humedal_gdf.plot(), active_out_gdf.plot()"
   ]
  },
  {
   "cell_type": "markdown",
   "metadata": {},
   "source": [
    "Georeferenciación de condiciones:"
   ]
  },
  {
   "cell_type": "code",
   "execution_count": 17,
   "metadata": {},
   "outputs": [],
   "source": [
    "contained_actived_subcuenca_gdf=gpd.sjoin(MODFLOW_centroid, active_subcuenca_gdf, how=\"inner\", op='intersects')\n",
    "MODFLOW_gdf['active_s']=MODFLOW_gdf.index.isin(contained_actived_subcuenca_gdf.index.values.tolist())\n",
    "contained_actived_humedal_gdf=gpd.sjoin(MODFLOW_centroid, active_humedal_gdf, how=\"inner\", op='intersects')\n",
    "MODFLOW_gdf['active_h']=MODFLOW_gdf.index.isin(contained_actived_humedal_gdf.index.values.tolist())\n",
    "contained_out_gdf=gpd.sjoin(MODFLOW_gdf, active_out_gdf, how=\"inner\", op='intersects')\n",
    "MODFLOW_gdf['out']=MODFLOW_gdf.index.isin(contained_out_gdf.index.values.tolist())"
   ]
  },
  {
   "cell_type": "code",
   "execution_count": 18,
   "metadata": {},
   "outputs": [
    {
     "data": {
      "text/html": [
       "<div>\n",
       "<style scoped>\n",
       "    .dataframe tbody tr th:only-of-type {\n",
       "        vertical-align: middle;\n",
       "    }\n",
       "\n",
       "    .dataframe tbody tr th {\n",
       "        vertical-align: top;\n",
       "    }\n",
       "\n",
       "    .dataframe thead th {\n",
       "        text-align: right;\n",
       "    }\n",
       "</style>\n",
       "<table border=\"1\" class=\"dataframe\">\n",
       "  <thead>\n",
       "    <tr style=\"text-align: right;\">\n",
       "      <th></th>\n",
       "      <th>node</th>\n",
       "      <th>row</th>\n",
       "      <th>column</th>\n",
       "      <th>geometry</th>\n",
       "      <th>active_s</th>\n",
       "      <th>active_h</th>\n",
       "      <th>out</th>\n",
       "    </tr>\n",
       "  </thead>\n",
       "  <tbody>\n",
       "    <tr>\n",
       "      <th>0</th>\n",
       "      <td>1</td>\n",
       "      <td>1</td>\n",
       "      <td>1</td>\n",
       "      <td>POLYGON ((662916.664 5428427.527, 662921.664 5...</td>\n",
       "      <td>False</td>\n",
       "      <td>False</td>\n",
       "      <td>False</td>\n",
       "    </tr>\n",
       "    <tr>\n",
       "      <th>1</th>\n",
       "      <td>2</td>\n",
       "      <td>1</td>\n",
       "      <td>2</td>\n",
       "      <td>POLYGON ((662921.664 5428427.527, 662926.664 5...</td>\n",
       "      <td>False</td>\n",
       "      <td>False</td>\n",
       "      <td>False</td>\n",
       "    </tr>\n",
       "    <tr>\n",
       "      <th>2</th>\n",
       "      <td>3</td>\n",
       "      <td>1</td>\n",
       "      <td>3</td>\n",
       "      <td>POLYGON ((662926.664 5428427.527, 662931.664 5...</td>\n",
       "      <td>False</td>\n",
       "      <td>False</td>\n",
       "      <td>False</td>\n",
       "    </tr>\n",
       "    <tr>\n",
       "      <th>3</th>\n",
       "      <td>4</td>\n",
       "      <td>1</td>\n",
       "      <td>4</td>\n",
       "      <td>POLYGON ((662931.664 5428427.527, 662936.664 5...</td>\n",
       "      <td>False</td>\n",
       "      <td>False</td>\n",
       "      <td>False</td>\n",
       "    </tr>\n",
       "    <tr>\n",
       "      <th>4</th>\n",
       "      <td>5</td>\n",
       "      <td>1</td>\n",
       "      <td>5</td>\n",
       "      <td>POLYGON ((662936.664 5428427.527, 662941.664 5...</td>\n",
       "      <td>False</td>\n",
       "      <td>False</td>\n",
       "      <td>False</td>\n",
       "    </tr>\n",
       "    <tr>\n",
       "      <th>...</th>\n",
       "      <td>...</td>\n",
       "      <td>...</td>\n",
       "      <td>...</td>\n",
       "      <td>...</td>\n",
       "      <td>...</td>\n",
       "      <td>...</td>\n",
       "      <td>...</td>\n",
       "    </tr>\n",
       "    <tr>\n",
       "      <th>589</th>\n",
       "      <td>590</td>\n",
       "      <td>22</td>\n",
       "      <td>23</td>\n",
       "      <td>POLYGON ((663026.664 5428322.527, 663031.664 5...</td>\n",
       "      <td>False</td>\n",
       "      <td>False</td>\n",
       "      <td>False</td>\n",
       "    </tr>\n",
       "    <tr>\n",
       "      <th>590</th>\n",
       "      <td>591</td>\n",
       "      <td>22</td>\n",
       "      <td>24</td>\n",
       "      <td>POLYGON ((663031.664 5428322.527, 663036.664 5...</td>\n",
       "      <td>False</td>\n",
       "      <td>False</td>\n",
       "      <td>False</td>\n",
       "    </tr>\n",
       "    <tr>\n",
       "      <th>591</th>\n",
       "      <td>592</td>\n",
       "      <td>22</td>\n",
       "      <td>25</td>\n",
       "      <td>POLYGON ((663036.664 5428322.527, 663041.664 5...</td>\n",
       "      <td>False</td>\n",
       "      <td>False</td>\n",
       "      <td>False</td>\n",
       "    </tr>\n",
       "    <tr>\n",
       "      <th>592</th>\n",
       "      <td>593</td>\n",
       "      <td>22</td>\n",
       "      <td>26</td>\n",
       "      <td>POLYGON ((663041.664 5428322.527, 663046.664 5...</td>\n",
       "      <td>False</td>\n",
       "      <td>False</td>\n",
       "      <td>False</td>\n",
       "    </tr>\n",
       "    <tr>\n",
       "      <th>593</th>\n",
       "      <td>594</td>\n",
       "      <td>22</td>\n",
       "      <td>27</td>\n",
       "      <td>POLYGON ((663046.664 5428322.527, 663051.664 5...</td>\n",
       "      <td>False</td>\n",
       "      <td>False</td>\n",
       "      <td>False</td>\n",
       "    </tr>\n",
       "  </tbody>\n",
       "</table>\n",
       "<p>594 rows × 7 columns</p>\n",
       "</div>"
      ],
      "text/plain": [
       "     node  row  column                                           geometry  \\\n",
       "0       1    1       1  POLYGON ((662916.664 5428427.527, 662921.664 5...   \n",
       "1       2    1       2  POLYGON ((662921.664 5428427.527, 662926.664 5...   \n",
       "2       3    1       3  POLYGON ((662926.664 5428427.527, 662931.664 5...   \n",
       "3       4    1       4  POLYGON ((662931.664 5428427.527, 662936.664 5...   \n",
       "4       5    1       5  POLYGON ((662936.664 5428427.527, 662941.664 5...   \n",
       "..    ...  ...     ...                                                ...   \n",
       "589   590   22      23  POLYGON ((663026.664 5428322.527, 663031.664 5...   \n",
       "590   591   22      24  POLYGON ((663031.664 5428322.527, 663036.664 5...   \n",
       "591   592   22      25  POLYGON ((663036.664 5428322.527, 663041.664 5...   \n",
       "592   593   22      26  POLYGON ((663041.664 5428322.527, 663046.664 5...   \n",
       "593   594   22      27  POLYGON ((663046.664 5428322.527, 663051.664 5...   \n",
       "\n",
       "     active_s  active_h    out  \n",
       "0       False     False  False  \n",
       "1       False     False  False  \n",
       "2       False     False  False  \n",
       "3       False     False  False  \n",
       "4       False     False  False  \n",
       "..        ...       ...    ...  \n",
       "589     False     False  False  \n",
       "590     False     False  False  \n",
       "591     False     False  False  \n",
       "592     False     False  False  \n",
       "593     False     False  False  \n",
       "\n",
       "[594 rows x 7 columns]"
      ]
     },
     "execution_count": 18,
     "metadata": {},
     "output_type": "execute_result"
    }
   ],
   "source": [
    "MODFLOW_gdf"
   ]
  },
  {
   "cell_type": "code",
   "execution_count": 19,
   "metadata": {},
   "outputs": [],
   "source": [
    "MODFLOW_gdf['top']=0"
   ]
  },
  {
   "cell_type": "code",
   "execution_count": 20,
   "metadata": {},
   "outputs": [],
   "source": [
    "MODFLOW_gdf.loc[MODFLOW_gdf.active_s == True, 'top'] = 0\n",
    "MODFLOW_gdf.loc[MODFLOW_gdf.active_h == True, 'top'] = -2 #este valor debe coincidir con la profundidad del humedal\n",
    "MODFLOW_gdf.loc[MODFLOW_gdf.out == True, 'top'] = -2.5"
   ]
  },
  {
   "cell_type": "markdown",
   "metadata": {},
   "source": [
    "Contrucción de la matriz \"top\" para DIS package:"
   ]
  },
  {
   "cell_type": "code",
   "execution_count": 21,
   "metadata": {},
   "outputs": [
    {
     "data": {
      "text/plain": [
       "array([[[ 0. ,  0. ,  0. ,  0. ,  0. ,  0. ,  0. ,  0. ,  0. ,  0. ,\n",
       "          0. ,  0. ,  0. ,  0. ,  0. ,  0. ,  0. ,  0. ,  0. ,  0. ,\n",
       "          0. ,  0. ,  0. ,  0. ,  0. ,  0. ,  0. ],\n",
       "        [ 0. ,  0. ,  0. ,  0. ,  0. ,  0. ,  0. ,  0. ,  0. ,  0. ,\n",
       "          0. ,  0. ,  0. ,  0. ,  0. ,  0. ,  0. ,  0. ,  0. ,  0. ,\n",
       "          0. ,  0. ,  0. ,  0. ,  0. ,  0. ,  0. ],\n",
       "        [ 0. ,  0. ,  0. ,  0. ,  0. ,  0. ,  0. ,  0. ,  0. ,  0. ,\n",
       "          0. ,  0. ,  0. ,  0. ,  0. ,  0. ,  0. ,  0. ,  0. ,  0. ,\n",
       "          0. ,  0. ,  0. ,  0. ,  0. ,  0. ,  0. ],\n",
       "        [ 0. ,  0. ,  0. ,  0. ,  0. ,  0. ,  0. ,  0. ,  0. ,  0. ,\n",
       "          0. ,  0. ,  0. ,  0. ,  0. ,  0. ,  0. ,  0. ,  0. ,  0. ,\n",
       "          0. ,  0. ,  0. ,  0. ,  0. ,  0. ,  0. ],\n",
       "        [ 0. ,  0. ,  0. ,  0. ,  0. ,  0. ,  0. ,  0. ,  0. ,  0. ,\n",
       "          0. ,  0. ,  0. ,  0. ,  0. ,  0. ,  0. ,  0. ,  0. ,  0. ,\n",
       "          0. ,  0. ,  0. ,  0. ,  0. ,  0. ,  0. ],\n",
       "        [ 0. ,  0. ,  0. ,  0. ,  0. ,  0. ,  0. ,  0. ,  0. ,  0. ,\n",
       "          0. ,  0. ,  0. ,  0. ,  0. ,  0. ,  0. ,  0. ,  0. ,  0. ,\n",
       "          0. ,  0. ,  0. ,  0. ,  0. ,  0. ,  0. ],\n",
       "        [ 0. ,  0. ,  0. ,  0. ,  0. ,  0. ,  0. ,  0. ,  0. ,  0. ,\n",
       "          0. ,  0. ,  0. ,  0. ,  0. ,  0. ,  0. ,  0. ,  0. ,  0. ,\n",
       "          0. , -2. , -2. , -2. , -2. ,  0. ,  0. ],\n",
       "        [ 0. ,  0. ,  0. ,  0. ,  0. ,  0. ,  0. ,  0. ,  0. ,  0. ,\n",
       "          0. ,  0. ,  0. ,  0. ,  0. ,  0. ,  0. ,  0. ,  0. ,  0. ,\n",
       "          0. , -2. , -2. , -2. , -2. ,  0. ,  0. ],\n",
       "        [ 0. ,  0. ,  0. ,  0. ,  0. ,  0. ,  0. ,  0. ,  0. ,  0. ,\n",
       "          0. ,  0. ,  0. ,  0. ,  0. ,  0. ,  0. ,  0. ,  0. ,  0. ,\n",
       "          0. , -2. , -2. , -2. , -2. ,  0. ,  0. ],\n",
       "        [ 0. ,  0. ,  0. ,  0. ,  0. ,  0. ,  0. ,  0. ,  0. ,  0. ,\n",
       "          0. ,  0. ,  0. ,  0. ,  0. ,  0. ,  0. ,  0. ,  0. ,  0. ,\n",
       "          0. , -2. , -2. , -2. , -2. ,  0. ,  0. ],\n",
       "        [ 0. ,  0. ,  0. ,  0. ,  0. ,  0. ,  0. ,  0. ,  0. ,  0. ,\n",
       "          0. ,  0. ,  0. ,  0. ,  0. ,  0. ,  0. ,  0. ,  0. ,  0. ,\n",
       "          0. , -2. , -2. , -2. , -2. ,  0. ,  0. ],\n",
       "        [ 0. ,  0. ,  0. ,  0. ,  0. ,  0. ,  0. ,  0. ,  0. ,  0. ,\n",
       "          0. ,  0. ,  0. ,  0. ,  0. ,  0. ,  0. ,  0. ,  0. ,  0. ,\n",
       "          0. , -2. , -2. , -2. , -2. ,  0. ,  0. ],\n",
       "        [ 0. ,  0. ,  0. ,  0. ,  0. ,  0. ,  0. ,  0. ,  0. ,  0. ,\n",
       "          0. ,  0. ,  0. ,  0. ,  0. ,  0. ,  0. ,  0. ,  0. ,  0. ,\n",
       "          0. , -2. , -2. , -2. , -2. ,  0. ,  0. ],\n",
       "        [ 0. ,  0. ,  0. ,  0. ,  0. ,  0. ,  0. ,  0. ,  0. ,  0. ,\n",
       "          0. ,  0. ,  0. ,  0. ,  0. ,  0. ,  0. ,  0. ,  0. ,  0. ,\n",
       "          0. , -2. , -2. , -2. , -2. ,  0. ,  0. ],\n",
       "        [ 0. ,  0. ,  0. ,  0. ,  0. ,  0. ,  0. ,  0. ,  0. ,  0. ,\n",
       "          0. ,  0. ,  0. ,  0. ,  0. ,  0. ,  0. ,  0. ,  0. ,  0. ,\n",
       "          0. , -2. , -2. , -2. , -2. ,  0. ,  0. ],\n",
       "        [ 0. ,  0. ,  0. ,  0. ,  0. ,  0. ,  0. ,  0. ,  0. ,  0. ,\n",
       "          0. ,  0. ,  0. ,  0. ,  0. ,  0. ,  0. ,  0. ,  0. ,  0. ,\n",
       "          0. , -2. , -2. , -2. , -2. ,  0. ,  0. ],\n",
       "        [ 0. ,  0. ,  0. ,  0. ,  0. ,  0. ,  0. ,  0. ,  0. ,  0. ,\n",
       "          0. ,  0. ,  0. ,  0. ,  0. ,  0. ,  0. ,  0. ,  0. ,  0. ,\n",
       "          0. ,  0. ,  0. , -2.5, -2.5,  0. ,  0. ],\n",
       "        [ 0. ,  0. ,  0. ,  0. ,  0. ,  0. ,  0. ,  0. ,  0. ,  0. ,\n",
       "          0. ,  0. ,  0. ,  0. ,  0. ,  0. ,  0. ,  0. ,  0. ,  0. ,\n",
       "          0. ,  0. ,  0. , -2.5, -2.5,  0. ,  0. ],\n",
       "        [ 0. ,  0. ,  0. ,  0. ,  0. ,  0. ,  0. ,  0. ,  0. ,  0. ,\n",
       "          0. ,  0. ,  0. ,  0. ,  0. ,  0. ,  0. ,  0. ,  0. ,  0. ,\n",
       "          0. ,  0. ,  0. ,  0. ,  0. ,  0. ,  0. ],\n",
       "        [ 0. ,  0. ,  0. ,  0. ,  0. ,  0. ,  0. ,  0. ,  0. ,  0. ,\n",
       "          0. ,  0. ,  0. ,  0. ,  0. ,  0. ,  0. ,  0. ,  0. ,  0. ,\n",
       "          0. ,  0. ,  0. ,  0. ,  0. ,  0. ,  0. ],\n",
       "        [ 0. ,  0. ,  0. ,  0. ,  0. ,  0. ,  0. ,  0. ,  0. ,  0. ,\n",
       "          0. ,  0. ,  0. ,  0. ,  0. ,  0. ,  0. ,  0. ,  0. ,  0. ,\n",
       "          0. ,  0. ,  0. ,  0. ,  0. ,  0. ,  0. ],\n",
       "        [ 0. ,  0. ,  0. ,  0. ,  0. ,  0. ,  0. ,  0. ,  0. ,  0. ,\n",
       "          0. ,  0. ,  0. ,  0. ,  0. ,  0. ,  0. ,  0. ,  0. ,  0. ,\n",
       "          0. ,  0. ,  0. ,  0. ,  0. ,  0. ,  0. ]]])"
      ]
     },
     "execution_count": 21,
     "metadata": {},
     "output_type": "execute_result"
    }
   ],
   "source": [
    "top = np.ones((nlay,nrows,ncols)) \n",
    "\n",
    "for index, row in MODFLOW_gdf.iterrows():\n",
    "    top[:,row['row']-1,row['column']-1] = row['top']\n",
    "top"
   ]
  },
  {
   "cell_type": "markdown",
   "metadata": {},
   "source": [
    "### Create DIS package object"
   ]
  },
  {
   "cell_type": "code",
   "execution_count": 22,
   "metadata": {},
   "outputs": [
    {
     "name": "stdout",
     "output_type": "stream",
     "text": [
      "WARNING: unit 11 of package DIS already in use\n",
      "****Warning -- two packages of the same type:  <class 'flopy.modflow.mfdis.ModflowDis'> <class 'flopy.modflow.mfdis.ModflowDis'>\n",
      "replacing existing Package...\n"
     ]
    }
   ],
   "source": [
    "dis = flopy.modflow.ModflowDis(\n",
    "    ml, nlay=nlay, nrow=nrows, ncol=ncols,\n",
    "    delr=delr, delc=delc, top=top, botm=bottom,\n",
    "    nper=nper, perlen=perlen, nstp=nstp, steady=steady)"
   ]
  },
  {
   "cell_type": "code",
   "execution_count": 23,
   "metadata": {},
   "outputs": [
    {
     "data": {
      "text/plain": [
       "[<AxesSubplot:title={'center':' model_top'}>,\n",
       " <AxesSubplot:title={'center':'botm layer 1'}>,\n",
       " <AxesSubplot:title={'center':'thickness layer 1'}>]"
      ]
     },
     "execution_count": 23,
     "metadata": {},
     "output_type": "execute_result"
    },
    {
     "data": {
      "image/png": "[encoded data removed]",
      "text/plain": [
       "<Figure size 432x288 with 2 Axes>"
      ]
     },
     "metadata": {
      "needs_background": "light"
     },
     "output_type": "display_data"
    },
    {
     "data": {
      "image/png": "[encoded data removed]",
      "text/plain": [
       "<Figure size 432x288 with 2 Axes>"
      ]
     },
     "metadata": {
      "needs_background": "light"
     },
     "output_type": "display_data"
    },
    {
     "data": {
      "image/png": "[encoded data removed]",
      "text/plain": [
       "<Figure size 432x288 with 2 Axes>"
      ]
     },
     "metadata": {
      "needs_background": "light"
     },
     "output_type": "display_data"
    }
   ],
   "source": [
    "dis.plot()"
   ]
  },
  {
   "cell_type": "markdown",
   "metadata": {},
   "source": [
    "## BAS package: Active model area and (boundry conditions?)"
   ]
  },
  {
   "cell_type": "markdown",
   "metadata": {},
   "source": [
    "Condiciones de Borde extremo derecho (LAGO)"
   ]
  },
  {
   "cell_type": "code",
   "execution_count": 24,
   "metadata": {},
   "outputs": [],
   "source": [
    "BC_lago_gdf=gpd.read_file('GIS/Shapes/LAGO_VER.shp')\n",
    "contained_BC_lago_gdf=gpd.sjoin(MODFLOW_centroid, BC_lago_gdf, how=\"inner\", op='intersects')\n",
    "MODFLOW_gdf['BC_lago']=MODFLOW_gdf.index.isin(contained_BC_lago_gdf.index.values.tolist())"
   ]
  },
  {
   "cell_type": "code",
   "execution_count": 25,
   "metadata": {},
   "outputs": [
    {
     "data": {
      "text/html": [
       "<div>\n",
       "<style scoped>\n",
       "    .dataframe tbody tr th:only-of-type {\n",
       "        vertical-align: middle;\n",
       "    }\n",
       "\n",
       "    .dataframe tbody tr th {\n",
       "        vertical-align: top;\n",
       "    }\n",
       "\n",
       "    .dataframe thead th {\n",
       "        text-align: right;\n",
       "    }\n",
       "</style>\n",
       "<table border=\"1\" class=\"dataframe\">\n",
       "  <thead>\n",
       "    <tr style=\"text-align: right;\">\n",
       "      <th></th>\n",
       "      <th>node</th>\n",
       "      <th>row</th>\n",
       "      <th>column</th>\n",
       "      <th>geometry</th>\n",
       "      <th>active_s</th>\n",
       "      <th>active_h</th>\n",
       "      <th>out</th>\n",
       "      <th>top</th>\n",
       "      <th>BC_lago</th>\n",
       "      <th>ibound</th>\n",
       "    </tr>\n",
       "  </thead>\n",
       "  <tbody>\n",
       "    <tr>\n",
       "      <th>0</th>\n",
       "      <td>1</td>\n",
       "      <td>1</td>\n",
       "      <td>1</td>\n",
       "      <td>POLYGON ((662916.664 5428427.527, 662921.664 5...</td>\n",
       "      <td>False</td>\n",
       "      <td>False</td>\n",
       "      <td>False</td>\n",
       "      <td>0.0</td>\n",
       "      <td>False</td>\n",
       "      <td>0</td>\n",
       "    </tr>\n",
       "    <tr>\n",
       "      <th>1</th>\n",
       "      <td>2</td>\n",
       "      <td>1</td>\n",
       "      <td>2</td>\n",
       "      <td>POLYGON ((662921.664 5428427.527, 662926.664 5...</td>\n",
       "      <td>False</td>\n",
       "      <td>False</td>\n",
       "      <td>False</td>\n",
       "      <td>0.0</td>\n",
       "      <td>False</td>\n",
       "      <td>0</td>\n",
       "    </tr>\n",
       "    <tr>\n",
       "      <th>2</th>\n",
       "      <td>3</td>\n",
       "      <td>1</td>\n",
       "      <td>3</td>\n",
       "      <td>POLYGON ((662926.664 5428427.527, 662931.664 5...</td>\n",
       "      <td>False</td>\n",
       "      <td>False</td>\n",
       "      <td>False</td>\n",
       "      <td>0.0</td>\n",
       "      <td>False</td>\n",
       "      <td>0</td>\n",
       "    </tr>\n",
       "    <tr>\n",
       "      <th>3</th>\n",
       "      <td>4</td>\n",
       "      <td>1</td>\n",
       "      <td>4</td>\n",
       "      <td>POLYGON ((662931.664 5428427.527, 662936.664 5...</td>\n",
       "      <td>False</td>\n",
       "      <td>False</td>\n",
       "      <td>False</td>\n",
       "      <td>0.0</td>\n",
       "      <td>False</td>\n",
       "      <td>0</td>\n",
       "    </tr>\n",
       "    <tr>\n",
       "      <th>4</th>\n",
       "      <td>5</td>\n",
       "      <td>1</td>\n",
       "      <td>5</td>\n",
       "      <td>POLYGON ((662936.664 5428427.527, 662941.664 5...</td>\n",
       "      <td>False</td>\n",
       "      <td>False</td>\n",
       "      <td>False</td>\n",
       "      <td>0.0</td>\n",
       "      <td>False</td>\n",
       "      <td>0</td>\n",
       "    </tr>\n",
       "  </tbody>\n",
       "</table>\n",
       "</div>"
      ],
      "text/plain": [
       "   node  row  column                                           geometry  \\\n",
       "0     1    1       1  POLYGON ((662916.664 5428427.527, 662921.664 5...   \n",
       "1     2    1       2  POLYGON ((662921.664 5428427.527, 662926.664 5...   \n",
       "2     3    1       3  POLYGON ((662926.664 5428427.527, 662931.664 5...   \n",
       "3     4    1       4  POLYGON ((662931.664 5428427.527, 662936.664 5...   \n",
       "4     5    1       5  POLYGON ((662936.664 5428427.527, 662941.664 5...   \n",
       "\n",
       "   active_s  active_h    out  top  BC_lago  ibound  \n",
       "0     False     False  False  0.0    False       0  \n",
       "1     False     False  False  0.0    False       0  \n",
       "2     False     False  False  0.0    False       0  \n",
       "3     False     False  False  0.0    False       0  \n",
       "4     False     False  False  0.0    False       0  "
      ]
     },
     "execution_count": 25,
     "metadata": {},
     "output_type": "execute_result"
    }
   ],
   "source": [
    "MODFLOW_gdf['ibound']=0\n",
    "MODFLOW_gdf.head()"
   ]
  },
  {
   "cell_type": "code",
   "execution_count": 26,
   "metadata": {},
   "outputs": [],
   "source": [
    "MODFLOW_gdf.loc[MODFLOW_gdf.active_s == True, 'ibound'] = 1\n",
    "MODFLOW_gdf.loc[MODFLOW_gdf.active_h == True, 'ibound'] = 1\n",
    "MODFLOW_gdf.loc[MODFLOW_gdf.BC_lago == True, 'ibound'] = -1\n",
    "MODFLOW_gdf.loc[MODFLOW_gdf.out == True, 'ibound'] = 1"
   ]
  },
  {
   "cell_type": "code",
   "execution_count": 27,
   "metadata": {},
   "outputs": [
    {
     "data": {
      "text/html": [
       "<div>\n",
       "<style scoped>\n",
       "    .dataframe tbody tr th:only-of-type {\n",
       "        vertical-align: middle;\n",
       "    }\n",
       "\n",
       "    .dataframe tbody tr th {\n",
       "        vertical-align: top;\n",
       "    }\n",
       "\n",
       "    .dataframe thead th {\n",
       "        text-align: right;\n",
       "    }\n",
       "</style>\n",
       "<table border=\"1\" class=\"dataframe\">\n",
       "  <thead>\n",
       "    <tr style=\"text-align: right;\">\n",
       "      <th></th>\n",
       "      <th>node</th>\n",
       "      <th>row</th>\n",
       "      <th>column</th>\n",
       "      <th>geometry</th>\n",
       "      <th>active_s</th>\n",
       "      <th>active_h</th>\n",
       "      <th>out</th>\n",
       "      <th>top</th>\n",
       "      <th>BC_lago</th>\n",
       "      <th>ibound</th>\n",
       "    </tr>\n",
       "  </thead>\n",
       "  <tbody>\n",
       "    <tr>\n",
       "      <th>0</th>\n",
       "      <td>1</td>\n",
       "      <td>1</td>\n",
       "      <td>1</td>\n",
       "      <td>POLYGON ((662916.664 5428427.527, 662921.664 5...</td>\n",
       "      <td>False</td>\n",
       "      <td>False</td>\n",
       "      <td>False</td>\n",
       "      <td>0.0</td>\n",
       "      <td>False</td>\n",
       "      <td>0</td>\n",
       "    </tr>\n",
       "    <tr>\n",
       "      <th>1</th>\n",
       "      <td>2</td>\n",
       "      <td>1</td>\n",
       "      <td>2</td>\n",
       "      <td>POLYGON ((662921.664 5428427.527, 662926.664 5...</td>\n",
       "      <td>False</td>\n",
       "      <td>False</td>\n",
       "      <td>False</td>\n",
       "      <td>0.0</td>\n",
       "      <td>False</td>\n",
       "      <td>0</td>\n",
       "    </tr>\n",
       "    <tr>\n",
       "      <th>2</th>\n",
       "      <td>3</td>\n",
       "      <td>1</td>\n",
       "      <td>3</td>\n",
       "      <td>POLYGON ((662926.664 5428427.527, 662931.664 5...</td>\n",
       "      <td>False</td>\n",
       "      <td>False</td>\n",
       "      <td>False</td>\n",
       "      <td>0.0</td>\n",
       "      <td>False</td>\n",
       "      <td>0</td>\n",
       "    </tr>\n",
       "    <tr>\n",
       "      <th>3</th>\n",
       "      <td>4</td>\n",
       "      <td>1</td>\n",
       "      <td>4</td>\n",
       "      <td>POLYGON ((662931.664 5428427.527, 662936.664 5...</td>\n",
       "      <td>False</td>\n",
       "      <td>False</td>\n",
       "      <td>False</td>\n",
       "      <td>0.0</td>\n",
       "      <td>False</td>\n",
       "      <td>0</td>\n",
       "    </tr>\n",
       "    <tr>\n",
       "      <th>4</th>\n",
       "      <td>5</td>\n",
       "      <td>1</td>\n",
       "      <td>5</td>\n",
       "      <td>POLYGON ((662936.664 5428427.527, 662941.664 5...</td>\n",
       "      <td>False</td>\n",
       "      <td>False</td>\n",
       "      <td>False</td>\n",
       "      <td>0.0</td>\n",
       "      <td>False</td>\n",
       "      <td>0</td>\n",
       "    </tr>\n",
       "    <tr>\n",
       "      <th>...</th>\n",
       "      <td>...</td>\n",
       "      <td>...</td>\n",
       "      <td>...</td>\n",
       "      <td>...</td>\n",
       "      <td>...</td>\n",
       "      <td>...</td>\n",
       "      <td>...</td>\n",
       "      <td>...</td>\n",
       "      <td>...</td>\n",
       "      <td>...</td>\n",
       "    </tr>\n",
       "    <tr>\n",
       "      <th>589</th>\n",
       "      <td>590</td>\n",
       "      <td>22</td>\n",
       "      <td>23</td>\n",
       "      <td>POLYGON ((663026.664 5428322.527, 663031.664 5...</td>\n",
       "      <td>False</td>\n",
       "      <td>False</td>\n",
       "      <td>False</td>\n",
       "      <td>0.0</td>\n",
       "      <td>False</td>\n",
       "      <td>0</td>\n",
       "    </tr>\n",
       "    <tr>\n",
       "      <th>590</th>\n",
       "      <td>591</td>\n",
       "      <td>22</td>\n",
       "      <td>24</td>\n",
       "      <td>POLYGON ((663031.664 5428322.527, 663036.664 5...</td>\n",
       "      <td>False</td>\n",
       "      <td>False</td>\n",
       "      <td>False</td>\n",
       "      <td>0.0</td>\n",
       "      <td>False</td>\n",
       "      <td>0</td>\n",
       "    </tr>\n",
       "    <tr>\n",
       "      <th>591</th>\n",
       "      <td>592</td>\n",
       "      <td>22</td>\n",
       "      <td>25</td>\n",
       "      <td>POLYGON ((663036.664 5428322.527, 663041.664 5...</td>\n",
       "      <td>False</td>\n",
       "      <td>False</td>\n",
       "      <td>False</td>\n",
       "      <td>0.0</td>\n",
       "      <td>False</td>\n",
       "      <td>0</td>\n",
       "    </tr>\n",
       "    <tr>\n",
       "      <th>592</th>\n",
       "      <td>593</td>\n",
       "      <td>22</td>\n",
       "      <td>26</td>\n",
       "      <td>POLYGON ((663041.664 5428322.527, 663046.664 5...</td>\n",
       "      <td>False</td>\n",
       "      <td>False</td>\n",
       "      <td>False</td>\n",
       "      <td>0.0</td>\n",
       "      <td>False</td>\n",
       "      <td>0</td>\n",
       "    </tr>\n",
       "    <tr>\n",
       "      <th>593</th>\n",
       "      <td>594</td>\n",
       "      <td>22</td>\n",
       "      <td>27</td>\n",
       "      <td>POLYGON ((663046.664 5428322.527, 663051.664 5...</td>\n",
       "      <td>False</td>\n",
       "      <td>False</td>\n",
       "      <td>False</td>\n",
       "      <td>0.0</td>\n",
       "      <td>False</td>\n",
       "      <td>0</td>\n",
       "    </tr>\n",
       "  </tbody>\n",
       "</table>\n",
       "<p>594 rows × 10 columns</p>\n",
       "</div>"
      ],
      "text/plain": [
       "     node  row  column                                           geometry  \\\n",
       "0       1    1       1  POLYGON ((662916.664 5428427.527, 662921.664 5...   \n",
       "1       2    1       2  POLYGON ((662921.664 5428427.527, 662926.664 5...   \n",
       "2       3    1       3  POLYGON ((662926.664 5428427.527, 662931.664 5...   \n",
       "3       4    1       4  POLYGON ((662931.664 5428427.527, 662936.664 5...   \n",
       "4       5    1       5  POLYGON ((662936.664 5428427.527, 662941.664 5...   \n",
       "..    ...  ...     ...                                                ...   \n",
       "589   590   22      23  POLYGON ((663026.664 5428322.527, 663031.664 5...   \n",
       "590   591   22      24  POLYGON ((663031.664 5428322.527, 663036.664 5...   \n",
       "591   592   22      25  POLYGON ((663036.664 5428322.527, 663041.664 5...   \n",
       "592   593   22      26  POLYGON ((663041.664 5428322.527, 663046.664 5...   \n",
       "593   594   22      27  POLYGON ((663046.664 5428322.527, 663051.664 5...   \n",
       "\n",
       "     active_s  active_h    out  top  BC_lago  ibound  \n",
       "0       False     False  False  0.0    False       0  \n",
       "1       False     False  False  0.0    False       0  \n",
       "2       False     False  False  0.0    False       0  \n",
       "3       False     False  False  0.0    False       0  \n",
       "4       False     False  False  0.0    False       0  \n",
       "..        ...       ...    ...  ...      ...     ...  \n",
       "589     False     False  False  0.0    False       0  \n",
       "590     False     False  False  0.0    False       0  \n",
       "591     False     False  False  0.0    False       0  \n",
       "592     False     False  False  0.0    False       0  \n",
       "593     False     False  False  0.0    False       0  \n",
       "\n",
       "[594 rows x 10 columns]"
      ]
     },
     "execution_count": 27,
     "metadata": {},
     "output_type": "execute_result"
    }
   ],
   "source": [
    "MODFLOW_gdf"
   ]
  },
  {
   "cell_type": "markdown",
   "metadata": {},
   "source": [
    "Create ibound array"
   ]
  },
  {
   "cell_type": "code",
   "execution_count": 28,
   "metadata": {},
   "outputs": [],
   "source": [
    "ibound = np.ones((nlay,nrows,ncols)) \n",
    "\n",
    "for index, row in MODFLOW_gdf.iterrows():\n",
    "    ibound[:,row['row']-1,row['column']-1] = row['ibound']"
   ]
  },
  {
   "cell_type": "code",
   "execution_count": 29,
   "metadata": {},
   "outputs": [
    {
     "data": {
      "text/plain": [
       "array([[[ 0.,  0.,  0.,  0.,  0.,  0.,  0.,  0.,  0.,  0.,  0.,  0.,\n",
       "          0.,  0.,  0.,  0.,  0.,  0.,  0.,  0.,  0.,  0.,  0.,  0.,\n",
       "          0.,  0.,  0.],\n",
       "        [ 0.,  1.,  1.,  1.,  1.,  1.,  1.,  1.,  1.,  1.,  1.,  1.,\n",
       "          1.,  1.,  1.,  1.,  1.,  1.,  1.,  1.,  1.,  0.,  0.,  0.,\n",
       "          0., -1., -1.],\n",
       "        [ 0.,  1.,  1.,  1.,  1.,  1.,  1.,  1.,  1.,  1.,  1.,  1.,\n",
       "          1.,  1.,  1.,  1.,  1.,  1.,  1.,  1.,  1.,  0.,  0.,  0.,\n",
       "          0., -1., -1.],\n",
       "        [ 0.,  1.,  1.,  1.,  1.,  1.,  1.,  1.,  1.,  1.,  1.,  1.,\n",
       "          1.,  1.,  1.,  1.,  1.,  1.,  1.,  1.,  1.,  0.,  0.,  0.,\n",
       "          0., -1., -1.],\n",
       "        [ 0.,  1.,  1.,  1.,  1.,  1.,  1.,  1.,  1.,  1.,  1.,  1.,\n",
       "          1.,  1.,  1.,  1.,  1.,  1.,  1.,  1.,  1.,  0.,  0.,  0.,\n",
       "          0., -1., -1.],\n",
       "        [ 0.,  1.,  1.,  1.,  1.,  1.,  1.,  1.,  1.,  1.,  1.,  1.,\n",
       "          1.,  1.,  1.,  1.,  1.,  1.,  1.,  1.,  1.,  0.,  0.,  0.,\n",
       "          0., -1., -1.],\n",
       "        [ 0.,  1.,  1.,  1.,  1.,  1.,  1.,  1.,  1.,  1.,  1.,  1.,\n",
       "          1.,  1.,  1.,  1.,  1.,  1.,  1.,  1.,  1.,  1.,  1.,  1.,\n",
       "          1., -1., -1.],\n",
       "        [ 0.,  1.,  1.,  1.,  1.,  1.,  1.,  1.,  1.,  1.,  1.,  1.,\n",
       "          1.,  1.,  1.,  1.,  1.,  1.,  1.,  1.,  1.,  1.,  1.,  1.,\n",
       "          1., -1., -1.],\n",
       "        [ 0.,  1.,  1.,  1.,  1.,  1.,  1.,  1.,  1.,  1.,  1.,  1.,\n",
       "          1.,  1.,  1.,  1.,  1.,  1.,  1.,  1.,  1.,  1.,  1.,  1.,\n",
       "          1., -1., -1.],\n",
       "        [ 0.,  1.,  1.,  1.,  1.,  1.,  1.,  1.,  1.,  1.,  1.,  1.,\n",
       "          1.,  1.,  1.,  1.,  1.,  1.,  1.,  1.,  1.,  1.,  1.,  1.,\n",
       "          1., -1., -1.],\n",
       "        [ 0.,  1.,  1.,  1.,  1.,  1.,  1.,  1.,  1.,  1.,  1.,  1.,\n",
       "          1.,  1.,  1.,  1.,  1.,  1.,  1.,  1.,  1.,  1.,  1.,  1.,\n",
       "          1., -1., -1.],\n",
       "        [ 0.,  1.,  1.,  1.,  1.,  1.,  1.,  1.,  1.,  1.,  1.,  1.,\n",
       "          1.,  1.,  1.,  1.,  1.,  1.,  1.,  1.,  1.,  1.,  1.,  1.,\n",
       "          1., -1., -1.],\n",
       "        [ 0.,  1.,  1.,  1.,  1.,  1.,  1.,  1.,  1.,  1.,  1.,  1.,\n",
       "          1.,  1.,  1.,  1.,  1.,  1.,  1.,  1.,  1.,  1.,  1.,  1.,\n",
       "          1., -1., -1.],\n",
       "        [ 0.,  1.,  1.,  1.,  1.,  1.,  1.,  1.,  1.,  1.,  1.,  1.,\n",
       "          1.,  1.,  1.,  1.,  1.,  1.,  1.,  1.,  1.,  1.,  1.,  1.,\n",
       "          1., -1., -1.],\n",
       "        [ 0.,  1.,  1.,  1.,  1.,  1.,  1.,  1.,  1.,  1.,  1.,  1.,\n",
       "          1.,  1.,  1.,  1.,  1.,  1.,  1.,  1.,  1.,  1.,  1.,  1.,\n",
       "          1., -1., -1.],\n",
       "        [ 0.,  1.,  1.,  1.,  1.,  1.,  1.,  1.,  1.,  1.,  1.,  1.,\n",
       "          1.,  1.,  1.,  1.,  1.,  1.,  1.,  1.,  1.,  1.,  1.,  1.,\n",
       "          1., -1., -1.],\n",
       "        [ 0.,  1.,  1.,  1.,  1.,  1.,  1.,  1.,  1.,  1.,  1.,  1.,\n",
       "          1.,  1.,  1.,  1.,  1.,  1.,  1.,  1.,  1.,  0.,  0.,  1.,\n",
       "          1., -1., -1.],\n",
       "        [ 0.,  1.,  1.,  1.,  1.,  1.,  1.,  1.,  1.,  1.,  1.,  1.,\n",
       "          1.,  1.,  1.,  1.,  1.,  1.,  1.,  1.,  1.,  0.,  0.,  1.,\n",
       "          1., -1., -1.],\n",
       "        [ 0.,  1.,  1.,  1.,  1.,  1.,  1.,  1.,  1.,  1.,  1.,  1.,\n",
       "          1.,  1.,  1.,  1.,  1.,  1.,  1.,  1.,  1.,  0.,  0.,  0.,\n",
       "          0., -1., -1.],\n",
       "        [ 0.,  1.,  1.,  1.,  1.,  1.,  1.,  1.,  1.,  1.,  1.,  1.,\n",
       "          1.,  1.,  1.,  1.,  1.,  1.,  1.,  1.,  1.,  0.,  0.,  0.,\n",
       "          0., -1., -1.],\n",
       "        [ 0.,  1.,  1.,  1.,  1.,  1.,  1.,  1.,  1.,  1.,  1.,  1.,\n",
       "          1.,  1.,  1.,  1.,  1.,  1.,  1.,  1.,  1.,  0.,  0.,  0.,\n",
       "          0., -1., -1.],\n",
       "        [ 0.,  0.,  0.,  0.,  0.,  0.,  0.,  0.,  0.,  0.,  0.,  0.,\n",
       "          0.,  0.,  0.,  0.,  0.,  0.,  0.,  0.,  0.,  0.,  0.,  0.,\n",
       "          0.,  0.,  0.]]])"
      ]
     },
     "execution_count": 29,
     "metadata": {},
     "output_type": "execute_result"
    }
   ],
   "source": [
    "ibound"
   ]
  },
  {
   "cell_type": "markdown",
   "metadata": {},
   "source": [
    "### Set initial conditions (strt)"
   ]
  },
  {
   "cell_type": "markdown",
   "metadata": {},
   "source": [
    "Se definen condiciones iniciales siendo coherentes con las condiciones iniciales del modelo superficial (en la unidad de almacenamiento)"
   ]
  },
  {
   "cell_type": "code",
   "execution_count": 30,
   "metadata": {},
   "outputs": [],
   "source": [
    "strt=-2"
   ]
  },
  {
   "cell_type": "markdown",
   "metadata": {},
   "source": [
    "### Create BAS package object"
   ]
  },
  {
   "cell_type": "code",
   "execution_count": 31,
   "metadata": {},
   "outputs": [],
   "source": [
    "bas = flopy.modflow.ModflowBas(ml, ibound=ibound, strt=strt)"
   ]
  },
  {
   "cell_type": "code",
   "execution_count": 32,
   "metadata": {},
   "outputs": [
    {
     "data": {
      "text/plain": [
       "[<AxesSubplot:title={'center':'ibound layer 1'}>,\n",
       " <AxesSubplot:title={'center':'strt layer 1'}>]"
      ]
     },
     "execution_count": 32,
     "metadata": {},
     "output_type": "execute_result"
    },
    {
     "data": {
      "image/png": "[encoded data removed]",
      "text/plain": [
       "<Figure size 432x288 with 2 Axes>"
      ]
     },
     "metadata": {
      "needs_background": "light"
     },
     "output_type": "display_data"
    },
    {
     "data": {
      "image/png": "[encoded data removed]",
      "text/plain": [
       "<Figure size 432x288 with 2 Axes>"
      ]
     },
     "metadata": {
      "needs_background": "light"
     },
     "output_type": "display_data"
    }
   ],
   "source": [
    "bas.plot()"
   ]
  },
  {
   "cell_type": "markdown",
   "metadata": {},
   "source": [
    "## UPW package: Specify properties controlling flow between cells in MODFLOW-NWT"
   ]
  },
  {
   "cell_type": "markdown",
   "metadata": {},
   "source": [
    "Parámetros hidráulicos del acuífero coinciden con los definidos para la subcuenca. Estos corresponden a Marga Limosa (K=1.8 E-6 m/s)."
   ]
  },
  {
   "cell_type": "markdown",
   "metadata": {},
   "source": [
    "Se define ipakcb=53 para generar el archivo .cbc (Zone Bubget)"
   ]
  },
  {
   "cell_type": "code",
   "execution_count": 33,
   "metadata": {},
   "outputs": [],
   "source": [
    "upw = flopy.modflow.ModflowUpw(ml, hk=0.156, sy=0.25, laytyp=1, iphdry=0, ipakcb=53)"
   ]
  },
  {
   "cell_type": "markdown",
   "metadata": {},
   "source": [
    "## RCH package (will be modified on the loop)"
   ]
  },
  {
   "cell_type": "markdown",
   "metadata": {},
   "source": [
    "## DRN package"
   ]
  },
  {
   "cell_type": "code",
   "execution_count": 34,
   "metadata": {},
   "outputs": [],
   "source": [
    "MODFLOW_gdf['DRN']=False\n",
    "MODFLOW_gdf.loc[MODFLOW_gdf.active_h == True, 'DRN'] = True\n",
    "MODFLOW_gdf.loc[MODFLOW_gdf.out == True, 'DRN'] = True"
   ]
  },
  {
   "cell_type": "code",
   "execution_count": 35,
   "metadata": {},
   "outputs": [],
   "source": [
    "MODFLOW_gdf_DRAINS=MODFLOW_gdf.loc[MODFLOW_gdf['DRN'] ==  True]"
   ]
  },
  {
   "cell_type": "code",
   "execution_count": 36,
   "metadata": {},
   "outputs": [
    {
     "data": {
      "text/plain": [
       "array([ True, False])"
      ]
     },
     "execution_count": 36,
     "metadata": {},
     "output_type": "execute_result"
    }
   ],
   "source": [
    "MODFLOW_gdf_DRAINS.active_h.unique()"
   ]
  },
  {
   "cell_type": "markdown",
   "metadata": {},
   "source": [
    "Conductancia definida coincide con los parámetros hidráulicos de Green Ampt para el fondo de la unidad de almacenamiento. Marga arcillo-limosa (K= 2.8 E-7 m/s). Se considera que el agua aflora cuando supera la topografía (DRN_burn_depth=0). Se supone un espesor de sedimentos en el fondo del humedal de 1 m."
   ]
  },
  {
   "cell_type": "code",
   "execution_count": 37,
   "metadata": {},
   "outputs": [],
   "source": [
    "# Burn drains 1m into the DEM\n",
    "DRN_burn_depth=0.\n",
    "\n",
    "# Global parameters needed to calculate drain conductance (see reference MODELMUSE DRN package pane)\n",
    "DRN_L = x_resolution \n",
    "DRN_W = y_resolution\n",
    "DRN_M = 1\n",
    "DRN_K = 0.024 #m/dia\n",
    "\n",
    "DRN_C=DRN_K*DRN_L*DRN_W/DRN_M\n",
    "\n",
    "\n",
    "DRN_stress_period_data=[]\n",
    "\n",
    "for index,row in MODFLOW_gdf_DRAINS.iterrows():\n",
    "    new_row=[0,row[\"row\"]-1,row[\"column\"]-1,row[\"top\"]-DRN_burn_depth,DRN_C]\n",
    "    DRN_stress_period_data.append(new_row)\n",
    "#DRN_stress_period_data"
   ]
  },
  {
   "cell_type": "code",
   "execution_count": 38,
   "metadata": {},
   "outputs": [],
   "source": [
    "drn = flopy.modflow.ModflowDrn(ml, stress_period_data=DRN_stress_period_data,ipakcb=53)"
   ]
  },
  {
   "cell_type": "code",
   "execution_count": 39,
   "metadata": {},
   "outputs": [
    {
     "data": {
      "text/plain": [
       "[<AxesSubplot:title={'center':' DRN location stress period 1 layer 1'}>]"
      ]
     },
     "execution_count": 39,
     "metadata": {},
     "output_type": "execute_result"
    },
    {
     "data": {
      "image/png": "[encoded data removed]",
      "text/plain": [
       "<Figure size 432x288 with 1 Axes>"
      ]
     },
     "metadata": {
      "needs_background": "light"
     },
     "output_type": "display_data"
    }
   ],
   "source": [
    "drn.plot()"
   ]
  },
  {
   "cell_type": "markdown",
   "metadata": {},
   "source": [
    "## EVT Externa"
   ]
  },
  {
   "cell_type": "markdown",
   "metadata": {},
   "source": [
    "Modificar esta tasa en cada paso de tiempo, dentro del loop, entrar a una lista con tasas diarias/mensuales."
   ]
  },
  {
   "cell_type": "code",
   "execution_count": 40,
   "metadata": {},
   "outputs": [],
   "source": [
    "EVTR=0.5 #(mm/d)\n",
    "EVTR=0.5/1000 #(m/d)\n",
    "EXPD=10 #m"
   ]
  },
  {
   "cell_type": "markdown",
   "metadata": {},
   "source": [
    "Determinación de celdas a que evaporan"
   ]
  },
  {
   "cell_type": "markdown",
   "metadata": {},
   "source": [
    "Podría hacer esto mismo para la infiltración y para las celdas drn!!!!!"
   ]
  },
  {
   "cell_type": "code",
   "execution_count": 42,
   "metadata": {},
   "outputs": [],
   "source": [
    "PERV_subcuenca_gdf=gpd.read_file('GIS/Shapes/PERV_VER.shp')"
   ]
  },
  {
   "cell_type": "code",
   "execution_count": 43,
   "metadata": {},
   "outputs": [],
   "source": [
    "contained_PERV_subcuenca_gdf=gpd.sjoin(MODFLOW_centroid, PERV_subcuenca_gdf, how=\"inner\", op='intersects')\n",
    "MODFLOW_gdf['PERV']=MODFLOW_gdf.index.isin(contained_actived_subcuenca_gdf.index.values.tolist())\n",
    "MODFLOW_gdf[\"EVT\"]=0\n",
    "MODFLOW_gdf.loc[MODFLOW_gdf.PERV == True, 'EVT'] = 1"
   ]
  },
  {
   "cell_type": "code",
   "execution_count": 44,
   "metadata": {},
   "outputs": [
    {
     "data": {
      "text/html": [
       "<div>\n",
       "<style scoped>\n",
       "    .dataframe tbody tr th:only-of-type {\n",
       "        vertical-align: middle;\n",
       "    }\n",
       "\n",
       "    .dataframe tbody tr th {\n",
       "        vertical-align: top;\n",
       "    }\n",
       "\n",
       "    .dataframe thead th {\n",
       "        text-align: right;\n",
       "    }\n",
       "</style>\n",
       "<table border=\"1\" class=\"dataframe\">\n",
       "  <thead>\n",
       "    <tr style=\"text-align: right;\">\n",
       "      <th></th>\n",
       "      <th>node</th>\n",
       "      <th>row</th>\n",
       "      <th>column</th>\n",
       "      <th>geometry</th>\n",
       "      <th>active_s</th>\n",
       "      <th>active_h</th>\n",
       "      <th>out</th>\n",
       "      <th>top</th>\n",
       "      <th>BC_lago</th>\n",
       "      <th>ibound</th>\n",
       "      <th>DRN</th>\n",
       "      <th>PERV</th>\n",
       "      <th>EVT</th>\n",
       "    </tr>\n",
       "  </thead>\n",
       "  <tbody>\n",
       "    <tr>\n",
       "      <th>0</th>\n",
       "      <td>1</td>\n",
       "      <td>1</td>\n",
       "      <td>1</td>\n",
       "      <td>POLYGON ((662916.664 5428427.527, 662921.664 5...</td>\n",
       "      <td>False</td>\n",
       "      <td>False</td>\n",
       "      <td>False</td>\n",
       "      <td>0.0</td>\n",
       "      <td>False</td>\n",
       "      <td>0</td>\n",
       "      <td>False</td>\n",
       "      <td>False</td>\n",
       "      <td>0</td>\n",
       "    </tr>\n",
       "    <tr>\n",
       "      <th>1</th>\n",
       "      <td>2</td>\n",
       "      <td>1</td>\n",
       "      <td>2</td>\n",
       "      <td>POLYGON ((662921.664 5428427.527, 662926.664 5...</td>\n",
       "      <td>False</td>\n",
       "      <td>False</td>\n",
       "      <td>False</td>\n",
       "      <td>0.0</td>\n",
       "      <td>False</td>\n",
       "      <td>0</td>\n",
       "      <td>False</td>\n",
       "      <td>False</td>\n",
       "      <td>0</td>\n",
       "    </tr>\n",
       "    <tr>\n",
       "      <th>2</th>\n",
       "      <td>3</td>\n",
       "      <td>1</td>\n",
       "      <td>3</td>\n",
       "      <td>POLYGON ((662926.664 5428427.527, 662931.664 5...</td>\n",
       "      <td>False</td>\n",
       "      <td>False</td>\n",
       "      <td>False</td>\n",
       "      <td>0.0</td>\n",
       "      <td>False</td>\n",
       "      <td>0</td>\n",
       "      <td>False</td>\n",
       "      <td>False</td>\n",
       "      <td>0</td>\n",
       "    </tr>\n",
       "    <tr>\n",
       "      <th>3</th>\n",
       "      <td>4</td>\n",
       "      <td>1</td>\n",
       "      <td>4</td>\n",
       "      <td>POLYGON ((662931.664 5428427.527, 662936.664 5...</td>\n",
       "      <td>False</td>\n",
       "      <td>False</td>\n",
       "      <td>False</td>\n",
       "      <td>0.0</td>\n",
       "      <td>False</td>\n",
       "      <td>0</td>\n",
       "      <td>False</td>\n",
       "      <td>False</td>\n",
       "      <td>0</td>\n",
       "    </tr>\n",
       "    <tr>\n",
       "      <th>4</th>\n",
       "      <td>5</td>\n",
       "      <td>1</td>\n",
       "      <td>5</td>\n",
       "      <td>POLYGON ((662936.664 5428427.527, 662941.664 5...</td>\n",
       "      <td>False</td>\n",
       "      <td>False</td>\n",
       "      <td>False</td>\n",
       "      <td>0.0</td>\n",
       "      <td>False</td>\n",
       "      <td>0</td>\n",
       "      <td>False</td>\n",
       "      <td>False</td>\n",
       "      <td>0</td>\n",
       "    </tr>\n",
       "    <tr>\n",
       "      <th>...</th>\n",
       "      <td>...</td>\n",
       "      <td>...</td>\n",
       "      <td>...</td>\n",
       "      <td>...</td>\n",
       "      <td>...</td>\n",
       "      <td>...</td>\n",
       "      <td>...</td>\n",
       "      <td>...</td>\n",
       "      <td>...</td>\n",
       "      <td>...</td>\n",
       "      <td>...</td>\n",
       "      <td>...</td>\n",
       "      <td>...</td>\n",
       "    </tr>\n",
       "    <tr>\n",
       "      <th>589</th>\n",
       "      <td>590</td>\n",
       "      <td>22</td>\n",
       "      <td>23</td>\n",
       "      <td>POLYGON ((663026.664 5428322.527, 663031.664 5...</td>\n",
       "      <td>False</td>\n",
       "      <td>False</td>\n",
       "      <td>False</td>\n",
       "      <td>0.0</td>\n",
       "      <td>False</td>\n",
       "      <td>0</td>\n",
       "      <td>False</td>\n",
       "      <td>False</td>\n",
       "      <td>0</td>\n",
       "    </tr>\n",
       "    <tr>\n",
       "      <th>590</th>\n",
       "      <td>591</td>\n",
       "      <td>22</td>\n",
       "      <td>24</td>\n",
       "      <td>POLYGON ((663031.664 5428322.527, 663036.664 5...</td>\n",
       "      <td>False</td>\n",
       "      <td>False</td>\n",
       "      <td>False</td>\n",
       "      <td>0.0</td>\n",
       "      <td>False</td>\n",
       "      <td>0</td>\n",
       "      <td>False</td>\n",
       "      <td>False</td>\n",
       "      <td>0</td>\n",
       "    </tr>\n",
       "    <tr>\n",
       "      <th>591</th>\n",
       "      <td>592</td>\n",
       "      <td>22</td>\n",
       "      <td>25</td>\n",
       "      <td>POLYGON ((663036.664 5428322.527, 663041.664 5...</td>\n",
       "      <td>False</td>\n",
       "      <td>False</td>\n",
       "      <td>False</td>\n",
       "      <td>0.0</td>\n",
       "      <td>False</td>\n",
       "      <td>0</td>\n",
       "      <td>False</td>\n",
       "      <td>False</td>\n",
       "      <td>0</td>\n",
       "    </tr>\n",
       "    <tr>\n",
       "      <th>592</th>\n",
       "      <td>593</td>\n",
       "      <td>22</td>\n",
       "      <td>26</td>\n",
       "      <td>POLYGON ((663041.664 5428322.527, 663046.664 5...</td>\n",
       "      <td>False</td>\n",
       "      <td>False</td>\n",
       "      <td>False</td>\n",
       "      <td>0.0</td>\n",
       "      <td>False</td>\n",
       "      <td>0</td>\n",
       "      <td>False</td>\n",
       "      <td>False</td>\n",
       "      <td>0</td>\n",
       "    </tr>\n",
       "    <tr>\n",
       "      <th>593</th>\n",
       "      <td>594</td>\n",
       "      <td>22</td>\n",
       "      <td>27</td>\n",
       "      <td>POLYGON ((663046.664 5428322.527, 663051.664 5...</td>\n",
       "      <td>False</td>\n",
       "      <td>False</td>\n",
       "      <td>False</td>\n",
       "      <td>0.0</td>\n",
       "      <td>False</td>\n",
       "      <td>0</td>\n",
       "      <td>False</td>\n",
       "      <td>False</td>\n",
       "      <td>0</td>\n",
       "    </tr>\n",
       "  </tbody>\n",
       "</table>\n",
       "<p>594 rows × 13 columns</p>\n",
       "</div>"
      ],
      "text/plain": [
       "     node  row  column                                           geometry  \\\n",
       "0       1    1       1  POLYGON ((662916.664 5428427.527, 662921.664 5...   \n",
       "1       2    1       2  POLYGON ((662921.664 5428427.527, 662926.664 5...   \n",
       "2       3    1       3  POLYGON ((662926.664 5428427.527, 662931.664 5...   \n",
       "3       4    1       4  POLYGON ((662931.664 5428427.527, 662936.664 5...   \n",
       "4       5    1       5  POLYGON ((662936.664 5428427.527, 662941.664 5...   \n",
       "..    ...  ...     ...                                                ...   \n",
       "589   590   22      23  POLYGON ((663026.664 5428322.527, 663031.664 5...   \n",
       "590   591   22      24  POLYGON ((663031.664 5428322.527, 663036.664 5...   \n",
       "591   592   22      25  POLYGON ((663036.664 5428322.527, 663041.664 5...   \n",
       "592   593   22      26  POLYGON ((663041.664 5428322.527, 663046.664 5...   \n",
       "593   594   22      27  POLYGON ((663046.664 5428322.527, 663051.664 5...   \n",
       "\n",
       "     active_s  active_h    out  top  BC_lago  ibound    DRN   PERV  EVT  \n",
       "0       False     False  False  0.0    False       0  False  False    0  \n",
       "1       False     False  False  0.0    False       0  False  False    0  \n",
       "2       False     False  False  0.0    False       0  False  False    0  \n",
       "3       False     False  False  0.0    False       0  False  False    0  \n",
       "4       False     False  False  0.0    False       0  False  False    0  \n",
       "..        ...       ...    ...  ...      ...     ...    ...    ...  ...  \n",
       "589     False     False  False  0.0    False       0  False  False    0  \n",
       "590     False     False  False  0.0    False       0  False  False    0  \n",
       "591     False     False  False  0.0    False       0  False  False    0  \n",
       "592     False     False  False  0.0    False       0  False  False    0  \n",
       "593     False     False  False  0.0    False       0  False  False    0  \n",
       "\n",
       "[594 rows x 13 columns]"
      ]
     },
     "execution_count": 44,
     "metadata": {},
     "output_type": "execute_result"
    }
   ],
   "source": [
    "MODFLOW_gdf"
   ]
  },
  {
   "cell_type": "markdown",
   "metadata": {},
   "source": [
    "## OC package"
   ]
  },
  {
   "cell_type": "code",
   "execution_count": 45,
   "metadata": {},
   "outputs": [],
   "source": [
    "spd = {(0,0): ['save head', 'save budget'], (1,0): ['save head', 'save budget']}\n",
    "oc = flopy.modflow.ModflowOc(ml, stress_period_data=spd) "
   ]
  },
  {
   "cell_type": "markdown",
   "metadata": {},
   "source": [
    "## NWT package"
   ]
  },
  {
   "cell_type": "code",
   "execution_count": 46,
   "metadata": {},
   "outputs": [],
   "source": [
    "nwt = flopy.modflow.ModflowNwt(ml)"
   ]
  },
  {
   "cell_type": "markdown",
   "metadata": {},
   "source": [
    "## Checks, run model, read outputs, plots"
   ]
  },
  {
   "cell_type": "code",
   "execution_count": 47,
   "metadata": {},
   "outputs": [
    {
     "data": {
      "text/plain": [
       "['DIS', 'BAS6', 'UPW', 'DRN', 'OC', 'NWT']"
      ]
     },
     "execution_count": 47,
     "metadata": {},
     "output_type": "execute_result"
    }
   ],
   "source": [
    "ml.get_package_list()"
   ]
  },
  {
   "cell_type": "code",
   "execution_count": 48,
   "metadata": {},
   "outputs": [
    {
     "name": "stdout",
     "output_type": "stream",
     "text": [
      "\n",
      "VER MODEL DATA VALIDATION SUMMARY:\n",
      "  1 Warning:\n",
      "    OC package: action(s) defined in OC stress_period_data ignored as they are not part the stress periods defined by DIS\n",
      "\n",
      "  Checks that passed:\n",
      "    Compatible solver package\n",
      "    Unit number conflicts\n",
      "    DIS package: zero or negative thickness\n",
      "    DIS package: thin cells (less than checker threshold of 1.0)\n",
      "    DIS package: nan values in top array\n",
      "    DIS package: nan values in bottom array\n",
      "    BAS6 package: isolated cells in ibound array\n",
      "    BAS6 package: Not a number\n",
      "    UPW package: zero or negative horizontal hydraulic conductivity values\n",
      "    UPW package: zero or negative vertical hydraulic conductivity values\n",
      "    UPW package: negative horizontal anisotropy values\n",
      "    UPW package: horizontal hydraulic conductivity values below checker threshold of 1e-11\n",
      "    UPW package: horizontal hydraulic conductivity values above checker threshold of 100000.0\n",
      "    UPW package: vertical hydraulic conductivity values below checker threshold of 1e-11\n",
      "    UPW package: vertical hydraulic conductivity values above checker threshold of 100000.0\n",
      "    UPW package: zero or negative specific storage values\n",
      "    UPW package: specific storage values below checker threshold of 1e-06\n",
      "    UPW package: specific storage values above checker threshold of 0.01\n",
      "    UPW package: zero or negative specific yield values\n",
      "    UPW package: specific yield values below checker threshold of 0.01\n",
      "    UPW package: specific yield values above checker threshold of 0.5\n",
      "    DRN package: BC indices valid\n",
      "    DRN package: not a number (Nan) entries\n",
      "    DRN package: BC in inactive cells\n",
      "    DRN package: BC elevation below cell bottom\n",
      "\n"
     ]
    },
    {
     "data": {
      "text/plain": [
       "<flopy.utils.check.check at 0x2ba9824d888>"
      ]
     },
     "execution_count": 48,
     "metadata": {},
     "output_type": "execute_result"
    }
   ],
   "source": [
    "ml.check()"
   ]
  },
  {
   "cell_type": "code",
   "execution_count": 49,
   "metadata": {},
   "outputs": [],
   "source": [
    "ml.write_input()"
   ]
  },
  {
   "cell_type": "markdown",
   "metadata": {},
   "source": [
    "## Zone Budget:"
   ]
  },
  {
   "cell_type": "code",
   "execution_count": 50,
   "metadata": {},
   "outputs": [],
   "source": [
    "MODFLOW_gdf[\"zon\"]=5\n",
    "MODFLOW_gdf.loc[MODFLOW_gdf.active_s == True, 'zon'] = 1\n",
    "MODFLOW_gdf.loc[MODFLOW_gdf.active_h == True, 'zon'] = 2\n",
    "MODFLOW_gdf.loc[MODFLOW_gdf.BC_lago == True, 'zon'] = 3\n",
    "MODFLOW_gdf.loc[MODFLOW_gdf.out == True, 'zon'] = 4"
   ]
  },
  {
   "cell_type": "code",
   "execution_count": 51,
   "metadata": {},
   "outputs": [],
   "source": [
    "zon = np.zeros((nlay,nrows,ncols)) \n",
    "\n",
    "for index, row in MODFLOW_gdf.iterrows():\n",
    "    zon[:,row['row']-1,row['column']-1] = row['zon']\n",
    "\n",
    "zon=zon[0].astype(np.int64)"
   ]
  },
  {
   "cell_type": "code",
   "execution_count": 52,
   "metadata": {},
   "outputs": [],
   "source": [
    "aliases = {1: 'S1', 2:'SU', 3: 'Lake', 4: 'OUT' ,5: 'Inactive' }"
   ]
  },
  {
   "cell_type": "code",
   "execution_count": 53,
   "metadata": {},
   "outputs": [],
   "source": [
    "ZB_TS=[]"
   ]
  },
  {
   "cell_type": "code",
   "execution_count": 54,
   "metadata": {},
   "outputs": [
    {
     "data": {
      "text/plain": [
       "<AxesSubplot:>"
      ]
     },
     "execution_count": 54,
     "metadata": {},
     "output_type": "execute_result"
    },
    {
     "data": {
      "image/png": "[encoded data removed]",
      "text/plain": [
       "<Figure size 432x288 with 2 Axes>"
      ]
     },
     "metadata": {
      "needs_background": "light"
     },
     "output_type": "display_data"
    }
   ],
   "source": [
    "MODFLOW_gdf.plot(column=\"zon\", legend=True)"
   ]
  },
  {
   "cell_type": "markdown",
   "metadata": {},
   "source": [
    "# Load SWMM model"
   ]
  },
  {
   "cell_type": "markdown",
   "metadata": {},
   "source": [
    "Importación del archivo inp SWMM. "
   ]
  },
  {
   "cell_type": "code",
   "execution_count": 55,
   "metadata": {},
   "outputs": [],
   "source": [
    "dire=\"SWMM_VER_model\"\n",
    "file=\"SWMM_VER_X2.inp\"\n",
    "path=dire + \"/\" + file"
   ]
  },
  {
   "cell_type": "markdown",
   "metadata": {},
   "source": [
    "Nota: se está considerando una tasa de evapotranspiración constante igual a 0.5 mm/día"
   ]
  },
  {
   "cell_type": "code",
   "execution_count": 56,
   "metadata": {},
   "outputs": [],
   "source": [
    "dt=300. #[s]"
   ]
  },
  {
   "cell_type": "markdown",
   "metadata": {},
   "source": [
    "# SWMM and MODFLOW coupling"
   ]
  },
  {
   "cell_type": "markdown",
   "metadata": {},
   "source": [
    "## Map subcatchments to cells"
   ]
  },
  {
   "cell_type": "code",
   "execution_count": 57,
   "metadata": {},
   "outputs": [],
   "source": [
    "MODFLOW_gdf['SWMM_S']=np.NaN\n",
    "MODFLOW_gdf.loc[MODFLOW_gdf.active_s == True, 'SWMM_S'] = \"S1\"\n",
    "MODFLOW_gdf.loc[MODFLOW_gdf.active_h == True, 'SWMM_S'] = \"S2\""
   ]
  },
  {
   "cell_type": "markdown",
   "metadata": {},
   "source": [
    "## Map storage units to cells"
   ]
  },
  {
   "cell_type": "code",
   "execution_count": 58,
   "metadata": {},
   "outputs": [],
   "source": [
    "MODFLOW_gdf['SWMM_SU']=np.NaN\n",
    "MODFLOW_gdf.loc[MODFLOW_gdf.active_h == True, 'SWMM_SU'] = \"SU1\""
   ]
  },
  {
   "cell_type": "markdown",
   "metadata": {},
   "source": [
    "## Map drain cells to nodes or storage units"
   ]
  },
  {
   "cell_type": "code",
   "execution_count": 59,
   "metadata": {},
   "outputs": [
    {
     "data": {
      "text/html": [
       "<div>\n",
       "<style scoped>\n",
       "    .dataframe tbody tr th:only-of-type {\n",
       "        vertical-align: middle;\n",
       "    }\n",
       "\n",
       "    .dataframe tbody tr th {\n",
       "        vertical-align: top;\n",
       "    }\n",
       "\n",
       "    .dataframe thead th {\n",
       "        text-align: right;\n",
       "    }\n",
       "</style>\n",
       "<table border=\"1\" class=\"dataframe\">\n",
       "  <thead>\n",
       "    <tr style=\"text-align: right;\">\n",
       "      <th></th>\n",
       "      <th>node</th>\n",
       "      <th>row</th>\n",
       "      <th>column</th>\n",
       "      <th>geometry</th>\n",
       "      <th>active_s</th>\n",
       "      <th>active_h</th>\n",
       "      <th>out</th>\n",
       "      <th>top</th>\n",
       "      <th>BC_lago</th>\n",
       "      <th>ibound</th>\n",
       "      <th>DRN</th>\n",
       "      <th>PERV</th>\n",
       "      <th>EVT</th>\n",
       "      <th>zon</th>\n",
       "      <th>SWMM_S</th>\n",
       "      <th>SWMM_SU</th>\n",
       "    </tr>\n",
       "  </thead>\n",
       "  <tbody>\n",
       "    <tr>\n",
       "      <th>0</th>\n",
       "      <td>1</td>\n",
       "      <td>1</td>\n",
       "      <td>1</td>\n",
       "      <td>POLYGON ((662916.664 5428427.527, 662921.664 5...</td>\n",
       "      <td>False</td>\n",
       "      <td>False</td>\n",
       "      <td>False</td>\n",
       "      <td>0.0</td>\n",
       "      <td>False</td>\n",
       "      <td>0</td>\n",
       "      <td>False</td>\n",
       "      <td>False</td>\n",
       "      <td>0</td>\n",
       "      <td>5</td>\n",
       "      <td>NaN</td>\n",
       "      <td>NaN</td>\n",
       "    </tr>\n",
       "    <tr>\n",
       "      <th>1</th>\n",
       "      <td>2</td>\n",
       "      <td>1</td>\n",
       "      <td>2</td>\n",
       "      <td>POLYGON ((662921.664 5428427.527, 662926.664 5...</td>\n",
       "      <td>False</td>\n",
       "      <td>False</td>\n",
       "      <td>False</td>\n",
       "      <td>0.0</td>\n",
       "      <td>False</td>\n",
       "      <td>0</td>\n",
       "      <td>False</td>\n",
       "      <td>False</td>\n",
       "      <td>0</td>\n",
       "      <td>5</td>\n",
       "      <td>NaN</td>\n",
       "      <td>NaN</td>\n",
       "    </tr>\n",
       "    <tr>\n",
       "      <th>2</th>\n",
       "      <td>3</td>\n",
       "      <td>1</td>\n",
       "      <td>3</td>\n",
       "      <td>POLYGON ((662926.664 5428427.527, 662931.664 5...</td>\n",
       "      <td>False</td>\n",
       "      <td>False</td>\n",
       "      <td>False</td>\n",
       "      <td>0.0</td>\n",
       "      <td>False</td>\n",
       "      <td>0</td>\n",
       "      <td>False</td>\n",
       "      <td>False</td>\n",
       "      <td>0</td>\n",
       "      <td>5</td>\n",
       "      <td>NaN</td>\n",
       "      <td>NaN</td>\n",
       "    </tr>\n",
       "    <tr>\n",
       "      <th>3</th>\n",
       "      <td>4</td>\n",
       "      <td>1</td>\n",
       "      <td>4</td>\n",
       "      <td>POLYGON ((662931.664 5428427.527, 662936.664 5...</td>\n",
       "      <td>False</td>\n",
       "      <td>False</td>\n",
       "      <td>False</td>\n",
       "      <td>0.0</td>\n",
       "      <td>False</td>\n",
       "      <td>0</td>\n",
       "      <td>False</td>\n",
       "      <td>False</td>\n",
       "      <td>0</td>\n",
       "      <td>5</td>\n",
       "      <td>NaN</td>\n",
       "      <td>NaN</td>\n",
       "    </tr>\n",
       "    <tr>\n",
       "      <th>4</th>\n",
       "      <td>5</td>\n",
       "      <td>1</td>\n",
       "      <td>5</td>\n",
       "      <td>POLYGON ((662936.664 5428427.527, 662941.664 5...</td>\n",
       "      <td>False</td>\n",
       "      <td>False</td>\n",
       "      <td>False</td>\n",
       "      <td>0.0</td>\n",
       "      <td>False</td>\n",
       "      <td>0</td>\n",
       "      <td>False</td>\n",
       "      <td>False</td>\n",
       "      <td>0</td>\n",
       "      <td>5</td>\n",
       "      <td>NaN</td>\n",
       "      <td>NaN</td>\n",
       "    </tr>\n",
       "    <tr>\n",
       "      <th>...</th>\n",
       "      <td>...</td>\n",
       "      <td>...</td>\n",
       "      <td>...</td>\n",
       "      <td>...</td>\n",
       "      <td>...</td>\n",
       "      <td>...</td>\n",
       "      <td>...</td>\n",
       "      <td>...</td>\n",
       "      <td>...</td>\n",
       "      <td>...</td>\n",
       "      <td>...</td>\n",
       "      <td>...</td>\n",
       "      <td>...</td>\n",
       "      <td>...</td>\n",
       "      <td>...</td>\n",
       "      <td>...</td>\n",
       "    </tr>\n",
       "    <tr>\n",
       "      <th>589</th>\n",
       "      <td>590</td>\n",
       "      <td>22</td>\n",
       "      <td>23</td>\n",
       "      <td>POLYGON ((663026.664 5428322.527, 663031.664 5...</td>\n",
       "      <td>False</td>\n",
       "      <td>False</td>\n",
       "      <td>False</td>\n",
       "      <td>0.0</td>\n",
       "      <td>False</td>\n",
       "      <td>0</td>\n",
       "      <td>False</td>\n",
       "      <td>False</td>\n",
       "      <td>0</td>\n",
       "      <td>5</td>\n",
       "      <td>NaN</td>\n",
       "      <td>NaN</td>\n",
       "    </tr>\n",
       "    <tr>\n",
       "      <th>590</th>\n",
       "      <td>591</td>\n",
       "      <td>22</td>\n",
       "      <td>24</td>\n",
       "      <td>POLYGON ((663031.664 5428322.527, 663036.664 5...</td>\n",
       "      <td>False</td>\n",
       "      <td>False</td>\n",
       "      <td>False</td>\n",
       "      <td>0.0</td>\n",
       "      <td>False</td>\n",
       "      <td>0</td>\n",
       "      <td>False</td>\n",
       "      <td>False</td>\n",
       "      <td>0</td>\n",
       "      <td>5</td>\n",
       "      <td>NaN</td>\n",
       "      <td>NaN</td>\n",
       "    </tr>\n",
       "    <tr>\n",
       "      <th>591</th>\n",
       "      <td>592</td>\n",
       "      <td>22</td>\n",
       "      <td>25</td>\n",
       "      <td>POLYGON ((663036.664 5428322.527, 663041.664 5...</td>\n",
       "      <td>False</td>\n",
       "      <td>False</td>\n",
       "      <td>False</td>\n",
       "      <td>0.0</td>\n",
       "      <td>False</td>\n",
       "      <td>0</td>\n",
       "      <td>False</td>\n",
       "      <td>False</td>\n",
       "      <td>0</td>\n",
       "      <td>5</td>\n",
       "      <td>NaN</td>\n",
       "      <td>NaN</td>\n",
       "    </tr>\n",
       "    <tr>\n",
       "      <th>592</th>\n",
       "      <td>593</td>\n",
       "      <td>22</td>\n",
       "      <td>26</td>\n",
       "      <td>POLYGON ((663041.664 5428322.527, 663046.664 5...</td>\n",
       "      <td>False</td>\n",
       "      <td>False</td>\n",
       "      <td>False</td>\n",
       "      <td>0.0</td>\n",
       "      <td>False</td>\n",
       "      <td>0</td>\n",
       "      <td>False</td>\n",
       "      <td>False</td>\n",
       "      <td>0</td>\n",
       "      <td>5</td>\n",
       "      <td>NaN</td>\n",
       "      <td>NaN</td>\n",
       "    </tr>\n",
       "    <tr>\n",
       "      <th>593</th>\n",
       "      <td>594</td>\n",
       "      <td>22</td>\n",
       "      <td>27</td>\n",
       "      <td>POLYGON ((663046.664 5428322.527, 663051.664 5...</td>\n",
       "      <td>False</td>\n",
       "      <td>False</td>\n",
       "      <td>False</td>\n",
       "      <td>0.0</td>\n",
       "      <td>False</td>\n",
       "      <td>0</td>\n",
       "      <td>False</td>\n",
       "      <td>False</td>\n",
       "      <td>0</td>\n",
       "      <td>5</td>\n",
       "      <td>NaN</td>\n",
       "      <td>NaN</td>\n",
       "    </tr>\n",
       "  </tbody>\n",
       "</table>\n",
       "<p>594 rows × 16 columns</p>\n",
       "</div>"
      ],
      "text/plain": [
       "     node  row  column                                           geometry  \\\n",
       "0       1    1       1  POLYGON ((662916.664 5428427.527, 662921.664 5...   \n",
       "1       2    1       2  POLYGON ((662921.664 5428427.527, 662926.664 5...   \n",
       "2       3    1       3  POLYGON ((662926.664 5428427.527, 662931.664 5...   \n",
       "3       4    1       4  POLYGON ((662931.664 5428427.527, 662936.664 5...   \n",
       "4       5    1       5  POLYGON ((662936.664 5428427.527, 662941.664 5...   \n",
       "..    ...  ...     ...                                                ...   \n",
       "589   590   22      23  POLYGON ((663026.664 5428322.527, 663031.664 5...   \n",
       "590   591   22      24  POLYGON ((663031.664 5428322.527, 663036.664 5...   \n",
       "591   592   22      25  POLYGON ((663036.664 5428322.527, 663041.664 5...   \n",
       "592   593   22      26  POLYGON ((663041.664 5428322.527, 663046.664 5...   \n",
       "593   594   22      27  POLYGON ((663046.664 5428322.527, 663051.664 5...   \n",
       "\n",
       "     active_s  active_h    out  top  BC_lago  ibound    DRN   PERV  EVT  zon  \\\n",
       "0       False     False  False  0.0    False       0  False  False    0    5   \n",
       "1       False     False  False  0.0    False       0  False  False    0    5   \n",
       "2       False     False  False  0.0    False       0  False  False    0    5   \n",
       "3       False     False  False  0.0    False       0  False  False    0    5   \n",
       "4       False     False  False  0.0    False       0  False  False    0    5   \n",
       "..        ...       ...    ...  ...      ...     ...    ...    ...  ...  ...   \n",
       "589     False     False  False  0.0    False       0  False  False    0    5   \n",
       "590     False     False  False  0.0    False       0  False  False    0    5   \n",
       "591     False     False  False  0.0    False       0  False  False    0    5   \n",
       "592     False     False  False  0.0    False       0  False  False    0    5   \n",
       "593     False     False  False  0.0    False       0  False  False    0    5   \n",
       "\n",
       "    SWMM_S SWMM_SU  \n",
       "0      NaN     NaN  \n",
       "1      NaN     NaN  \n",
       "2      NaN     NaN  \n",
       "3      NaN     NaN  \n",
       "4      NaN     NaN  \n",
       "..     ...     ...  \n",
       "589    NaN     NaN  \n",
       "590    NaN     NaN  \n",
       "591    NaN     NaN  \n",
       "592    NaN     NaN  \n",
       "593    NaN     NaN  \n",
       "\n",
       "[594 rows x 16 columns]"
      ]
     },
     "execution_count": 59,
     "metadata": {},
     "output_type": "execute_result"
    }
   ],
   "source": [
    "MODFLOW_gdf"
   ]
  },
  {
   "cell_type": "markdown",
   "metadata": {},
   "source": [
    "## Loop for Temporal/Spatial Data Exchange"
   ]
  },
  {
   "cell_type": "code",
   "execution_count": 60,
   "metadata": {},
   "outputs": [],
   "source": [
    "TS_gdf=[]"
   ]
  },
  {
   "cell_type": "code",
   "execution_count": 61,
   "metadata": {},
   "outputs": [],
   "source": [
    "#SWMM Subcatchments names:\n",
    "S_names_list=[\"S1\", \"S2\"]\n",
    "#SWMM Storge Unites names:\n",
    "SU_names_list=[\"SU1\"]\n",
    "#Wetlands subcatchments\n",
    "SU_S_names_list=[\"S2\"]"
   ]
  },
  {
   "cell_type": "markdown",
   "metadata": {},
   "source": [
    "Las unidades definidas a continuación consideran que el modelo SWMM está en CMS."
   ]
  },
  {
   "cell_type": "code",
   "execution_count": 62,
   "metadata": {},
   "outputs": [],
   "source": [
    "S_SWMM_TS=[]\n",
    "SU_SWMM_TS=[]\n",
    "for i in S_names_list:\n",
    "    a= pd.DataFrame()\n",
    "    a[\"Time\"]=\"\"\n",
    "    a[\"Precipitation (mm/h)\"]=\"\"\n",
    "    a[\"Evaporation (mm/d)\"]=\"\"\n",
    "    a[\"Infiltration (mm/h)\"]=\"\" \n",
    "    a[\"Runoff (m3/s)\"]=\"\"\n",
    "    a[\"Runon (m3/s)\"]=\"\"\n",
    "    a[\"Cumulative Infiltration (m3)\"]=\"\"\n",
    "    a[\"Cumulative Evaporation (m3)\"]=\"\"\n",
    "    S_SWMM_TS.append(a)\n",
    "for i in SU_names_list:\n",
    "    a= pd.DataFrame()\n",
    "    a[\"Time\"]=\"\"\n",
    "    a[\"Depth (m)\"]=\"\"\n",
    "    a[\"Head (m)\"]=\"\"\n",
    "    a[\"Flooding (m3/s)\"]=\"\"\n",
    "    a[\"Lateral inflow (m3/s)\"]=\"\"\n",
    "    a[\"Total inflow (m3/s)\"]=\"\"\n",
    "    a[\"Total outflow (m3/s)\"]=\"\"\n",
    "    a[\"Volume (m3)\"]=\"\"\n",
    "    a[\"Losses (m3/s)\"]=\"\"\n",
    "    a[\"Cumulative Exfiltration Loss (m3)\"]=\"\"\n",
    "    a[\"Cumulative Evaporation Loss (m3)\"]=\"\"\n",
    "    SU_SWMM_TS.append(a)"
   ]
  },
  {
   "cell_type": "code",
   "execution_count": 63,
   "metadata": {},
   "outputs": [],
   "source": [
    "with Simulation(path) as sim:\n",
    "    if not sim.flow_units==\"CMS\":\n",
    "        print(\"SWMM flow units must be CMS\")"
   ]
  },
  {
   "cell_type": "code",
   "execution_count": 64,
   "metadata": {},
   "outputs": [],
   "source": [
    "with Simulation(path) as sim:\n",
    "    S_areas=[]\n",
    "    system_routing = SystemStats(sim)\n",
    "    for s in S_names_list:\n",
    "        S_areas.append(Subcatchments(sim)[s].area) #[ha]  "
   ]
  },
  {
   "cell_type": "code",
   "execution_count": 65,
   "metadata": {},
   "outputs": [],
   "source": [
    "S_areas_cells=MODFLOW_gdf.groupby(\"SWMM_S\").count()[\"node\"]*x_resolution*y_resolution"
   ]
  },
  {
   "cell_type": "code",
   "execution_count": 66,
   "metadata": {},
   "outputs": [
    {
     "data": {
      "text/plain": [
       "SWMM_S\n",
       "S1    10000.0\n",
       "S2     1000.0\n",
       "Name: node, dtype: float64"
      ]
     },
     "execution_count": 66,
     "metadata": {},
     "output_type": "execute_result"
    }
   ],
   "source": [
    "S_areas_cells"
   ]
  },
  {
   "cell_type": "code",
   "execution_count": 67,
   "metadata": {},
   "outputs": [
    {
     "data": {
      "text/plain": [
       "[1.0, 0.1]"
      ]
     },
     "execution_count": 67,
     "metadata": {},
     "output_type": "execute_result"
    }
   ],
   "source": [
    "S_areas"
   ]
  },
  {
   "cell_type": "code",
   "execution_count": 68,
   "metadata": {},
   "outputs": [
    {
     "name": "stdout",
     "output_type": "stream",
     "text": [
      "CMS\n",
      "2018-08-02 00:00:00\n",
      "WARNING: unit 13 of package BAS6 already in use\n",
      "****Warning -- two packages of the same type:  <class 'flopy.modflow.mfbas.ModflowBas'> <class 'flopy.modflow.mfbas.ModflowBas'>\n",
      "replacing existing Package...\n"
     ]
    },
    {
     "name": "stderr",
     "output_type": "stream",
     "text": [
      "C:\\Users\\tibun\\Anaconda3\\envs\\acople\\lib\\site-packages\\ipykernel_launcher.py:126: SettingWithCopyWarning: \n",
      "A value is trying to be set on a copy of a slice from a DataFrame\n",
      "\n",
      "See the caveats in the documentation: https://pandas.pydata.org/pandas-docs/stable/user_guide/indexing.html#returning-a-view-versus-a-copy\n"
     ]
    },
    {
     "name": "stdout",
     "output_type": "stream",
     "text": [
      "WARNING: There is drained water outside the SWMM model area\n",
      "2018-08-03 00:00:00\n",
      "WARNING: unit 19 of package RCH already in use\n",
      "****Warning -- two packages of the same type:  <class 'flopy.modflow.mfrch.ModflowRch'> <class 'flopy.modflow.mfrch.ModflowRch'>\n",
      "replacing existing Package...\n",
      "WARNING: unit 13 of package BAS6 already in use\n",
      "****Warning -- two packages of the same type:  <class 'flopy.modflow.mfbas.ModflowBas'> <class 'flopy.modflow.mfbas.ModflowBas'>\n",
      "replacing existing Package...\n"
     ]
    },
    {
     "name": "stderr",
     "output_type": "stream",
     "text": [
      "C:\\Users\\tibun\\Anaconda3\\envs\\acople\\lib\\site-packages\\ipykernel_launcher.py:126: SettingWithCopyWarning: \n",
      "A value is trying to be set on a copy of a slice from a DataFrame\n",
      "\n",
      "See the caveats in the documentation: https://pandas.pydata.org/pandas-docs/stable/user_guide/indexing.html#returning-a-view-versus-a-copy\n"
     ]
    },
    {
     "name": "stdout",
     "output_type": "stream",
     "text": [
      "WARNING: There is drained water outside the SWMM model area\n",
      "2018-08-04 00:00:00\n",
      "WARNING: unit 19 of package RCH already in use\n",
      "****Warning -- two packages of the same type:  <class 'flopy.modflow.mfrch.ModflowRch'> <class 'flopy.modflow.mfrch.ModflowRch'>\n",
      "replacing existing Package...\n",
      "WARNING: unit 13 of package BAS6 already in use\n",
      "****Warning -- two packages of the same type:  <class 'flopy.modflow.mfbas.ModflowBas'> <class 'flopy.modflow.mfbas.ModflowBas'>\n",
      "replacing existing Package...\n"
     ]
    },
    {
     "name": "stderr",
     "output_type": "stream",
     "text": [
      "C:\\Users\\tibun\\Anaconda3\\envs\\acople\\lib\\site-packages\\ipykernel_launcher.py:126: SettingWithCopyWarning: \n",
      "A value is trying to be set on a copy of a slice from a DataFrame\n",
      "\n",
      "See the caveats in the documentation: https://pandas.pydata.org/pandas-docs/stable/user_guide/indexing.html#returning-a-view-versus-a-copy\n"
     ]
    },
    {
     "name": "stdout",
     "output_type": "stream",
     "text": [
      "WARNING: There is drained water outside the SWMM model area\n",
      "2018-08-05 00:00:00\n",
      "WARNING: unit 19 of package RCH already in use\n",
      "****Warning -- two packages of the same type:  <class 'flopy.modflow.mfrch.ModflowRch'> <class 'flopy.modflow.mfrch.ModflowRch'>\n",
      "replacing existing Package...\n",
      "WARNING: unit 13 of package BAS6 already in use\n",
      "****Warning -- two packages of the same type:  <class 'flopy.modflow.mfbas.ModflowBas'> <class 'flopy.modflow.mfbas.ModflowBas'>\n",
      "replacing existing Package...\n"
     ]
    },
    {
     "name": "stderr",
     "output_type": "stream",
     "text": [
      "C:\\Users\\tibun\\Anaconda3\\envs\\acople\\lib\\site-packages\\ipykernel_launcher.py:126: SettingWithCopyWarning: \n",
      "A value is trying to be set on a copy of a slice from a DataFrame\n",
      "\n",
      "See the caveats in the documentation: https://pandas.pydata.org/pandas-docs/stable/user_guide/indexing.html#returning-a-view-versus-a-copy\n"
     ]
    },
    {
     "name": "stdout",
     "output_type": "stream",
     "text": [
      "WARNING: There is drained water outside the SWMM model area\n",
      "2018-08-06 00:00:00\n",
      "WARNING: unit 19 of package RCH already in use\n",
      "****Warning -- two packages of the same type:  <class 'flopy.modflow.mfrch.ModflowRch'> <class 'flopy.modflow.mfrch.ModflowRch'>\n",
      "replacing existing Package...\n",
      "WARNING: unit 13 of package BAS6 already in use\n",
      "****Warning -- two packages of the same type:  <class 'flopy.modflow.mfbas.ModflowBas'> <class 'flopy.modflow.mfbas.ModflowBas'>\n",
      "replacing existing Package...\n"
     ]
    },
    {
     "name": "stderr",
     "output_type": "stream",
     "text": [
      "C:\\Users\\tibun\\Anaconda3\\envs\\acople\\lib\\site-packages\\ipykernel_launcher.py:126: SettingWithCopyWarning: \n",
      "A value is trying to be set on a copy of a slice from a DataFrame\n",
      "\n",
      "See the caveats in the documentation: https://pandas.pydata.org/pandas-docs/stable/user_guide/indexing.html#returning-a-view-versus-a-copy\n"
     ]
    },
    {
     "name": "stdout",
     "output_type": "stream",
     "text": [
      "WARNING: There is drained water outside the SWMM model area\n",
      "2018-08-07 00:00:00\n",
      "WARNING: unit 19 of package RCH already in use\n",
      "****Warning -- two packages of the same type:  <class 'flopy.modflow.mfrch.ModflowRch'> <class 'flopy.modflow.mfrch.ModflowRch'>\n",
      "replacing existing Package...\n",
      "WARNING: unit 13 of package BAS6 already in use\n",
      "****Warning -- two packages of the same type:  <class 'flopy.modflow.mfbas.ModflowBas'> <class 'flopy.modflow.mfbas.ModflowBas'>\n",
      "replacing existing Package...\n"
     ]
    },
    {
     "name": "stderr",
     "output_type": "stream",
     "text": [
      "C:\\Users\\tibun\\Anaconda3\\envs\\acople\\lib\\site-packages\\ipykernel_launcher.py:126: SettingWithCopyWarning: \n",
      "A value is trying to be set on a copy of a slice from a DataFrame\n",
      "\n",
      "See the caveats in the documentation: https://pandas.pydata.org/pandas-docs/stable/user_guide/indexing.html#returning-a-view-versus-a-copy\n"
     ]
    },
    {
     "name": "stdout",
     "output_type": "stream",
     "text": [
      "WARNING: There is drained water outside the SWMM model area\n",
      "2018-08-08 00:00:00\n",
      "WARNING: unit 19 of package RCH already in use\n",
      "****Warning -- two packages of the same type:  <class 'flopy.modflow.mfrch.ModflowRch'> <class 'flopy.modflow.mfrch.ModflowRch'>\n",
      "replacing existing Package...\n",
      "WARNING: unit 13 of package BAS6 already in use\n",
      "****Warning -- two packages of the same type:  <class 'flopy.modflow.mfbas.ModflowBas'> <class 'flopy.modflow.mfbas.ModflowBas'>\n",
      "replacing existing Package...\n"
     ]
    },
    {
     "name": "stderr",
     "output_type": "stream",
     "text": [
      "C:\\Users\\tibun\\Anaconda3\\envs\\acople\\lib\\site-packages\\ipykernel_launcher.py:126: SettingWithCopyWarning: \n",
      "A value is trying to be set on a copy of a slice from a DataFrame\n",
      "\n",
      "See the caveats in the documentation: https://pandas.pydata.org/pandas-docs/stable/user_guide/indexing.html#returning-a-view-versus-a-copy\n"
     ]
    },
    {
     "name": "stdout",
     "output_type": "stream",
     "text": [
      "WARNING: There is drained water outside the SWMM model area\n",
      "2018-08-09 00:00:00\n",
      "WARNING: unit 19 of package RCH already in use\n",
      "****Warning -- two packages of the same type:  <class 'flopy.modflow.mfrch.ModflowRch'> <class 'flopy.modflow.mfrch.ModflowRch'>\n",
      "replacing existing Package...\n",
      "WARNING: unit 13 of package BAS6 already in use\n",
      "****Warning -- two packages of the same type:  <class 'flopy.modflow.mfbas.ModflowBas'> <class 'flopy.modflow.mfbas.ModflowBas'>\n",
      "replacing existing Package...\n"
     ]
    },
    {
     "name": "stderr",
     "output_type": "stream",
     "text": [
      "C:\\Users\\tibun\\Anaconda3\\envs\\acople\\lib\\site-packages\\ipykernel_launcher.py:126: SettingWithCopyWarning: \n",
      "A value is trying to be set on a copy of a slice from a DataFrame\n",
      "\n",
      "See the caveats in the documentation: https://pandas.pydata.org/pandas-docs/stable/user_guide/indexing.html#returning-a-view-versus-a-copy\n"
     ]
    },
    {
     "name": "stdout",
     "output_type": "stream",
     "text": [
      "WARNING: There is drained water outside the SWMM model area\n",
      "2018-08-10 00:00:00\n",
      "WARNING: unit 19 of package RCH already in use\n",
      "****Warning -- two packages of the same type:  <class 'flopy.modflow.mfrch.ModflowRch'> <class 'flopy.modflow.mfrch.ModflowRch'>\n",
      "replacing existing Package...\n",
      "WARNING: unit 13 of package BAS6 already in use\n",
      "****Warning -- two packages of the same type:  <class 'flopy.modflow.mfbas.ModflowBas'> <class 'flopy.modflow.mfbas.ModflowBas'>\n",
      "replacing existing Package...\n"
     ]
    },
    {
     "name": "stderr",
     "output_type": "stream",
     "text": [
      "C:\\Users\\tibun\\Anaconda3\\envs\\acople\\lib\\site-packages\\ipykernel_launcher.py:126: SettingWithCopyWarning: \n",
      "A value is trying to be set on a copy of a slice from a DataFrame\n",
      "\n",
      "See the caveats in the documentation: https://pandas.pydata.org/pandas-docs/stable/user_guide/indexing.html#returning-a-view-versus-a-copy\n"
     ]
    },
    {
     "name": "stdout",
     "output_type": "stream",
     "text": [
      "WARNING: There is drained water outside the SWMM model area\n",
      "2018-08-11 00:00:00\n",
      "WARNING: unit 19 of package RCH already in use\n",
      "****Warning -- two packages of the same type:  <class 'flopy.modflow.mfrch.ModflowRch'> <class 'flopy.modflow.mfrch.ModflowRch'>\n",
      "replacing existing Package...\n",
      "WARNING: unit 13 of package BAS6 already in use\n",
      "****Warning -- two packages of the same type:  <class 'flopy.modflow.mfbas.ModflowBas'> <class 'flopy.modflow.mfbas.ModflowBas'>\n",
      "replacing existing Package...\n"
     ]
    },
    {
     "name": "stderr",
     "output_type": "stream",
     "text": [
      "C:\\Users\\tibun\\Anaconda3\\envs\\acople\\lib\\site-packages\\ipykernel_launcher.py:126: SettingWithCopyWarning: \n",
      "A value is trying to be set on a copy of a slice from a DataFrame\n",
      "\n",
      "See the caveats in the documentation: https://pandas.pydata.org/pandas-docs/stable/user_guide/indexing.html#returning-a-view-versus-a-copy\n"
     ]
    },
    {
     "name": "stdout",
     "output_type": "stream",
     "text": [
      "WARNING: There is drained water outside the SWMM model area\n",
      "2018-08-12 00:00:00\n",
      "WARNING: unit 19 of package RCH already in use\n",
      "****Warning -- two packages of the same type:  <class 'flopy.modflow.mfrch.ModflowRch'> <class 'flopy.modflow.mfrch.ModflowRch'>\n",
      "replacing existing Package...\n",
      "WARNING: unit 13 of package BAS6 already in use\n",
      "****Warning -- two packages of the same type:  <class 'flopy.modflow.mfbas.ModflowBas'> <class 'flopy.modflow.mfbas.ModflowBas'>\n",
      "replacing existing Package...\n"
     ]
    },
    {
     "name": "stderr",
     "output_type": "stream",
     "text": [
      "C:\\Users\\tibun\\Anaconda3\\envs\\acople\\lib\\site-packages\\ipykernel_launcher.py:126: SettingWithCopyWarning: \n",
      "A value is trying to be set on a copy of a slice from a DataFrame\n",
      "\n",
      "See the caveats in the documentation: https://pandas.pydata.org/pandas-docs/stable/user_guide/indexing.html#returning-a-view-versus-a-copy\n"
     ]
    },
    {
     "name": "stdout",
     "output_type": "stream",
     "text": [
      "WARNING: There is drained water outside the SWMM model area\n",
      "2018-08-13 00:00:00\n",
      "WARNING: unit 19 of package RCH already in use\n",
      "****Warning -- two packages of the same type:  <class 'flopy.modflow.mfrch.ModflowRch'> <class 'flopy.modflow.mfrch.ModflowRch'>\n",
      "replacing existing Package...\n",
      "WARNING: unit 13 of package BAS6 already in use\n",
      "****Warning -- two packages of the same type:  <class 'flopy.modflow.mfbas.ModflowBas'> <class 'flopy.modflow.mfbas.ModflowBas'>\n",
      "replacing existing Package...\n"
     ]
    },
    {
     "name": "stderr",
     "output_type": "stream",
     "text": [
      "C:\\Users\\tibun\\Anaconda3\\envs\\acople\\lib\\site-packages\\ipykernel_launcher.py:126: SettingWithCopyWarning: \n",
      "A value is trying to be set on a copy of a slice from a DataFrame\n",
      "\n",
      "See the caveats in the documentation: https://pandas.pydata.org/pandas-docs/stable/user_guide/indexing.html#returning-a-view-versus-a-copy\n"
     ]
    },
    {
     "name": "stdout",
     "output_type": "stream",
     "text": [
      "WARNING: There is drained water outside the SWMM model area\n",
      "2018-08-14 00:00:00\n",
      "WARNING: unit 19 of package RCH already in use\n",
      "****Warning -- two packages of the same type:  <class 'flopy.modflow.mfrch.ModflowRch'> <class 'flopy.modflow.mfrch.ModflowRch'>\n",
      "replacing existing Package...\n",
      "WARNING: unit 13 of package BAS6 already in use\n",
      "****Warning -- two packages of the same type:  <class 'flopy.modflow.mfbas.ModflowBas'> <class 'flopy.modflow.mfbas.ModflowBas'>\n",
      "replacing existing Package...\n"
     ]
    },
    {
     "name": "stderr",
     "output_type": "stream",
     "text": [
      "C:\\Users\\tibun\\Anaconda3\\envs\\acople\\lib\\site-packages\\ipykernel_launcher.py:126: SettingWithCopyWarning: \n",
      "A value is trying to be set on a copy of a slice from a DataFrame\n",
      "\n",
      "See the caveats in the documentation: https://pandas.pydata.org/pandas-docs/stable/user_guide/indexing.html#returning-a-view-versus-a-copy\n"
     ]
    },
    {
     "name": "stdout",
     "output_type": "stream",
     "text": [
      "WARNING: There is drained water outside the SWMM model area\n",
      "2018-08-15 00:00:00\n",
      "WARNING: unit 19 of package RCH already in use\n",
      "****Warning -- two packages of the same type:  <class 'flopy.modflow.mfrch.ModflowRch'> <class 'flopy.modflow.mfrch.ModflowRch'>\n",
      "replacing existing Package...\n",
      "WARNING: unit 13 of package BAS6 already in use\n",
      "****Warning -- two packages of the same type:  <class 'flopy.modflow.mfbas.ModflowBas'> <class 'flopy.modflow.mfbas.ModflowBas'>\n",
      "replacing existing Package...\n"
     ]
    },
    {
     "name": "stderr",
     "output_type": "stream",
     "text": [
      "C:\\Users\\tibun\\Anaconda3\\envs\\acople\\lib\\site-packages\\ipykernel_launcher.py:126: SettingWithCopyWarning: \n",
      "A value is trying to be set on a copy of a slice from a DataFrame\n",
      "\n",
      "See the caveats in the documentation: https://pandas.pydata.org/pandas-docs/stable/user_guide/indexing.html#returning-a-view-versus-a-copy\n"
     ]
    },
    {
     "name": "stdout",
     "output_type": "stream",
     "text": [
      "WARNING: There is drained water outside the SWMM model area\n",
      "2018-08-16 00:00:00\n",
      "WARNING: unit 19 of package RCH already in use\n",
      "****Warning -- two packages of the same type:  <class 'flopy.modflow.mfrch.ModflowRch'> <class 'flopy.modflow.mfrch.ModflowRch'>\n",
      "replacing existing Package...\n",
      "WARNING: unit 13 of package BAS6 already in use\n",
      "****Warning -- two packages of the same type:  <class 'flopy.modflow.mfbas.ModflowBas'> <class 'flopy.modflow.mfbas.ModflowBas'>\n",
      "replacing existing Package...\n"
     ]
    },
    {
     "name": "stderr",
     "output_type": "stream",
     "text": [
      "C:\\Users\\tibun\\Anaconda3\\envs\\acople\\lib\\site-packages\\ipykernel_launcher.py:126: SettingWithCopyWarning: \n",
      "A value is trying to be set on a copy of a slice from a DataFrame\n",
      "\n",
      "See the caveats in the documentation: https://pandas.pydata.org/pandas-docs/stable/user_guide/indexing.html#returning-a-view-versus-a-copy\n"
     ]
    },
    {
     "name": "stdout",
     "output_type": "stream",
     "text": [
      "WARNING: There is drained water outside the SWMM model area\n",
      "2018-08-17 00:00:00\n",
      "WARNING: unit 19 of package RCH already in use\n",
      "****Warning -- two packages of the same type:  <class 'flopy.modflow.mfrch.ModflowRch'> <class 'flopy.modflow.mfrch.ModflowRch'>\n",
      "replacing existing Package...\n",
      "WARNING: unit 13 of package BAS6 already in use\n",
      "****Warning -- two packages of the same type:  <class 'flopy.modflow.mfbas.ModflowBas'> <class 'flopy.modflow.mfbas.ModflowBas'>\n",
      "replacing existing Package...\n"
     ]
    },
    {
     "name": "stderr",
     "output_type": "stream",
     "text": [
      "C:\\Users\\tibun\\Anaconda3\\envs\\acople\\lib\\site-packages\\ipykernel_launcher.py:126: SettingWithCopyWarning: \n",
      "A value is trying to be set on a copy of a slice from a DataFrame\n",
      "\n",
      "See the caveats in the documentation: https://pandas.pydata.org/pandas-docs/stable/user_guide/indexing.html#returning-a-view-versus-a-copy\n"
     ]
    },
    {
     "name": "stdout",
     "output_type": "stream",
     "text": [
      "WARNING: There is drained water outside the SWMM model area\n",
      "2018-08-18 00:00:00\n",
      "WARNING: unit 19 of package RCH already in use\n",
      "****Warning -- two packages of the same type:  <class 'flopy.modflow.mfrch.ModflowRch'> <class 'flopy.modflow.mfrch.ModflowRch'>\n",
      "replacing existing Package...\n",
      "WARNING: unit 13 of package BAS6 already in use\n",
      "****Warning -- two packages of the same type:  <class 'flopy.modflow.mfbas.ModflowBas'> <class 'flopy.modflow.mfbas.ModflowBas'>\n",
      "replacing existing Package...\n"
     ]
    },
    {
     "name": "stderr",
     "output_type": "stream",
     "text": [
      "C:\\Users\\tibun\\Anaconda3\\envs\\acople\\lib\\site-packages\\ipykernel_launcher.py:126: SettingWithCopyWarning: \n",
      "A value is trying to be set on a copy of a slice from a DataFrame\n",
      "\n",
      "See the caveats in the documentation: https://pandas.pydata.org/pandas-docs/stable/user_guide/indexing.html#returning-a-view-versus-a-copy\n"
     ]
    },
    {
     "name": "stdout",
     "output_type": "stream",
     "text": [
      "WARNING: There is drained water outside the SWMM model area\n",
      "2018-08-19 00:00:00\n",
      "WARNING: unit 19 of package RCH already in use\n",
      "****Warning -- two packages of the same type:  <class 'flopy.modflow.mfrch.ModflowRch'> <class 'flopy.modflow.mfrch.ModflowRch'>\n",
      "replacing existing Package...\n",
      "WARNING: unit 13 of package BAS6 already in use\n",
      "****Warning -- two packages of the same type:  <class 'flopy.modflow.mfbas.ModflowBas'> <class 'flopy.modflow.mfbas.ModflowBas'>\n",
      "replacing existing Package...\n"
     ]
    },
    {
     "name": "stderr",
     "output_type": "stream",
     "text": [
      "C:\\Users\\tibun\\Anaconda3\\envs\\acople\\lib\\site-packages\\ipykernel_launcher.py:126: SettingWithCopyWarning: \n",
      "A value is trying to be set on a copy of a slice from a DataFrame\n",
      "\n",
      "See the caveats in the documentation: https://pandas.pydata.org/pandas-docs/stable/user_guide/indexing.html#returning-a-view-versus-a-copy\n"
     ]
    },
    {
     "name": "stdout",
     "output_type": "stream",
     "text": [
      "WARNING: There is drained water outside the SWMM model area\n",
      "2018-08-20 00:00:00\n",
      "WARNING: unit 19 of package RCH already in use\n",
      "****Warning -- two packages of the same type:  <class 'flopy.modflow.mfrch.ModflowRch'> <class 'flopy.modflow.mfrch.ModflowRch'>\n",
      "replacing existing Package...\n",
      "WARNING: unit 13 of package BAS6 already in use\n",
      "****Warning -- two packages of the same type:  <class 'flopy.modflow.mfbas.ModflowBas'> <class 'flopy.modflow.mfbas.ModflowBas'>\n",
      "replacing existing Package...\n"
     ]
    },
    {
     "name": "stderr",
     "output_type": "stream",
     "text": [
      "C:\\Users\\tibun\\Anaconda3\\envs\\acople\\lib\\site-packages\\ipykernel_launcher.py:126: SettingWithCopyWarning: \n",
      "A value is trying to be set on a copy of a slice from a DataFrame\n",
      "\n",
      "See the caveats in the documentation: https://pandas.pydata.org/pandas-docs/stable/user_guide/indexing.html#returning-a-view-versus-a-copy\n"
     ]
    },
    {
     "name": "stdout",
     "output_type": "stream",
     "text": [
      "WARNING: There is drained water outside the SWMM model area\n",
      "2018-08-21 00:00:00\n",
      "WARNING: unit 19 of package RCH already in use\n",
      "****Warning -- two packages of the same type:  <class 'flopy.modflow.mfrch.ModflowRch'> <class 'flopy.modflow.mfrch.ModflowRch'>\n",
      "replacing existing Package...\n",
      "WARNING: unit 13 of package BAS6 already in use\n",
      "****Warning -- two packages of the same type:  <class 'flopy.modflow.mfbas.ModflowBas'> <class 'flopy.modflow.mfbas.ModflowBas'>\n",
      "replacing existing Package...\n"
     ]
    },
    {
     "name": "stderr",
     "output_type": "stream",
     "text": [
      "C:\\Users\\tibun\\Anaconda3\\envs\\acople\\lib\\site-packages\\ipykernel_launcher.py:126: SettingWithCopyWarning: \n",
      "A value is trying to be set on a copy of a slice from a DataFrame\n",
      "\n",
      "See the caveats in the documentation: https://pandas.pydata.org/pandas-docs/stable/user_guide/indexing.html#returning-a-view-versus-a-copy\n"
     ]
    },
    {
     "name": "stdout",
     "output_type": "stream",
     "text": [
      "WARNING: There is drained water outside the SWMM model area\n",
      "2018-08-22 00:00:00\n",
      "WARNING: unit 19 of package RCH already in use\n",
      "****Warning -- two packages of the same type:  <class 'flopy.modflow.mfrch.ModflowRch'> <class 'flopy.modflow.mfrch.ModflowRch'>\n",
      "replacing existing Package...\n",
      "WARNING: unit 13 of package BAS6 already in use\n",
      "****Warning -- two packages of the same type:  <class 'flopy.modflow.mfbas.ModflowBas'> <class 'flopy.modflow.mfbas.ModflowBas'>\n",
      "replacing existing Package...\n"
     ]
    },
    {
     "name": "stderr",
     "output_type": "stream",
     "text": [
      "C:\\Users\\tibun\\Anaconda3\\envs\\acople\\lib\\site-packages\\ipykernel_launcher.py:126: SettingWithCopyWarning: \n",
      "A value is trying to be set on a copy of a slice from a DataFrame\n",
      "\n",
      "See the caveats in the documentation: https://pandas.pydata.org/pandas-docs/stable/user_guide/indexing.html#returning-a-view-versus-a-copy\n"
     ]
    },
    {
     "name": "stdout",
     "output_type": "stream",
     "text": [
      "WARNING: There is drained water outside the SWMM model area\n",
      "2018-08-23 00:00:00\n",
      "WARNING: unit 19 of package RCH already in use\n",
      "****Warning -- two packages of the same type:  <class 'flopy.modflow.mfrch.ModflowRch'> <class 'flopy.modflow.mfrch.ModflowRch'>\n",
      "replacing existing Package...\n",
      "WARNING: unit 13 of package BAS6 already in use\n",
      "****Warning -- two packages of the same type:  <class 'flopy.modflow.mfbas.ModflowBas'> <class 'flopy.modflow.mfbas.ModflowBas'>\n",
      "replacing existing Package...\n"
     ]
    },
    {
     "name": "stderr",
     "output_type": "stream",
     "text": [
      "C:\\Users\\tibun\\Anaconda3\\envs\\acople\\lib\\site-packages\\ipykernel_launcher.py:126: SettingWithCopyWarning: \n",
      "A value is trying to be set on a copy of a slice from a DataFrame\n",
      "\n",
      "See the caveats in the documentation: https://pandas.pydata.org/pandas-docs/stable/user_guide/indexing.html#returning-a-view-versus-a-copy\n"
     ]
    },
    {
     "name": "stdout",
     "output_type": "stream",
     "text": [
      "WARNING: There is drained water outside the SWMM model area\n",
      "2018-08-24 00:00:00\n",
      "WARNING: unit 19 of package RCH already in use\n",
      "****Warning -- two packages of the same type:  <class 'flopy.modflow.mfrch.ModflowRch'> <class 'flopy.modflow.mfrch.ModflowRch'>\n",
      "replacing existing Package...\n",
      "WARNING: unit 13 of package BAS6 already in use\n",
      "****Warning -- two packages of the same type:  <class 'flopy.modflow.mfbas.ModflowBas'> <class 'flopy.modflow.mfbas.ModflowBas'>\n",
      "replacing existing Package...\n"
     ]
    },
    {
     "name": "stderr",
     "output_type": "stream",
     "text": [
      "C:\\Users\\tibun\\Anaconda3\\envs\\acople\\lib\\site-packages\\ipykernel_launcher.py:126: SettingWithCopyWarning: \n",
      "A value is trying to be set on a copy of a slice from a DataFrame\n",
      "\n",
      "See the caveats in the documentation: https://pandas.pydata.org/pandas-docs/stable/user_guide/indexing.html#returning-a-view-versus-a-copy\n"
     ]
    },
    {
     "name": "stdout",
     "output_type": "stream",
     "text": [
      "WARNING: There is drained water outside the SWMM model area\n",
      "2018-08-25 00:00:00\n",
      "WARNING: unit 19 of package RCH already in use\n",
      "****Warning -- two packages of the same type:  <class 'flopy.modflow.mfrch.ModflowRch'> <class 'flopy.modflow.mfrch.ModflowRch'>\n",
      "replacing existing Package...\n",
      "WARNING: unit 13 of package BAS6 already in use\n",
      "****Warning -- two packages of the same type:  <class 'flopy.modflow.mfbas.ModflowBas'> <class 'flopy.modflow.mfbas.ModflowBas'>\n",
      "replacing existing Package...\n"
     ]
    },
    {
     "name": "stderr",
     "output_type": "stream",
     "text": [
      "C:\\Users\\tibun\\Anaconda3\\envs\\acople\\lib\\site-packages\\ipykernel_launcher.py:126: SettingWithCopyWarning: \n",
      "A value is trying to be set on a copy of a slice from a DataFrame\n",
      "\n",
      "See the caveats in the documentation: https://pandas.pydata.org/pandas-docs/stable/user_guide/indexing.html#returning-a-view-versus-a-copy\n"
     ]
    },
    {
     "name": "stdout",
     "output_type": "stream",
     "text": [
      "WARNING: There is drained water outside the SWMM model area\n",
      "2018-08-26 00:00:00\n",
      "WARNING: unit 19 of package RCH already in use\n",
      "****Warning -- two packages of the same type:  <class 'flopy.modflow.mfrch.ModflowRch'> <class 'flopy.modflow.mfrch.ModflowRch'>\n",
      "replacing existing Package...\n",
      "WARNING: unit 13 of package BAS6 already in use\n",
      "****Warning -- two packages of the same type:  <class 'flopy.modflow.mfbas.ModflowBas'> <class 'flopy.modflow.mfbas.ModflowBas'>\n",
      "replacing existing Package...\n"
     ]
    },
    {
     "name": "stderr",
     "output_type": "stream",
     "text": [
      "C:\\Users\\tibun\\Anaconda3\\envs\\acople\\lib\\site-packages\\ipykernel_launcher.py:126: SettingWithCopyWarning: \n",
      "A value is trying to be set on a copy of a slice from a DataFrame\n",
      "\n",
      "See the caveats in the documentation: https://pandas.pydata.org/pandas-docs/stable/user_guide/indexing.html#returning-a-view-versus-a-copy\n"
     ]
    },
    {
     "name": "stdout",
     "output_type": "stream",
     "text": [
      "WARNING: There is drained water outside the SWMM model area\n",
      "2018-08-27 00:00:00\n",
      "WARNING: unit 19 of package RCH already in use\n",
      "****Warning -- two packages of the same type:  <class 'flopy.modflow.mfrch.ModflowRch'> <class 'flopy.modflow.mfrch.ModflowRch'>\n",
      "replacing existing Package...\n",
      "WARNING: unit 13 of package BAS6 already in use\n",
      "****Warning -- two packages of the same type:  <class 'flopy.modflow.mfbas.ModflowBas'> <class 'flopy.modflow.mfbas.ModflowBas'>\n",
      "replacing existing Package...\n"
     ]
    },
    {
     "name": "stderr",
     "output_type": "stream",
     "text": [
      "C:\\Users\\tibun\\Anaconda3\\envs\\acople\\lib\\site-packages\\ipykernel_launcher.py:126: SettingWithCopyWarning: \n",
      "A value is trying to be set on a copy of a slice from a DataFrame\n",
      "\n",
      "See the caveats in the documentation: https://pandas.pydata.org/pandas-docs/stable/user_guide/indexing.html#returning-a-view-versus-a-copy\n"
     ]
    },
    {
     "name": "stdout",
     "output_type": "stream",
     "text": [
      "WARNING: There is drained water outside the SWMM model area\n",
      "2018-08-28 00:00:00\n",
      "WARNING: unit 19 of package RCH already in use\n",
      "****Warning -- two packages of the same type:  <class 'flopy.modflow.mfrch.ModflowRch'> <class 'flopy.modflow.mfrch.ModflowRch'>\n",
      "replacing existing Package...\n",
      "WARNING: unit 13 of package BAS6 already in use\n",
      "****Warning -- two packages of the same type:  <class 'flopy.modflow.mfbas.ModflowBas'> <class 'flopy.modflow.mfbas.ModflowBas'>\n",
      "replacing existing Package...\n"
     ]
    },
    {
     "name": "stderr",
     "output_type": "stream",
     "text": [
      "C:\\Users\\tibun\\Anaconda3\\envs\\acople\\lib\\site-packages\\ipykernel_launcher.py:126: SettingWithCopyWarning: \n",
      "A value is trying to be set on a copy of a slice from a DataFrame\n",
      "\n",
      "See the caveats in the documentation: https://pandas.pydata.org/pandas-docs/stable/user_guide/indexing.html#returning-a-view-versus-a-copy\n"
     ]
    },
    {
     "name": "stdout",
     "output_type": "stream",
     "text": [
      "WARNING: There is drained water outside the SWMM model area\n",
      "2018-08-29 00:00:00\n",
      "WARNING: unit 19 of package RCH already in use\n",
      "****Warning -- two packages of the same type:  <class 'flopy.modflow.mfrch.ModflowRch'> <class 'flopy.modflow.mfrch.ModflowRch'>\n",
      "replacing existing Package...\n",
      "WARNING: unit 13 of package BAS6 already in use\n",
      "****Warning -- two packages of the same type:  <class 'flopy.modflow.mfbas.ModflowBas'> <class 'flopy.modflow.mfbas.ModflowBas'>\n",
      "replacing existing Package...\n"
     ]
    },
    {
     "name": "stderr",
     "output_type": "stream",
     "text": [
      "C:\\Users\\tibun\\Anaconda3\\envs\\acople\\lib\\site-packages\\ipykernel_launcher.py:126: SettingWithCopyWarning: \n",
      "A value is trying to be set on a copy of a slice from a DataFrame\n",
      "\n",
      "See the caveats in the documentation: https://pandas.pydata.org/pandas-docs/stable/user_guide/indexing.html#returning-a-view-versus-a-copy\n"
     ]
    },
    {
     "name": "stdout",
     "output_type": "stream",
     "text": [
      "WARNING: There is drained water outside the SWMM model area\n",
      "2018-08-30 00:00:00\n",
      "WARNING: unit 19 of package RCH already in use\n",
      "****Warning -- two packages of the same type:  <class 'flopy.modflow.mfrch.ModflowRch'> <class 'flopy.modflow.mfrch.ModflowRch'>\n",
      "replacing existing Package...\n",
      "WARNING: unit 13 of package BAS6 already in use\n",
      "****Warning -- two packages of the same type:  <class 'flopy.modflow.mfbas.ModflowBas'> <class 'flopy.modflow.mfbas.ModflowBas'>\n",
      "replacing existing Package...\n"
     ]
    },
    {
     "name": "stderr",
     "output_type": "stream",
     "text": [
      "C:\\Users\\tibun\\Anaconda3\\envs\\acople\\lib\\site-packages\\ipykernel_launcher.py:126: SettingWithCopyWarning: \n",
      "A value is trying to be set on a copy of a slice from a DataFrame\n",
      "\n",
      "See the caveats in the documentation: https://pandas.pydata.org/pandas-docs/stable/user_guide/indexing.html#returning-a-view-versus-a-copy\n"
     ]
    },
    {
     "name": "stdout",
     "output_type": "stream",
     "text": [
      "WARNING: There is drained water outside the SWMM model area\n",
      "2018-08-31 00:00:00\n",
      "WARNING: unit 19 of package RCH already in use\n",
      "****Warning -- two packages of the same type:  <class 'flopy.modflow.mfrch.ModflowRch'> <class 'flopy.modflow.mfrch.ModflowRch'>\n",
      "replacing existing Package...\n",
      "WARNING: unit 13 of package BAS6 already in use\n",
      "****Warning -- two packages of the same type:  <class 'flopy.modflow.mfbas.ModflowBas'> <class 'flopy.modflow.mfbas.ModflowBas'>\n",
      "replacing existing Package...\n"
     ]
    },
    {
     "name": "stderr",
     "output_type": "stream",
     "text": [
      "C:\\Users\\tibun\\Anaconda3\\envs\\acople\\lib\\site-packages\\ipykernel_launcher.py:126: SettingWithCopyWarning: \n",
      "A value is trying to be set on a copy of a slice from a DataFrame\n",
      "\n",
      "See the caveats in the documentation: https://pandas.pydata.org/pandas-docs/stable/user_guide/indexing.html#returning-a-view-versus-a-copy\n"
     ]
    },
    {
     "name": "stdout",
     "output_type": "stream",
     "text": [
      "WARNING: There is drained water outside the SWMM model area\n",
      "2018-09-01 00:00:00\n",
      "WARNING: unit 19 of package RCH already in use\n",
      "****Warning -- two packages of the same type:  <class 'flopy.modflow.mfrch.ModflowRch'> <class 'flopy.modflow.mfrch.ModflowRch'>\n",
      "replacing existing Package...\n",
      "WARNING: unit 13 of package BAS6 already in use\n",
      "****Warning -- two packages of the same type:  <class 'flopy.modflow.mfbas.ModflowBas'> <class 'flopy.modflow.mfbas.ModflowBas'>\n",
      "replacing existing Package...\n"
     ]
    },
    {
     "name": "stderr",
     "output_type": "stream",
     "text": [
      "C:\\Users\\tibun\\Anaconda3\\envs\\acople\\lib\\site-packages\\ipykernel_launcher.py:126: SettingWithCopyWarning: \n",
      "A value is trying to be set on a copy of a slice from a DataFrame\n",
      "\n",
      "See the caveats in the documentation: https://pandas.pydata.org/pandas-docs/stable/user_guide/indexing.html#returning-a-view-versus-a-copy\n"
     ]
    },
    {
     "name": "stdout",
     "output_type": "stream",
     "text": [
      "WARNING: There is drained water outside the SWMM model area\n",
      "2018-09-02 00:00:00\n",
      "WARNING: unit 19 of package RCH already in use\n",
      "****Warning -- two packages of the same type:  <class 'flopy.modflow.mfrch.ModflowRch'> <class 'flopy.modflow.mfrch.ModflowRch'>\n",
      "replacing existing Package...\n",
      "WARNING: unit 13 of package BAS6 already in use\n",
      "****Warning -- two packages of the same type:  <class 'flopy.modflow.mfbas.ModflowBas'> <class 'flopy.modflow.mfbas.ModflowBas'>\n",
      "replacing existing Package...\n"
     ]
    },
    {
     "name": "stderr",
     "output_type": "stream",
     "text": [
      "C:\\Users\\tibun\\Anaconda3\\envs\\acople\\lib\\site-packages\\ipykernel_launcher.py:126: SettingWithCopyWarning: \n",
      "A value is trying to be set on a copy of a slice from a DataFrame\n",
      "\n",
      "See the caveats in the documentation: https://pandas.pydata.org/pandas-docs/stable/user_guide/indexing.html#returning-a-view-versus-a-copy\n"
     ]
    },
    {
     "name": "stdout",
     "output_type": "stream",
     "text": [
      "WARNING: There is drained water outside the SWMM model area\n",
      "2018-09-03 00:00:00\n",
      "WARNING: unit 19 of package RCH already in use\n",
      "****Warning -- two packages of the same type:  <class 'flopy.modflow.mfrch.ModflowRch'> <class 'flopy.modflow.mfrch.ModflowRch'>\n",
      "replacing existing Package...\n",
      "WARNING: unit 13 of package BAS6 already in use\n",
      "****Warning -- two packages of the same type:  <class 'flopy.modflow.mfbas.ModflowBas'> <class 'flopy.modflow.mfbas.ModflowBas'>\n",
      "replacing existing Package...\n"
     ]
    },
    {
     "name": "stderr",
     "output_type": "stream",
     "text": [
      "C:\\Users\\tibun\\Anaconda3\\envs\\acople\\lib\\site-packages\\ipykernel_launcher.py:126: SettingWithCopyWarning: \n",
      "A value is trying to be set on a copy of a slice from a DataFrame\n",
      "\n",
      "See the caveats in the documentation: https://pandas.pydata.org/pandas-docs/stable/user_guide/indexing.html#returning-a-view-versus-a-copy\n"
     ]
    },
    {
     "name": "stdout",
     "output_type": "stream",
     "text": [
      "WARNING: There is drained water outside the SWMM model area\n",
      "2018-09-04 00:00:00\n",
      "WARNING: unit 19 of package RCH already in use\n",
      "****Warning -- two packages of the same type:  <class 'flopy.modflow.mfrch.ModflowRch'> <class 'flopy.modflow.mfrch.ModflowRch'>\n",
      "replacing existing Package...\n",
      "WARNING: unit 13 of package BAS6 already in use\n",
      "****Warning -- two packages of the same type:  <class 'flopy.modflow.mfbas.ModflowBas'> <class 'flopy.modflow.mfbas.ModflowBas'>\n",
      "replacing existing Package...\n"
     ]
    },
    {
     "name": "stderr",
     "output_type": "stream",
     "text": [
      "C:\\Users\\tibun\\Anaconda3\\envs\\acople\\lib\\site-packages\\ipykernel_launcher.py:126: SettingWithCopyWarning: \n",
      "A value is trying to be set on a copy of a slice from a DataFrame\n",
      "\n",
      "See the caveats in the documentation: https://pandas.pydata.org/pandas-docs/stable/user_guide/indexing.html#returning-a-view-versus-a-copy\n"
     ]
    },
    {
     "name": "stdout",
     "output_type": "stream",
     "text": [
      "WARNING: There is drained water outside the SWMM model area\n",
      "2018-09-05 00:00:00\n",
      "WARNING: unit 19 of package RCH already in use\n",
      "****Warning -- two packages of the same type:  <class 'flopy.modflow.mfrch.ModflowRch'> <class 'flopy.modflow.mfrch.ModflowRch'>\n",
      "replacing existing Package...\n",
      "WARNING: unit 13 of package BAS6 already in use\n",
      "****Warning -- two packages of the same type:  <class 'flopy.modflow.mfbas.ModflowBas'> <class 'flopy.modflow.mfbas.ModflowBas'>\n",
      "replacing existing Package...\n"
     ]
    },
    {
     "name": "stderr",
     "output_type": "stream",
     "text": [
      "C:\\Users\\tibun\\Anaconda3\\envs\\acople\\lib\\site-packages\\ipykernel_launcher.py:126: SettingWithCopyWarning: \n",
      "A value is trying to be set on a copy of a slice from a DataFrame\n",
      "\n",
      "See the caveats in the documentation: https://pandas.pydata.org/pandas-docs/stable/user_guide/indexing.html#returning-a-view-versus-a-copy\n"
     ]
    },
    {
     "name": "stdout",
     "output_type": "stream",
     "text": [
      "WARNING: There is drained water outside the SWMM model area\n",
      "2018-09-06 00:00:00\n",
      "WARNING: unit 19 of package RCH already in use\n",
      "****Warning -- two packages of the same type:  <class 'flopy.modflow.mfrch.ModflowRch'> <class 'flopy.modflow.mfrch.ModflowRch'>\n",
      "replacing existing Package...\n",
      "WARNING: unit 13 of package BAS6 already in use\n",
      "****Warning -- two packages of the same type:  <class 'flopy.modflow.mfbas.ModflowBas'> <class 'flopy.modflow.mfbas.ModflowBas'>\n",
      "replacing existing Package...\n"
     ]
    },
    {
     "name": "stderr",
     "output_type": "stream",
     "text": [
      "C:\\Users\\tibun\\Anaconda3\\envs\\acople\\lib\\site-packages\\ipykernel_launcher.py:126: SettingWithCopyWarning: \n",
      "A value is trying to be set on a copy of a slice from a DataFrame\n",
      "\n",
      "See the caveats in the documentation: https://pandas.pydata.org/pandas-docs/stable/user_guide/indexing.html#returning-a-view-versus-a-copy\n"
     ]
    },
    {
     "name": "stdout",
     "output_type": "stream",
     "text": [
      "WARNING: There is drained water outside the SWMM model area\n",
      "2018-09-07 00:00:00\n",
      "WARNING: unit 19 of package RCH already in use\n",
      "****Warning -- two packages of the same type:  <class 'flopy.modflow.mfrch.ModflowRch'> <class 'flopy.modflow.mfrch.ModflowRch'>\n",
      "replacing existing Package...\n",
      "WARNING: unit 13 of package BAS6 already in use\n",
      "****Warning -- two packages of the same type:  <class 'flopy.modflow.mfbas.ModflowBas'> <class 'flopy.modflow.mfbas.ModflowBas'>\n",
      "replacing existing Package...\n"
     ]
    },
    {
     "name": "stderr",
     "output_type": "stream",
     "text": [
      "C:\\Users\\tibun\\Anaconda3\\envs\\acople\\lib\\site-packages\\ipykernel_launcher.py:126: SettingWithCopyWarning: \n",
      "A value is trying to be set on a copy of a slice from a DataFrame\n",
      "\n",
      "See the caveats in the documentation: https://pandas.pydata.org/pandas-docs/stable/user_guide/indexing.html#returning-a-view-versus-a-copy\n"
     ]
    },
    {
     "name": "stdout",
     "output_type": "stream",
     "text": [
      "WARNING: There is drained water outside the SWMM model area\n",
      "2018-09-08 00:00:00\n",
      "WARNING: unit 19 of package RCH already in use\n",
      "****Warning -- two packages of the same type:  <class 'flopy.modflow.mfrch.ModflowRch'> <class 'flopy.modflow.mfrch.ModflowRch'>\n",
      "replacing existing Package...\n",
      "WARNING: unit 13 of package BAS6 already in use\n",
      "****Warning -- two packages of the same type:  <class 'flopy.modflow.mfbas.ModflowBas'> <class 'flopy.modflow.mfbas.ModflowBas'>\n",
      "replacing existing Package...\n"
     ]
    },
    {
     "name": "stderr",
     "output_type": "stream",
     "text": [
      "C:\\Users\\tibun\\Anaconda3\\envs\\acople\\lib\\site-packages\\ipykernel_launcher.py:126: SettingWithCopyWarning: \n",
      "A value is trying to be set on a copy of a slice from a DataFrame\n",
      "\n",
      "See the caveats in the documentation: https://pandas.pydata.org/pandas-docs/stable/user_guide/indexing.html#returning-a-view-versus-a-copy\n"
     ]
    },
    {
     "name": "stdout",
     "output_type": "stream",
     "text": [
      "WARNING: There is drained water outside the SWMM model area\n",
      "2018-09-09 00:00:00\n",
      "WARNING: unit 19 of package RCH already in use\n",
      "****Warning -- two packages of the same type:  <class 'flopy.modflow.mfrch.ModflowRch'> <class 'flopy.modflow.mfrch.ModflowRch'>\n",
      "replacing existing Package...\n",
      "WARNING: unit 13 of package BAS6 already in use\n",
      "****Warning -- two packages of the same type:  <class 'flopy.modflow.mfbas.ModflowBas'> <class 'flopy.modflow.mfbas.ModflowBas'>\n",
      "replacing existing Package...\n"
     ]
    },
    {
     "name": "stderr",
     "output_type": "stream",
     "text": [
      "C:\\Users\\tibun\\Anaconda3\\envs\\acople\\lib\\site-packages\\ipykernel_launcher.py:126: SettingWithCopyWarning: \n",
      "A value is trying to be set on a copy of a slice from a DataFrame\n",
      "\n",
      "See the caveats in the documentation: https://pandas.pydata.org/pandas-docs/stable/user_guide/indexing.html#returning-a-view-versus-a-copy\n"
     ]
    },
    {
     "name": "stdout",
     "output_type": "stream",
     "text": [
      "WARNING: There is drained water outside the SWMM model area\n",
      "2018-09-10 00:00:00\n",
      "WARNING: unit 19 of package RCH already in use\n",
      "****Warning -- two packages of the same type:  <class 'flopy.modflow.mfrch.ModflowRch'> <class 'flopy.modflow.mfrch.ModflowRch'>\n",
      "replacing existing Package...\n",
      "WARNING: unit 13 of package BAS6 already in use\n",
      "****Warning -- two packages of the same type:  <class 'flopy.modflow.mfbas.ModflowBas'> <class 'flopy.modflow.mfbas.ModflowBas'>\n",
      "replacing existing Package...\n"
     ]
    },
    {
     "name": "stderr",
     "output_type": "stream",
     "text": [
      "C:\\Users\\tibun\\Anaconda3\\envs\\acople\\lib\\site-packages\\ipykernel_launcher.py:126: SettingWithCopyWarning: \n",
      "A value is trying to be set on a copy of a slice from a DataFrame\n",
      "\n",
      "See the caveats in the documentation: https://pandas.pydata.org/pandas-docs/stable/user_guide/indexing.html#returning-a-view-versus-a-copy\n"
     ]
    },
    {
     "name": "stdout",
     "output_type": "stream",
     "text": [
      "WARNING: There is drained water outside the SWMM model area\n",
      "2018-09-11 00:00:00\n",
      "WARNING: unit 19 of package RCH already in use\n",
      "****Warning -- two packages of the same type:  <class 'flopy.modflow.mfrch.ModflowRch'> <class 'flopy.modflow.mfrch.ModflowRch'>\n",
      "replacing existing Package...\n",
      "WARNING: unit 13 of package BAS6 already in use\n",
      "****Warning -- two packages of the same type:  <class 'flopy.modflow.mfbas.ModflowBas'> <class 'flopy.modflow.mfbas.ModflowBas'>\n",
      "replacing existing Package...\n"
     ]
    },
    {
     "name": "stderr",
     "output_type": "stream",
     "text": [
      "C:\\Users\\tibun\\Anaconda3\\envs\\acople\\lib\\site-packages\\ipykernel_launcher.py:126: SettingWithCopyWarning: \n",
      "A value is trying to be set on a copy of a slice from a DataFrame\n",
      "\n",
      "See the caveats in the documentation: https://pandas.pydata.org/pandas-docs/stable/user_guide/indexing.html#returning-a-view-versus-a-copy\n"
     ]
    },
    {
     "name": "stdout",
     "output_type": "stream",
     "text": [
      "WARNING: There is drained water outside the SWMM model area\n",
      "2018-09-12 00:00:00\n",
      "WARNING: unit 19 of package RCH already in use\n",
      "****Warning -- two packages of the same type:  <class 'flopy.modflow.mfrch.ModflowRch'> <class 'flopy.modflow.mfrch.ModflowRch'>\n",
      "replacing existing Package...\n",
      "WARNING: unit 13 of package BAS6 already in use\n",
      "****Warning -- two packages of the same type:  <class 'flopy.modflow.mfbas.ModflowBas'> <class 'flopy.modflow.mfbas.ModflowBas'>\n",
      "replacing existing Package...\n"
     ]
    },
    {
     "name": "stderr",
     "output_type": "stream",
     "text": [
      "C:\\Users\\tibun\\Anaconda3\\envs\\acople\\lib\\site-packages\\ipykernel_launcher.py:126: SettingWithCopyWarning: \n",
      "A value is trying to be set on a copy of a slice from a DataFrame\n",
      "\n",
      "See the caveats in the documentation: https://pandas.pydata.org/pandas-docs/stable/user_guide/indexing.html#returning-a-view-versus-a-copy\n"
     ]
    },
    {
     "name": "stdout",
     "output_type": "stream",
     "text": [
      "WARNING: There is drained water outside the SWMM model area\n",
      "2018-09-13 00:00:00\n",
      "WARNING: unit 19 of package RCH already in use\n",
      "****Warning -- two packages of the same type:  <class 'flopy.modflow.mfrch.ModflowRch'> <class 'flopy.modflow.mfrch.ModflowRch'>\n",
      "replacing existing Package...\n",
      "WARNING: unit 13 of package BAS6 already in use\n",
      "****Warning -- two packages of the same type:  <class 'flopy.modflow.mfbas.ModflowBas'> <class 'flopy.modflow.mfbas.ModflowBas'>\n",
      "replacing existing Package...\n"
     ]
    },
    {
     "name": "stderr",
     "output_type": "stream",
     "text": [
      "C:\\Users\\tibun\\Anaconda3\\envs\\acople\\lib\\site-packages\\ipykernel_launcher.py:126: SettingWithCopyWarning: \n",
      "A value is trying to be set on a copy of a slice from a DataFrame\n",
      "\n",
      "See the caveats in the documentation: https://pandas.pydata.org/pandas-docs/stable/user_guide/indexing.html#returning-a-view-versus-a-copy\n"
     ]
    },
    {
     "name": "stdout",
     "output_type": "stream",
     "text": [
      "WARNING: There is drained water outside the SWMM model area\n",
      "2018-09-14 00:00:00\n",
      "WARNING: unit 19 of package RCH already in use\n",
      "****Warning -- two packages of the same type:  <class 'flopy.modflow.mfrch.ModflowRch'> <class 'flopy.modflow.mfrch.ModflowRch'>\n",
      "replacing existing Package...\n",
      "WARNING: unit 13 of package BAS6 already in use\n",
      "****Warning -- two packages of the same type:  <class 'flopy.modflow.mfbas.ModflowBas'> <class 'flopy.modflow.mfbas.ModflowBas'>\n",
      "replacing existing Package...\n"
     ]
    },
    {
     "name": "stderr",
     "output_type": "stream",
     "text": [
      "C:\\Users\\tibun\\Anaconda3\\envs\\acople\\lib\\site-packages\\ipykernel_launcher.py:126: SettingWithCopyWarning: \n",
      "A value is trying to be set on a copy of a slice from a DataFrame\n",
      "\n",
      "See the caveats in the documentation: https://pandas.pydata.org/pandas-docs/stable/user_guide/indexing.html#returning-a-view-versus-a-copy\n"
     ]
    },
    {
     "name": "stdout",
     "output_type": "stream",
     "text": [
      "WARNING: There is drained water outside the SWMM model area\n",
      "2018-09-15 00:00:00\n",
      "WARNING: unit 19 of package RCH already in use\n",
      "****Warning -- two packages of the same type:  <class 'flopy.modflow.mfrch.ModflowRch'> <class 'flopy.modflow.mfrch.ModflowRch'>\n",
      "replacing existing Package...\n",
      "WARNING: unit 13 of package BAS6 already in use\n",
      "****Warning -- two packages of the same type:  <class 'flopy.modflow.mfbas.ModflowBas'> <class 'flopy.modflow.mfbas.ModflowBas'>\n",
      "replacing existing Package...\n"
     ]
    },
    {
     "name": "stderr",
     "output_type": "stream",
     "text": [
      "C:\\Users\\tibun\\Anaconda3\\envs\\acople\\lib\\site-packages\\ipykernel_launcher.py:126: SettingWithCopyWarning: \n",
      "A value is trying to be set on a copy of a slice from a DataFrame\n",
      "\n",
      "See the caveats in the documentation: https://pandas.pydata.org/pandas-docs/stable/user_guide/indexing.html#returning-a-view-versus-a-copy\n"
     ]
    },
    {
     "name": "stdout",
     "output_type": "stream",
     "text": [
      "WARNING: There is drained water outside the SWMM model area\n",
      "2018-09-16 00:00:00\n",
      "WARNING: unit 19 of package RCH already in use\n",
      "****Warning -- two packages of the same type:  <class 'flopy.modflow.mfrch.ModflowRch'> <class 'flopy.modflow.mfrch.ModflowRch'>\n",
      "replacing existing Package...\n",
      "WARNING: unit 13 of package BAS6 already in use\n",
      "****Warning -- two packages of the same type:  <class 'flopy.modflow.mfbas.ModflowBas'> <class 'flopy.modflow.mfbas.ModflowBas'>\n",
      "replacing existing Package...\n"
     ]
    },
    {
     "name": "stderr",
     "output_type": "stream",
     "text": [
      "C:\\Users\\tibun\\Anaconda3\\envs\\acople\\lib\\site-packages\\ipykernel_launcher.py:126: SettingWithCopyWarning: \n",
      "A value is trying to be set on a copy of a slice from a DataFrame\n",
      "\n",
      "See the caveats in the documentation: https://pandas.pydata.org/pandas-docs/stable/user_guide/indexing.html#returning-a-view-versus-a-copy\n"
     ]
    },
    {
     "name": "stdout",
     "output_type": "stream",
     "text": [
      "WARNING: There is drained water outside the SWMM model area\n",
      "2018-09-17 00:00:00\n",
      "WARNING: unit 19 of package RCH already in use\n",
      "****Warning -- two packages of the same type:  <class 'flopy.modflow.mfrch.ModflowRch'> <class 'flopy.modflow.mfrch.ModflowRch'>\n",
      "replacing existing Package...\n",
      "WARNING: unit 13 of package BAS6 already in use\n",
      "****Warning -- two packages of the same type:  <class 'flopy.modflow.mfbas.ModflowBas'> <class 'flopy.modflow.mfbas.ModflowBas'>\n",
      "replacing existing Package...\n"
     ]
    },
    {
     "name": "stderr",
     "output_type": "stream",
     "text": [
      "C:\\Users\\tibun\\Anaconda3\\envs\\acople\\lib\\site-packages\\ipykernel_launcher.py:126: SettingWithCopyWarning: \n",
      "A value is trying to be set on a copy of a slice from a DataFrame\n",
      "\n",
      "See the caveats in the documentation: https://pandas.pydata.org/pandas-docs/stable/user_guide/indexing.html#returning-a-view-versus-a-copy\n"
     ]
    },
    {
     "name": "stdout",
     "output_type": "stream",
     "text": [
      "WARNING: There is drained water outside the SWMM model area\n",
      "2018-09-18 00:00:00\n",
      "WARNING: unit 19 of package RCH already in use\n",
      "****Warning -- two packages of the same type:  <class 'flopy.modflow.mfrch.ModflowRch'> <class 'flopy.modflow.mfrch.ModflowRch'>\n",
      "replacing existing Package...\n",
      "WARNING: unit 13 of package BAS6 already in use\n",
      "****Warning -- two packages of the same type:  <class 'flopy.modflow.mfbas.ModflowBas'> <class 'flopy.modflow.mfbas.ModflowBas'>\n",
      "replacing existing Package...\n"
     ]
    },
    {
     "name": "stderr",
     "output_type": "stream",
     "text": [
      "C:\\Users\\tibun\\Anaconda3\\envs\\acople\\lib\\site-packages\\ipykernel_launcher.py:126: SettingWithCopyWarning: \n",
      "A value is trying to be set on a copy of a slice from a DataFrame\n",
      "\n",
      "See the caveats in the documentation: https://pandas.pydata.org/pandas-docs/stable/user_guide/indexing.html#returning-a-view-versus-a-copy\n"
     ]
    },
    {
     "name": "stdout",
     "output_type": "stream",
     "text": [
      "WARNING: There is drained water outside the SWMM model area\n",
      "2018-09-19 00:00:00\n",
      "WARNING: unit 19 of package RCH already in use\n",
      "****Warning -- two packages of the same type:  <class 'flopy.modflow.mfrch.ModflowRch'> <class 'flopy.modflow.mfrch.ModflowRch'>\n",
      "replacing existing Package...\n",
      "WARNING: unit 13 of package BAS6 already in use\n",
      "****Warning -- two packages of the same type:  <class 'flopy.modflow.mfbas.ModflowBas'> <class 'flopy.modflow.mfbas.ModflowBas'>\n",
      "replacing existing Package...\n"
     ]
    },
    {
     "name": "stderr",
     "output_type": "stream",
     "text": [
      "C:\\Users\\tibun\\Anaconda3\\envs\\acople\\lib\\site-packages\\ipykernel_launcher.py:126: SettingWithCopyWarning: \n",
      "A value is trying to be set on a copy of a slice from a DataFrame\n",
      "\n",
      "See the caveats in the documentation: https://pandas.pydata.org/pandas-docs/stable/user_guide/indexing.html#returning-a-view-versus-a-copy\n"
     ]
    },
    {
     "name": "stdout",
     "output_type": "stream",
     "text": [
      "WARNING: There is drained water outside the SWMM model area\n",
      "2018-09-20 00:00:00\n",
      "WARNING: unit 19 of package RCH already in use\n",
      "****Warning -- two packages of the same type:  <class 'flopy.modflow.mfrch.ModflowRch'> <class 'flopy.modflow.mfrch.ModflowRch'>\n",
      "replacing existing Package...\n",
      "WARNING: unit 13 of package BAS6 already in use\n",
      "****Warning -- two packages of the same type:  <class 'flopy.modflow.mfbas.ModflowBas'> <class 'flopy.modflow.mfbas.ModflowBas'>\n",
      "replacing existing Package...\n"
     ]
    },
    {
     "name": "stderr",
     "output_type": "stream",
     "text": [
      "C:\\Users\\tibun\\Anaconda3\\envs\\acople\\lib\\site-packages\\ipykernel_launcher.py:126: SettingWithCopyWarning: \n",
      "A value is trying to be set on a copy of a slice from a DataFrame\n",
      "\n",
      "See the caveats in the documentation: https://pandas.pydata.org/pandas-docs/stable/user_guide/indexing.html#returning-a-view-versus-a-copy\n"
     ]
    },
    {
     "name": "stdout",
     "output_type": "stream",
     "text": [
      "WARNING: There is drained water outside the SWMM model area\n",
      "2018-09-21 00:00:00\n",
      "WARNING: unit 19 of package RCH already in use\n",
      "****Warning -- two packages of the same type:  <class 'flopy.modflow.mfrch.ModflowRch'> <class 'flopy.modflow.mfrch.ModflowRch'>\n",
      "replacing existing Package...\n",
      "WARNING: unit 13 of package BAS6 already in use\n",
      "****Warning -- two packages of the same type:  <class 'flopy.modflow.mfbas.ModflowBas'> <class 'flopy.modflow.mfbas.ModflowBas'>\n",
      "replacing existing Package...\n"
     ]
    },
    {
     "name": "stderr",
     "output_type": "stream",
     "text": [
      "C:\\Users\\tibun\\Anaconda3\\envs\\acople\\lib\\site-packages\\ipykernel_launcher.py:126: SettingWithCopyWarning: \n",
      "A value is trying to be set on a copy of a slice from a DataFrame\n",
      "\n",
      "See the caveats in the documentation: https://pandas.pydata.org/pandas-docs/stable/user_guide/indexing.html#returning-a-view-versus-a-copy\n"
     ]
    },
    {
     "name": "stdout",
     "output_type": "stream",
     "text": [
      "WARNING: There is drained water outside the SWMM model area\n",
      "2018-09-22 00:00:00\n",
      "WARNING: unit 19 of package RCH already in use\n",
      "****Warning -- two packages of the same type:  <class 'flopy.modflow.mfrch.ModflowRch'> <class 'flopy.modflow.mfrch.ModflowRch'>\n",
      "replacing existing Package...\n",
      "WARNING: unit 13 of package BAS6 already in use\n",
      "****Warning -- two packages of the same type:  <class 'flopy.modflow.mfbas.ModflowBas'> <class 'flopy.modflow.mfbas.ModflowBas'>\n",
      "replacing existing Package...\n"
     ]
    },
    {
     "name": "stderr",
     "output_type": "stream",
     "text": [
      "C:\\Users\\tibun\\Anaconda3\\envs\\acople\\lib\\site-packages\\ipykernel_launcher.py:126: SettingWithCopyWarning: \n",
      "A value is trying to be set on a copy of a slice from a DataFrame\n",
      "\n",
      "See the caveats in the documentation: https://pandas.pydata.org/pandas-docs/stable/user_guide/indexing.html#returning-a-view-versus-a-copy\n"
     ]
    },
    {
     "name": "stdout",
     "output_type": "stream",
     "text": [
      "WARNING: There is drained water outside the SWMM model area\n",
      "2018-09-23 00:00:00\n",
      "WARNING: unit 19 of package RCH already in use\n",
      "****Warning -- two packages of the same type:  <class 'flopy.modflow.mfrch.ModflowRch'> <class 'flopy.modflow.mfrch.ModflowRch'>\n",
      "replacing existing Package...\n",
      "WARNING: unit 13 of package BAS6 already in use\n",
      "****Warning -- two packages of the same type:  <class 'flopy.modflow.mfbas.ModflowBas'> <class 'flopy.modflow.mfbas.ModflowBas'>\n",
      "replacing existing Package...\n"
     ]
    },
    {
     "name": "stderr",
     "output_type": "stream",
     "text": [
      "C:\\Users\\tibun\\Anaconda3\\envs\\acople\\lib\\site-packages\\ipykernel_launcher.py:126: SettingWithCopyWarning: \n",
      "A value is trying to be set on a copy of a slice from a DataFrame\n",
      "\n",
      "See the caveats in the documentation: https://pandas.pydata.org/pandas-docs/stable/user_guide/indexing.html#returning-a-view-versus-a-copy\n"
     ]
    },
    {
     "name": "stdout",
     "output_type": "stream",
     "text": [
      "WARNING: There is drained water outside the SWMM model area\n",
      "2018-09-24 00:00:00\n",
      "WARNING: unit 19 of package RCH already in use\n",
      "****Warning -- two packages of the same type:  <class 'flopy.modflow.mfrch.ModflowRch'> <class 'flopy.modflow.mfrch.ModflowRch'>\n",
      "replacing existing Package...\n",
      "WARNING: unit 13 of package BAS6 already in use\n",
      "****Warning -- two packages of the same type:  <class 'flopy.modflow.mfbas.ModflowBas'> <class 'flopy.modflow.mfbas.ModflowBas'>\n",
      "replacing existing Package...\n"
     ]
    },
    {
     "name": "stderr",
     "output_type": "stream",
     "text": [
      "C:\\Users\\tibun\\Anaconda3\\envs\\acople\\lib\\site-packages\\ipykernel_launcher.py:126: SettingWithCopyWarning: \n",
      "A value is trying to be set on a copy of a slice from a DataFrame\n",
      "\n",
      "See the caveats in the documentation: https://pandas.pydata.org/pandas-docs/stable/user_guide/indexing.html#returning-a-view-versus-a-copy\n"
     ]
    },
    {
     "name": "stdout",
     "output_type": "stream",
     "text": [
      "WARNING: There is drained water outside the SWMM model area\n",
      "2018-09-25 00:00:00\n",
      "WARNING: unit 19 of package RCH already in use\n",
      "****Warning -- two packages of the same type:  <class 'flopy.modflow.mfrch.ModflowRch'> <class 'flopy.modflow.mfrch.ModflowRch'>\n",
      "replacing existing Package...\n",
      "WARNING: unit 13 of package BAS6 already in use\n",
      "****Warning -- two packages of the same type:  <class 'flopy.modflow.mfbas.ModflowBas'> <class 'flopy.modflow.mfbas.ModflowBas'>\n",
      "replacing existing Package...\n"
     ]
    },
    {
     "name": "stderr",
     "output_type": "stream",
     "text": [
      "C:\\Users\\tibun\\Anaconda3\\envs\\acople\\lib\\site-packages\\ipykernel_launcher.py:126: SettingWithCopyWarning: \n",
      "A value is trying to be set on a copy of a slice from a DataFrame\n",
      "\n",
      "See the caveats in the documentation: https://pandas.pydata.org/pandas-docs/stable/user_guide/indexing.html#returning-a-view-versus-a-copy\n"
     ]
    },
    {
     "name": "stdout",
     "output_type": "stream",
     "text": [
      "WARNING: There is drained water outside the SWMM model area\n",
      "2018-09-26 00:00:00\n",
      "WARNING: unit 19 of package RCH already in use\n",
      "****Warning -- two packages of the same type:  <class 'flopy.modflow.mfrch.ModflowRch'> <class 'flopy.modflow.mfrch.ModflowRch'>\n",
      "replacing existing Package...\n",
      "WARNING: unit 13 of package BAS6 already in use\n",
      "****Warning -- two packages of the same type:  <class 'flopy.modflow.mfbas.ModflowBas'> <class 'flopy.modflow.mfbas.ModflowBas'>\n",
      "replacing existing Package...\n"
     ]
    },
    {
     "name": "stderr",
     "output_type": "stream",
     "text": [
      "C:\\Users\\tibun\\Anaconda3\\envs\\acople\\lib\\site-packages\\ipykernel_launcher.py:126: SettingWithCopyWarning: \n",
      "A value is trying to be set on a copy of a slice from a DataFrame\n",
      "\n",
      "See the caveats in the documentation: https://pandas.pydata.org/pandas-docs/stable/user_guide/indexing.html#returning-a-view-versus-a-copy\n"
     ]
    },
    {
     "name": "stdout",
     "output_type": "stream",
     "text": [
      "WARNING: There is drained water outside the SWMM model area\n",
      "2018-09-27 00:00:00\n",
      "WARNING: unit 19 of package RCH already in use\n",
      "****Warning -- two packages of the same type:  <class 'flopy.modflow.mfrch.ModflowRch'> <class 'flopy.modflow.mfrch.ModflowRch'>\n",
      "replacing existing Package...\n",
      "WARNING: unit 13 of package BAS6 already in use\n",
      "****Warning -- two packages of the same type:  <class 'flopy.modflow.mfbas.ModflowBas'> <class 'flopy.modflow.mfbas.ModflowBas'>\n",
      "replacing existing Package...\n"
     ]
    },
    {
     "name": "stderr",
     "output_type": "stream",
     "text": [
      "C:\\Users\\tibun\\Anaconda3\\envs\\acople\\lib\\site-packages\\ipykernel_launcher.py:126: SettingWithCopyWarning: \n",
      "A value is trying to be set on a copy of a slice from a DataFrame\n",
      "\n",
      "See the caveats in the documentation: https://pandas.pydata.org/pandas-docs/stable/user_guide/indexing.html#returning-a-view-versus-a-copy\n"
     ]
    },
    {
     "name": "stdout",
     "output_type": "stream",
     "text": [
      "WARNING: There is drained water outside the SWMM model area\n",
      "2018-09-28 00:00:00\n",
      "WARNING: unit 19 of package RCH already in use\n",
      "****Warning -- two packages of the same type:  <class 'flopy.modflow.mfrch.ModflowRch'> <class 'flopy.modflow.mfrch.ModflowRch'>\n",
      "replacing existing Package...\n",
      "WARNING: unit 13 of package BAS6 already in use\n",
      "****Warning -- two packages of the same type:  <class 'flopy.modflow.mfbas.ModflowBas'> <class 'flopy.modflow.mfbas.ModflowBas'>\n",
      "replacing existing Package...\n"
     ]
    },
    {
     "name": "stderr",
     "output_type": "stream",
     "text": [
      "C:\\Users\\tibun\\Anaconda3\\envs\\acople\\lib\\site-packages\\ipykernel_launcher.py:126: SettingWithCopyWarning: \n",
      "A value is trying to be set on a copy of a slice from a DataFrame\n",
      "\n",
      "See the caveats in the documentation: https://pandas.pydata.org/pandas-docs/stable/user_guide/indexing.html#returning-a-view-versus-a-copy\n"
     ]
    },
    {
     "name": "stdout",
     "output_type": "stream",
     "text": [
      "WARNING: There is drained water outside the SWMM model area\n",
      "2018-09-29 00:00:00\n",
      "WARNING: unit 19 of package RCH already in use\n",
      "****Warning -- two packages of the same type:  <class 'flopy.modflow.mfrch.ModflowRch'> <class 'flopy.modflow.mfrch.ModflowRch'>\n",
      "replacing existing Package...\n",
      "WARNING: unit 13 of package BAS6 already in use\n",
      "****Warning -- two packages of the same type:  <class 'flopy.modflow.mfbas.ModflowBas'> <class 'flopy.modflow.mfbas.ModflowBas'>\n",
      "replacing existing Package...\n"
     ]
    },
    {
     "name": "stderr",
     "output_type": "stream",
     "text": [
      "C:\\Users\\tibun\\Anaconda3\\envs\\acople\\lib\\site-packages\\ipykernel_launcher.py:126: SettingWithCopyWarning: \n",
      "A value is trying to be set on a copy of a slice from a DataFrame\n",
      "\n",
      "See the caveats in the documentation: https://pandas.pydata.org/pandas-docs/stable/user_guide/indexing.html#returning-a-view-versus-a-copy\n"
     ]
    },
    {
     "name": "stdout",
     "output_type": "stream",
     "text": [
      "WARNING: There is drained water outside the SWMM model area\n",
      "2018-09-30 00:00:00\n",
      "WARNING: unit 19 of package RCH already in use\n",
      "****Warning -- two packages of the same type:  <class 'flopy.modflow.mfrch.ModflowRch'> <class 'flopy.modflow.mfrch.ModflowRch'>\n",
      "replacing existing Package...\n",
      "WARNING: unit 13 of package BAS6 already in use\n",
      "****Warning -- two packages of the same type:  <class 'flopy.modflow.mfbas.ModflowBas'> <class 'flopy.modflow.mfbas.ModflowBas'>\n",
      "replacing existing Package...\n"
     ]
    },
    {
     "name": "stderr",
     "output_type": "stream",
     "text": [
      "C:\\Users\\tibun\\Anaconda3\\envs\\acople\\lib\\site-packages\\ipykernel_launcher.py:126: SettingWithCopyWarning: \n",
      "A value is trying to be set on a copy of a slice from a DataFrame\n",
      "\n",
      "See the caveats in the documentation: https://pandas.pydata.org/pandas-docs/stable/user_guide/indexing.html#returning-a-view-versus-a-copy\n"
     ]
    },
    {
     "name": "stdout",
     "output_type": "stream",
     "text": [
      "WARNING: There is drained water outside the SWMM model area\n",
      "2018-10-01 00:00:00\n",
      "WARNING: unit 19 of package RCH already in use\n",
      "****Warning -- two packages of the same type:  <class 'flopy.modflow.mfrch.ModflowRch'> <class 'flopy.modflow.mfrch.ModflowRch'>\n",
      "replacing existing Package...\n",
      "WARNING: unit 13 of package BAS6 already in use\n",
      "****Warning -- two packages of the same type:  <class 'flopy.modflow.mfbas.ModflowBas'> <class 'flopy.modflow.mfbas.ModflowBas'>\n",
      "replacing existing Package...\n"
     ]
    },
    {
     "name": "stderr",
     "output_type": "stream",
     "text": [
      "C:\\Users\\tibun\\Anaconda3\\envs\\acople\\lib\\site-packages\\ipykernel_launcher.py:126: SettingWithCopyWarning: \n",
      "A value is trying to be set on a copy of a slice from a DataFrame\n",
      "\n",
      "See the caveats in the documentation: https://pandas.pydata.org/pandas-docs/stable/user_guide/indexing.html#returning-a-view-versus-a-copy\n"
     ]
    },
    {
     "name": "stdout",
     "output_type": "stream",
     "text": [
      "WARNING: There is drained water outside the SWMM model area\n",
      "2018-10-02 00:00:00\n",
      "WARNING: unit 19 of package RCH already in use\n",
      "****Warning -- two packages of the same type:  <class 'flopy.modflow.mfrch.ModflowRch'> <class 'flopy.modflow.mfrch.ModflowRch'>\n",
      "replacing existing Package...\n",
      "WARNING: unit 13 of package BAS6 already in use\n",
      "****Warning -- two packages of the same type:  <class 'flopy.modflow.mfbas.ModflowBas'> <class 'flopy.modflow.mfbas.ModflowBas'>\n",
      "replacing existing Package...\n"
     ]
    },
    {
     "name": "stderr",
     "output_type": "stream",
     "text": [
      "C:\\Users\\tibun\\Anaconda3\\envs\\acople\\lib\\site-packages\\ipykernel_launcher.py:126: SettingWithCopyWarning: \n",
      "A value is trying to be set on a copy of a slice from a DataFrame\n",
      "\n",
      "See the caveats in the documentation: https://pandas.pydata.org/pandas-docs/stable/user_guide/indexing.html#returning-a-view-versus-a-copy\n"
     ]
    },
    {
     "name": "stdout",
     "output_type": "stream",
     "text": [
      "WARNING: There is drained water outside the SWMM model area\n",
      "2018-10-03 00:00:00\n",
      "WARNING: unit 19 of package RCH already in use\n",
      "****Warning -- two packages of the same type:  <class 'flopy.modflow.mfrch.ModflowRch'> <class 'flopy.modflow.mfrch.ModflowRch'>\n",
      "replacing existing Package...\n",
      "WARNING: unit 13 of package BAS6 already in use\n",
      "****Warning -- two packages of the same type:  <class 'flopy.modflow.mfbas.ModflowBas'> <class 'flopy.modflow.mfbas.ModflowBas'>\n",
      "replacing existing Package...\n"
     ]
    },
    {
     "name": "stderr",
     "output_type": "stream",
     "text": [
      "C:\\Users\\tibun\\Anaconda3\\envs\\acople\\lib\\site-packages\\ipykernel_launcher.py:126: SettingWithCopyWarning: \n",
      "A value is trying to be set on a copy of a slice from a DataFrame\n",
      "\n",
      "See the caveats in the documentation: https://pandas.pydata.org/pandas-docs/stable/user_guide/indexing.html#returning-a-view-versus-a-copy\n"
     ]
    },
    {
     "name": "stdout",
     "output_type": "stream",
     "text": [
      "WARNING: There is drained water outside the SWMM model area\n",
      "2018-10-04 00:00:00\n",
      "WARNING: unit 19 of package RCH already in use\n",
      "****Warning -- two packages of the same type:  <class 'flopy.modflow.mfrch.ModflowRch'> <class 'flopy.modflow.mfrch.ModflowRch'>\n",
      "replacing existing Package...\n",
      "WARNING: unit 13 of package BAS6 already in use\n",
      "****Warning -- two packages of the same type:  <class 'flopy.modflow.mfbas.ModflowBas'> <class 'flopy.modflow.mfbas.ModflowBas'>\n",
      "replacing existing Package...\n"
     ]
    },
    {
     "name": "stderr",
     "output_type": "stream",
     "text": [
      "C:\\Users\\tibun\\Anaconda3\\envs\\acople\\lib\\site-packages\\ipykernel_launcher.py:126: SettingWithCopyWarning: \n",
      "A value is trying to be set on a copy of a slice from a DataFrame\n",
      "\n",
      "See the caveats in the documentation: https://pandas.pydata.org/pandas-docs/stable/user_guide/indexing.html#returning-a-view-versus-a-copy\n"
     ]
    },
    {
     "name": "stdout",
     "output_type": "stream",
     "text": [
      "WARNING: There is drained water outside the SWMM model area\n",
      "2018-10-05 00:00:00\n",
      "WARNING: unit 19 of package RCH already in use\n",
      "****Warning -- two packages of the same type:  <class 'flopy.modflow.mfrch.ModflowRch'> <class 'flopy.modflow.mfrch.ModflowRch'>\n",
      "replacing existing Package...\n",
      "WARNING: unit 13 of package BAS6 already in use\n",
      "****Warning -- two packages of the same type:  <class 'flopy.modflow.mfbas.ModflowBas'> <class 'flopy.modflow.mfbas.ModflowBas'>\n",
      "replacing existing Package...\n"
     ]
    },
    {
     "name": "stderr",
     "output_type": "stream",
     "text": [
      "C:\\Users\\tibun\\Anaconda3\\envs\\acople\\lib\\site-packages\\ipykernel_launcher.py:126: SettingWithCopyWarning: \n",
      "A value is trying to be set on a copy of a slice from a DataFrame\n",
      "\n",
      "See the caveats in the documentation: https://pandas.pydata.org/pandas-docs/stable/user_guide/indexing.html#returning-a-view-versus-a-copy\n"
     ]
    },
    {
     "name": "stdout",
     "output_type": "stream",
     "text": [
      "WARNING: There is drained water outside the SWMM model area\n",
      "2018-10-06 00:00:00\n",
      "WARNING: unit 19 of package RCH already in use\n",
      "****Warning -- two packages of the same type:  <class 'flopy.modflow.mfrch.ModflowRch'> <class 'flopy.modflow.mfrch.ModflowRch'>\n",
      "replacing existing Package...\n",
      "WARNING: unit 13 of package BAS6 already in use\n",
      "****Warning -- two packages of the same type:  <class 'flopy.modflow.mfbas.ModflowBas'> <class 'flopy.modflow.mfbas.ModflowBas'>\n",
      "replacing existing Package...\n"
     ]
    },
    {
     "name": "stderr",
     "output_type": "stream",
     "text": [
      "C:\\Users\\tibun\\Anaconda3\\envs\\acople\\lib\\site-packages\\ipykernel_launcher.py:126: SettingWithCopyWarning: \n",
      "A value is trying to be set on a copy of a slice from a DataFrame\n",
      "\n",
      "See the caveats in the documentation: https://pandas.pydata.org/pandas-docs/stable/user_guide/indexing.html#returning-a-view-versus-a-copy\n"
     ]
    },
    {
     "name": "stdout",
     "output_type": "stream",
     "text": [
      "WARNING: There is drained water outside the SWMM model area\n",
      "2018-10-07 00:00:00\n",
      "WARNING: unit 19 of package RCH already in use\n",
      "****Warning -- two packages of the same type:  <class 'flopy.modflow.mfrch.ModflowRch'> <class 'flopy.modflow.mfrch.ModflowRch'>\n",
      "replacing existing Package...\n",
      "WARNING: unit 13 of package BAS6 already in use\n",
      "****Warning -- two packages of the same type:  <class 'flopy.modflow.mfbas.ModflowBas'> <class 'flopy.modflow.mfbas.ModflowBas'>\n",
      "replacing existing Package...\n"
     ]
    },
    {
     "name": "stderr",
     "output_type": "stream",
     "text": [
      "C:\\Users\\tibun\\Anaconda3\\envs\\acople\\lib\\site-packages\\ipykernel_launcher.py:126: SettingWithCopyWarning: \n",
      "A value is trying to be set on a copy of a slice from a DataFrame\n",
      "\n",
      "See the caveats in the documentation: https://pandas.pydata.org/pandas-docs/stable/user_guide/indexing.html#returning-a-view-versus-a-copy\n"
     ]
    },
    {
     "name": "stdout",
     "output_type": "stream",
     "text": [
      "WARNING: There is drained water outside the SWMM model area\n",
      "2018-10-08 00:00:00\n",
      "WARNING: unit 19 of package RCH already in use\n",
      "****Warning -- two packages of the same type:  <class 'flopy.modflow.mfrch.ModflowRch'> <class 'flopy.modflow.mfrch.ModflowRch'>\n",
      "replacing existing Package...\n",
      "WARNING: unit 13 of package BAS6 already in use\n",
      "****Warning -- two packages of the same type:  <class 'flopy.modflow.mfbas.ModflowBas'> <class 'flopy.modflow.mfbas.ModflowBas'>\n",
      "replacing existing Package...\n"
     ]
    },
    {
     "name": "stderr",
     "output_type": "stream",
     "text": [
      "C:\\Users\\tibun\\Anaconda3\\envs\\acople\\lib\\site-packages\\ipykernel_launcher.py:126: SettingWithCopyWarning: \n",
      "A value is trying to be set on a copy of a slice from a DataFrame\n",
      "\n",
      "See the caveats in the documentation: https://pandas.pydata.org/pandas-docs/stable/user_guide/indexing.html#returning-a-view-versus-a-copy\n"
     ]
    },
    {
     "name": "stdout",
     "output_type": "stream",
     "text": [
      "WARNING: There is drained water outside the SWMM model area\n",
      "2018-10-09 00:00:00\n",
      "WARNING: unit 19 of package RCH already in use\n",
      "****Warning -- two packages of the same type:  <class 'flopy.modflow.mfrch.ModflowRch'> <class 'flopy.modflow.mfrch.ModflowRch'>\n",
      "replacing existing Package...\n",
      "WARNING: unit 13 of package BAS6 already in use\n",
      "****Warning -- two packages of the same type:  <class 'flopy.modflow.mfbas.ModflowBas'> <class 'flopy.modflow.mfbas.ModflowBas'>\n",
      "replacing existing Package...\n"
     ]
    },
    {
     "name": "stderr",
     "output_type": "stream",
     "text": [
      "C:\\Users\\tibun\\Anaconda3\\envs\\acople\\lib\\site-packages\\ipykernel_launcher.py:126: SettingWithCopyWarning: \n",
      "A value is trying to be set on a copy of a slice from a DataFrame\n",
      "\n",
      "See the caveats in the documentation: https://pandas.pydata.org/pandas-docs/stable/user_guide/indexing.html#returning-a-view-versus-a-copy\n"
     ]
    },
    {
     "name": "stdout",
     "output_type": "stream",
     "text": [
      "WARNING: There is drained water outside the SWMM model area\n",
      "2018-10-10 00:00:00\n",
      "WARNING: unit 19 of package RCH already in use\n",
      "****Warning -- two packages of the same type:  <class 'flopy.modflow.mfrch.ModflowRch'> <class 'flopy.modflow.mfrch.ModflowRch'>\n",
      "replacing existing Package...\n",
      "WARNING: unit 13 of package BAS6 already in use\n",
      "****Warning -- two packages of the same type:  <class 'flopy.modflow.mfbas.ModflowBas'> <class 'flopy.modflow.mfbas.ModflowBas'>\n",
      "replacing existing Package...\n"
     ]
    },
    {
     "name": "stderr",
     "output_type": "stream",
     "text": [
      "C:\\Users\\tibun\\Anaconda3\\envs\\acople\\lib\\site-packages\\ipykernel_launcher.py:126: SettingWithCopyWarning: \n",
      "A value is trying to be set on a copy of a slice from a DataFrame\n",
      "\n",
      "See the caveats in the documentation: https://pandas.pydata.org/pandas-docs/stable/user_guide/indexing.html#returning-a-view-versus-a-copy\n"
     ]
    },
    {
     "name": "stdout",
     "output_type": "stream",
     "text": [
      "WARNING: There is drained water outside the SWMM model area\n",
      "2018-10-11 00:00:00\n",
      "WARNING: unit 19 of package RCH already in use\n",
      "****Warning -- two packages of the same type:  <class 'flopy.modflow.mfrch.ModflowRch'> <class 'flopy.modflow.mfrch.ModflowRch'>\n",
      "replacing existing Package...\n",
      "WARNING: unit 13 of package BAS6 already in use\n",
      "****Warning -- two packages of the same type:  <class 'flopy.modflow.mfbas.ModflowBas'> <class 'flopy.modflow.mfbas.ModflowBas'>\n",
      "replacing existing Package...\n"
     ]
    },
    {
     "name": "stderr",
     "output_type": "stream",
     "text": [
      "C:\\Users\\tibun\\Anaconda3\\envs\\acople\\lib\\site-packages\\ipykernel_launcher.py:126: SettingWithCopyWarning: \n",
      "A value is trying to be set on a copy of a slice from a DataFrame\n",
      "\n",
      "See the caveats in the documentation: https://pandas.pydata.org/pandas-docs/stable/user_guide/indexing.html#returning-a-view-versus-a-copy\n"
     ]
    },
    {
     "name": "stdout",
     "output_type": "stream",
     "text": [
      "WARNING: There is drained water outside the SWMM model area\n",
      "2018-10-12 00:00:00\n",
      "WARNING: unit 19 of package RCH already in use\n",
      "****Warning -- two packages of the same type:  <class 'flopy.modflow.mfrch.ModflowRch'> <class 'flopy.modflow.mfrch.ModflowRch'>\n",
      "replacing existing Package...\n",
      "WARNING: unit 13 of package BAS6 already in use\n",
      "****Warning -- two packages of the same type:  <class 'flopy.modflow.mfbas.ModflowBas'> <class 'flopy.modflow.mfbas.ModflowBas'>\n",
      "replacing existing Package...\n"
     ]
    },
    {
     "name": "stderr",
     "output_type": "stream",
     "text": [
      "C:\\Users\\tibun\\Anaconda3\\envs\\acople\\lib\\site-packages\\ipykernel_launcher.py:126: SettingWithCopyWarning: \n",
      "A value is trying to be set on a copy of a slice from a DataFrame\n",
      "\n",
      "See the caveats in the documentation: https://pandas.pydata.org/pandas-docs/stable/user_guide/indexing.html#returning-a-view-versus-a-copy\n"
     ]
    },
    {
     "name": "stdout",
     "output_type": "stream",
     "text": [
      "WARNING: There is drained water outside the SWMM model area\n",
      "2018-10-13 00:00:00\n",
      "WARNING: unit 19 of package RCH already in use\n",
      "****Warning -- two packages of the same type:  <class 'flopy.modflow.mfrch.ModflowRch'> <class 'flopy.modflow.mfrch.ModflowRch'>\n",
      "replacing existing Package...\n",
      "WARNING: unit 13 of package BAS6 already in use\n",
      "****Warning -- two packages of the same type:  <class 'flopy.modflow.mfbas.ModflowBas'> <class 'flopy.modflow.mfbas.ModflowBas'>\n",
      "replacing existing Package...\n"
     ]
    },
    {
     "name": "stderr",
     "output_type": "stream",
     "text": [
      "C:\\Users\\tibun\\Anaconda3\\envs\\acople\\lib\\site-packages\\ipykernel_launcher.py:126: SettingWithCopyWarning: \n",
      "A value is trying to be set on a copy of a slice from a DataFrame\n",
      "\n",
      "See the caveats in the documentation: https://pandas.pydata.org/pandas-docs/stable/user_guide/indexing.html#returning-a-view-versus-a-copy\n"
     ]
    },
    {
     "name": "stdout",
     "output_type": "stream",
     "text": [
      "WARNING: There is drained water outside the SWMM model area\n",
      "2018-10-14 00:00:00\n",
      "WARNING: unit 19 of package RCH already in use\n",
      "****Warning -- two packages of the same type:  <class 'flopy.modflow.mfrch.ModflowRch'> <class 'flopy.modflow.mfrch.ModflowRch'>\n",
      "replacing existing Package...\n",
      "WARNING: unit 13 of package BAS6 already in use\n",
      "****Warning -- two packages of the same type:  <class 'flopy.modflow.mfbas.ModflowBas'> <class 'flopy.modflow.mfbas.ModflowBas'>\n",
      "replacing existing Package...\n"
     ]
    },
    {
     "name": "stderr",
     "output_type": "stream",
     "text": [
      "C:\\Users\\tibun\\Anaconda3\\envs\\acople\\lib\\site-packages\\ipykernel_launcher.py:126: SettingWithCopyWarning: \n",
      "A value is trying to be set on a copy of a slice from a DataFrame\n",
      "\n",
      "See the caveats in the documentation: https://pandas.pydata.org/pandas-docs/stable/user_guide/indexing.html#returning-a-view-versus-a-copy\n"
     ]
    },
    {
     "name": "stdout",
     "output_type": "stream",
     "text": [
      "WARNING: There is drained water outside the SWMM model area\n",
      "2018-10-15 00:00:00\n",
      "WARNING: unit 19 of package RCH already in use\n",
      "****Warning -- two packages of the same type:  <class 'flopy.modflow.mfrch.ModflowRch'> <class 'flopy.modflow.mfrch.ModflowRch'>\n",
      "replacing existing Package...\n",
      "WARNING: unit 13 of package BAS6 already in use\n",
      "****Warning -- two packages of the same type:  <class 'flopy.modflow.mfbas.ModflowBas'> <class 'flopy.modflow.mfbas.ModflowBas'>\n",
      "replacing existing Package...\n"
     ]
    },
    {
     "name": "stderr",
     "output_type": "stream",
     "text": [
      "C:\\Users\\tibun\\Anaconda3\\envs\\acople\\lib\\site-packages\\ipykernel_launcher.py:126: SettingWithCopyWarning: \n",
      "A value is trying to be set on a copy of a slice from a DataFrame\n",
      "\n",
      "See the caveats in the documentation: https://pandas.pydata.org/pandas-docs/stable/user_guide/indexing.html#returning-a-view-versus-a-copy\n"
     ]
    },
    {
     "name": "stdout",
     "output_type": "stream",
     "text": [
      "WARNING: There is drained water outside the SWMM model area\n",
      "2018-10-16 00:00:00\n",
      "WARNING: unit 19 of package RCH already in use\n",
      "****Warning -- two packages of the same type:  <class 'flopy.modflow.mfrch.ModflowRch'> <class 'flopy.modflow.mfrch.ModflowRch'>\n",
      "replacing existing Package...\n",
      "WARNING: unit 13 of package BAS6 already in use\n",
      "****Warning -- two packages of the same type:  <class 'flopy.modflow.mfbas.ModflowBas'> <class 'flopy.modflow.mfbas.ModflowBas'>\n",
      "replacing existing Package...\n",
      "WARNING: There is drained water outside the SWMM model area\n"
     ]
    },
    {
     "name": "stderr",
     "output_type": "stream",
     "text": [
      "C:\\Users\\tibun\\Anaconda3\\envs\\acople\\lib\\site-packages\\ipykernel_launcher.py:126: SettingWithCopyWarning: \n",
      "A value is trying to be set on a copy of a slice from a DataFrame\n",
      "\n",
      "See the caveats in the documentation: https://pandas.pydata.org/pandas-docs/stable/user_guide/indexing.html#returning-a-view-versus-a-copy\n"
     ]
    },
    {
     "name": "stdout",
     "output_type": "stream",
     "text": [
      "2018-10-17 00:00:00\n",
      "WARNING: unit 19 of package RCH already in use\n",
      "****Warning -- two packages of the same type:  <class 'flopy.modflow.mfrch.ModflowRch'> <class 'flopy.modflow.mfrch.ModflowRch'>\n",
      "replacing existing Package...\n",
      "WARNING: unit 13 of package BAS6 already in use\n",
      "****Warning -- two packages of the same type:  <class 'flopy.modflow.mfbas.ModflowBas'> <class 'flopy.modflow.mfbas.ModflowBas'>\n",
      "replacing existing Package...\n"
     ]
    },
    {
     "name": "stderr",
     "output_type": "stream",
     "text": [
      "C:\\Users\\tibun\\Anaconda3\\envs\\acople\\lib\\site-packages\\ipykernel_launcher.py:126: SettingWithCopyWarning: \n",
      "A value is trying to be set on a copy of a slice from a DataFrame\n",
      "\n",
      "See the caveats in the documentation: https://pandas.pydata.org/pandas-docs/stable/user_guide/indexing.html#returning-a-view-versus-a-copy\n"
     ]
    },
    {
     "name": "stdout",
     "output_type": "stream",
     "text": [
      "WARNING: There is drained water outside the SWMM model area\n",
      "2018-10-18 00:00:00\n",
      "WARNING: unit 19 of package RCH already in use\n",
      "****Warning -- two packages of the same type:  <class 'flopy.modflow.mfrch.ModflowRch'> <class 'flopy.modflow.mfrch.ModflowRch'>\n",
      "replacing existing Package...\n",
      "WARNING: unit 13 of package BAS6 already in use\n",
      "****Warning -- two packages of the same type:  <class 'flopy.modflow.mfbas.ModflowBas'> <class 'flopy.modflow.mfbas.ModflowBas'>\n",
      "replacing existing Package...\n"
     ]
    },
    {
     "name": "stderr",
     "output_type": "stream",
     "text": [
      "C:\\Users\\tibun\\Anaconda3\\envs\\acople\\lib\\site-packages\\ipykernel_launcher.py:126: SettingWithCopyWarning: \n",
      "A value is trying to be set on a copy of a slice from a DataFrame\n",
      "\n",
      "See the caveats in the documentation: https://pandas.pydata.org/pandas-docs/stable/user_guide/indexing.html#returning-a-view-versus-a-copy\n"
     ]
    },
    {
     "name": "stdout",
     "output_type": "stream",
     "text": [
      "WARNING: There is drained water outside the SWMM model area\n",
      "2018-10-19 00:00:00\n",
      "WARNING: unit 19 of package RCH already in use\n",
      "****Warning -- two packages of the same type:  <class 'flopy.modflow.mfrch.ModflowRch'> <class 'flopy.modflow.mfrch.ModflowRch'>\n",
      "replacing existing Package...\n",
      "WARNING: unit 13 of package BAS6 already in use\n",
      "****Warning -- two packages of the same type:  <class 'flopy.modflow.mfbas.ModflowBas'> <class 'flopy.modflow.mfbas.ModflowBas'>\n",
      "replacing existing Package...\n"
     ]
    },
    {
     "name": "stderr",
     "output_type": "stream",
     "text": [
      "C:\\Users\\tibun\\Anaconda3\\envs\\acople\\lib\\site-packages\\ipykernel_launcher.py:126: SettingWithCopyWarning: \n",
      "A value is trying to be set on a copy of a slice from a DataFrame\n",
      "\n",
      "See the caveats in the documentation: https://pandas.pydata.org/pandas-docs/stable/user_guide/indexing.html#returning-a-view-versus-a-copy\n"
     ]
    },
    {
     "name": "stdout",
     "output_type": "stream",
     "text": [
      "WARNING: There is drained water outside the SWMM model area\n",
      "2018-10-20 00:00:00\n",
      "WARNING: unit 19 of package RCH already in use\n",
      "****Warning -- two packages of the same type:  <class 'flopy.modflow.mfrch.ModflowRch'> <class 'flopy.modflow.mfrch.ModflowRch'>\n",
      "replacing existing Package...\n",
      "WARNING: unit 13 of package BAS6 already in use\n",
      "****Warning -- two packages of the same type:  <class 'flopy.modflow.mfbas.ModflowBas'> <class 'flopy.modflow.mfbas.ModflowBas'>\n",
      "replacing existing Package...\n"
     ]
    },
    {
     "name": "stderr",
     "output_type": "stream",
     "text": [
      "C:\\Users\\tibun\\Anaconda3\\envs\\acople\\lib\\site-packages\\ipykernel_launcher.py:126: SettingWithCopyWarning: \n",
      "A value is trying to be set on a copy of a slice from a DataFrame\n",
      "\n",
      "See the caveats in the documentation: https://pandas.pydata.org/pandas-docs/stable/user_guide/indexing.html#returning-a-view-versus-a-copy\n"
     ]
    },
    {
     "name": "stdout",
     "output_type": "stream",
     "text": [
      "WARNING: There is drained water outside the SWMM model area\n",
      "2018-10-21 00:00:00\n",
      "WARNING: unit 19 of package RCH already in use\n",
      "****Warning -- two packages of the same type:  <class 'flopy.modflow.mfrch.ModflowRch'> <class 'flopy.modflow.mfrch.ModflowRch'>\n",
      "replacing existing Package...\n",
      "WARNING: unit 13 of package BAS6 already in use\n",
      "****Warning -- two packages of the same type:  <class 'flopy.modflow.mfbas.ModflowBas'> <class 'flopy.modflow.mfbas.ModflowBas'>\n",
      "replacing existing Package...\n"
     ]
    },
    {
     "name": "stderr",
     "output_type": "stream",
     "text": [
      "C:\\Users\\tibun\\Anaconda3\\envs\\acople\\lib\\site-packages\\ipykernel_launcher.py:126: SettingWithCopyWarning: \n",
      "A value is trying to be set on a copy of a slice from a DataFrame\n",
      "\n",
      "See the caveats in the documentation: https://pandas.pydata.org/pandas-docs/stable/user_guide/indexing.html#returning-a-view-versus-a-copy\n"
     ]
    },
    {
     "name": "stdout",
     "output_type": "stream",
     "text": [
      "WARNING: There is drained water outside the SWMM model area\n",
      "2018-10-22 00:00:00\n",
      "WARNING: unit 19 of package RCH already in use\n",
      "****Warning -- two packages of the same type:  <class 'flopy.modflow.mfrch.ModflowRch'> <class 'flopy.modflow.mfrch.ModflowRch'>\n",
      "replacing existing Package...\n",
      "WARNING: unit 13 of package BAS6 already in use\n",
      "****Warning -- two packages of the same type:  <class 'flopy.modflow.mfbas.ModflowBas'> <class 'flopy.modflow.mfbas.ModflowBas'>\n",
      "replacing existing Package...\n"
     ]
    },
    {
     "name": "stderr",
     "output_type": "stream",
     "text": [
      "C:\\Users\\tibun\\Anaconda3\\envs\\acople\\lib\\site-packages\\ipykernel_launcher.py:126: SettingWithCopyWarning: \n",
      "A value is trying to be set on a copy of a slice from a DataFrame\n",
      "\n",
      "See the caveats in the documentation: https://pandas.pydata.org/pandas-docs/stable/user_guide/indexing.html#returning-a-view-versus-a-copy\n"
     ]
    },
    {
     "name": "stdout",
     "output_type": "stream",
     "text": [
      "WARNING: There is drained water outside the SWMM model area\n",
      "2018-10-23 00:00:00\n",
      "WARNING: unit 19 of package RCH already in use\n",
      "****Warning -- two packages of the same type:  <class 'flopy.modflow.mfrch.ModflowRch'> <class 'flopy.modflow.mfrch.ModflowRch'>\n",
      "replacing existing Package...\n",
      "WARNING: unit 13 of package BAS6 already in use\n",
      "****Warning -- two packages of the same type:  <class 'flopy.modflow.mfbas.ModflowBas'> <class 'flopy.modflow.mfbas.ModflowBas'>\n",
      "replacing existing Package...\n"
     ]
    },
    {
     "name": "stderr",
     "output_type": "stream",
     "text": [
      "C:\\Users\\tibun\\Anaconda3\\envs\\acople\\lib\\site-packages\\ipykernel_launcher.py:126: SettingWithCopyWarning: \n",
      "A value is trying to be set on a copy of a slice from a DataFrame\n",
      "\n",
      "See the caveats in the documentation: https://pandas.pydata.org/pandas-docs/stable/user_guide/indexing.html#returning-a-view-versus-a-copy\n"
     ]
    },
    {
     "name": "stdout",
     "output_type": "stream",
     "text": [
      "WARNING: There is drained water outside the SWMM model area\n",
      "2018-10-24 00:00:00\n",
      "WARNING: unit 19 of package RCH already in use\n",
      "****Warning -- two packages of the same type:  <class 'flopy.modflow.mfrch.ModflowRch'> <class 'flopy.modflow.mfrch.ModflowRch'>\n",
      "replacing existing Package...\n",
      "WARNING: unit 13 of package BAS6 already in use\n",
      "****Warning -- two packages of the same type:  <class 'flopy.modflow.mfbas.ModflowBas'> <class 'flopy.modflow.mfbas.ModflowBas'>\n",
      "replacing existing Package...\n"
     ]
    },
    {
     "name": "stderr",
     "output_type": "stream",
     "text": [
      "C:\\Users\\tibun\\Anaconda3\\envs\\acople\\lib\\site-packages\\ipykernel_launcher.py:126: SettingWithCopyWarning: \n",
      "A value is trying to be set on a copy of a slice from a DataFrame\n",
      "\n",
      "See the caveats in the documentation: https://pandas.pydata.org/pandas-docs/stable/user_guide/indexing.html#returning-a-view-versus-a-copy\n"
     ]
    },
    {
     "name": "stdout",
     "output_type": "stream",
     "text": [
      "WARNING: There is drained water outside the SWMM model area\n",
      "2018-10-25 00:00:00\n",
      "WARNING: unit 19 of package RCH already in use\n",
      "****Warning -- two packages of the same type:  <class 'flopy.modflow.mfrch.ModflowRch'> <class 'flopy.modflow.mfrch.ModflowRch'>\n",
      "replacing existing Package...\n",
      "WARNING: unit 13 of package BAS6 already in use\n",
      "****Warning -- two packages of the same type:  <class 'flopy.modflow.mfbas.ModflowBas'> <class 'flopy.modflow.mfbas.ModflowBas'>\n",
      "replacing existing Package...\n",
      "WARNING: There is drained water outside the SWMM model area"
     ]
    },
    {
     "name": "stderr",
     "output_type": "stream",
     "text": [
      "C:\\Users\\tibun\\Anaconda3\\envs\\acople\\lib\\site-packages\\ipykernel_launcher.py:126: SettingWithCopyWarning: \n",
      "A value is trying to be set on a copy of a slice from a DataFrame\n",
      "\n",
      "See the caveats in the documentation: https://pandas.pydata.org/pandas-docs/stable/user_guide/indexing.html#returning-a-view-versus-a-copy\n"
     ]
    },
    {
     "name": "stdout",
     "output_type": "stream",
     "text": [
      "\n",
      "2018-10-26 00:00:00\n",
      "WARNING: unit 19 of package RCH already in use\n",
      "****Warning -- two packages of the same type:  <class 'flopy.modflow.mfrch.ModflowRch'> <class 'flopy.modflow.mfrch.ModflowRch'>\n",
      "replacing existing Package...\n",
      "WARNING: unit 13 of package BAS6 already in use\n",
      "****Warning -- two packages of the same type:  <class 'flopy.modflow.mfbas.ModflowBas'> <class 'flopy.modflow.mfbas.ModflowBas'>\n",
      "replacing existing Package...\n"
     ]
    },
    {
     "name": "stderr",
     "output_type": "stream",
     "text": [
      "C:\\Users\\tibun\\Anaconda3\\envs\\acople\\lib\\site-packages\\ipykernel_launcher.py:126: SettingWithCopyWarning: \n",
      "A value is trying to be set on a copy of a slice from a DataFrame\n",
      "\n",
      "See the caveats in the documentation: https://pandas.pydata.org/pandas-docs/stable/user_guide/indexing.html#returning-a-view-versus-a-copy\n"
     ]
    },
    {
     "name": "stdout",
     "output_type": "stream",
     "text": [
      "WARNING: There is drained water outside the SWMM model area\n",
      "2018-10-27 00:00:00\n",
      "WARNING: unit 19 of package RCH already in use\n",
      "****Warning -- two packages of the same type:  <class 'flopy.modflow.mfrch.ModflowRch'> <class 'flopy.modflow.mfrch.ModflowRch'>\n",
      "replacing existing Package...\n",
      "WARNING: unit 13 of package BAS6 already in use\n",
      "****Warning -- two packages of the same type:  <class 'flopy.modflow.mfbas.ModflowBas'> <class 'flopy.modflow.mfbas.ModflowBas'>\n",
      "replacing existing Package...\n",
      "WARNING: There is drained water outside the SWMM model area\n"
     ]
    },
    {
     "name": "stderr",
     "output_type": "stream",
     "text": [
      "C:\\Users\\tibun\\Anaconda3\\envs\\acople\\lib\\site-packages\\ipykernel_launcher.py:126: SettingWithCopyWarning: \n",
      "A value is trying to be set on a copy of a slice from a DataFrame\n",
      "\n",
      "See the caveats in the documentation: https://pandas.pydata.org/pandas-docs/stable/user_guide/indexing.html#returning-a-view-versus-a-copy\n"
     ]
    },
    {
     "name": "stdout",
     "output_type": "stream",
     "text": [
      "2018-10-28 00:00:00\n",
      "WARNING: unit 19 of package RCH already in use\n",
      "****Warning -- two packages of the same type:  <class 'flopy.modflow.mfrch.ModflowRch'> <class 'flopy.modflow.mfrch.ModflowRch'>\n",
      "replacing existing Package...\n",
      "WARNING: unit 13 of package BAS6 already in use\n",
      "****Warning -- two packages of the same type:  <class 'flopy.modflow.mfbas.ModflowBas'> <class 'flopy.modflow.mfbas.ModflowBas'>\n",
      "replacing existing Package...\n"
     ]
    },
    {
     "name": "stderr",
     "output_type": "stream",
     "text": [
      "C:\\Users\\tibun\\Anaconda3\\envs\\acople\\lib\\site-packages\\ipykernel_launcher.py:126: SettingWithCopyWarning: \n",
      "A value is trying to be set on a copy of a slice from a DataFrame\n",
      "\n",
      "See the caveats in the documentation: https://pandas.pydata.org/pandas-docs/stable/user_guide/indexing.html#returning-a-view-versus-a-copy\n"
     ]
    },
    {
     "name": "stdout",
     "output_type": "stream",
     "text": [
      "WARNING: There is drained water outside the SWMM model area\n",
      "2018-10-29 00:00:00\n",
      "WARNING: unit 19 of package RCH already in use\n",
      "****Warning -- two packages of the same type:  <class 'flopy.modflow.mfrch.ModflowRch'> <class 'flopy.modflow.mfrch.ModflowRch'>\n",
      "replacing existing Package...\n",
      "WARNING: unit 13 of package BAS6 already in use\n",
      "****Warning -- two packages of the same type:  <class 'flopy.modflow.mfbas.ModflowBas'> <class 'flopy.modflow.mfbas.ModflowBas'>\n",
      "replacing existing Package...\n"
     ]
    },
    {
     "name": "stderr",
     "output_type": "stream",
     "text": [
      "C:\\Users\\tibun\\Anaconda3\\envs\\acople\\lib\\site-packages\\ipykernel_launcher.py:126: SettingWithCopyWarning: \n",
      "A value is trying to be set on a copy of a slice from a DataFrame\n",
      "\n",
      "See the caveats in the documentation: https://pandas.pydata.org/pandas-docs/stable/user_guide/indexing.html#returning-a-view-versus-a-copy\n"
     ]
    },
    {
     "name": "stdout",
     "output_type": "stream",
     "text": [
      "WARNING: There is drained water outside the SWMM model area\n",
      "2018-10-30 00:00:00\n",
      "WARNING: unit 19 of package RCH already in use\n",
      "****Warning -- two packages of the same type:  <class 'flopy.modflow.mfrch.ModflowRch'> <class 'flopy.modflow.mfrch.ModflowRch'>\n",
      "replacing existing Package...\n",
      "WARNING: unit 13 of package BAS6 already in use\n",
      "****Warning -- two packages of the same type:  <class 'flopy.modflow.mfbas.ModflowBas'> <class 'flopy.modflow.mfbas.ModflowBas'>\n",
      "replacing existing Package...\n"
     ]
    },
    {
     "name": "stderr",
     "output_type": "stream",
     "text": [
      "C:\\Users\\tibun\\Anaconda3\\envs\\acople\\lib\\site-packages\\ipykernel_launcher.py:126: SettingWithCopyWarning: \n",
      "A value is trying to be set on a copy of a slice from a DataFrame\n",
      "\n",
      "See the caveats in the documentation: https://pandas.pydata.org/pandas-docs/stable/user_guide/indexing.html#returning-a-view-versus-a-copy\n"
     ]
    },
    {
     "name": "stdout",
     "output_type": "stream",
     "text": [
      "WARNING: There is drained water outside the SWMM model area\n",
      "2018-10-31 00:00:00\n",
      "WARNING: unit 19 of package RCH already in use\n",
      "****Warning -- two packages of the same type:  <class 'flopy.modflow.mfrch.ModflowRch'> <class 'flopy.modflow.mfrch.ModflowRch'>\n",
      "replacing existing Package...\n",
      "WARNING: unit 13 of package BAS6 already in use\n",
      "****Warning -- two packages of the same type:  <class 'flopy.modflow.mfbas.ModflowBas'> <class 'flopy.modflow.mfbas.ModflowBas'>\n",
      "replacing existing Package...\n"
     ]
    },
    {
     "name": "stderr",
     "output_type": "stream",
     "text": [
      "C:\\Users\\tibun\\Anaconda3\\envs\\acople\\lib\\site-packages\\ipykernel_launcher.py:126: SettingWithCopyWarning: \n",
      "A value is trying to be set on a copy of a slice from a DataFrame\n",
      "\n",
      "See the caveats in the documentation: https://pandas.pydata.org/pandas-docs/stable/user_guide/indexing.html#returning-a-view-versus-a-copy\n"
     ]
    },
    {
     "name": "stdout",
     "output_type": "stream",
     "text": [
      "WARNING: There is drained water outside the SWMM model area\n",
      "2018-11-01 00:00:00\n",
      "WARNING: unit 19 of package RCH already in use\n",
      "****Warning -- two packages of the same type:  <class 'flopy.modflow.mfrch.ModflowRch'> <class 'flopy.modflow.mfrch.ModflowRch'>\n",
      "replacing existing Package...\n",
      "WARNING: unit 13 of package BAS6 already in use\n",
      "****Warning -- two packages of the same type:  <class 'flopy.modflow.mfbas.ModflowBas'> <class 'flopy.modflow.mfbas.ModflowBas'>\n",
      "replacing existing Package...\n"
     ]
    },
    {
     "name": "stderr",
     "output_type": "stream",
     "text": [
      "C:\\Users\\tibun\\Anaconda3\\envs\\acople\\lib\\site-packages\\ipykernel_launcher.py:126: SettingWithCopyWarning: \n",
      "A value is trying to be set on a copy of a slice from a DataFrame\n",
      "\n",
      "See the caveats in the documentation: https://pandas.pydata.org/pandas-docs/stable/user_guide/indexing.html#returning-a-view-versus-a-copy\n"
     ]
    },
    {
     "name": "stdout",
     "output_type": "stream",
     "text": [
      "WARNING: There is drained water outside the SWMM model area\n",
      "2018-11-02 00:00:00\n",
      "WARNING: unit 19 of package RCH already in use\n",
      "****Warning -- two packages of the same type:  <class 'flopy.modflow.mfrch.ModflowRch'> <class 'flopy.modflow.mfrch.ModflowRch'>\n",
      "replacing existing Package...\n",
      "WARNING: unit 13 of package BAS6 already in use\n",
      "****Warning -- two packages of the same type:  <class 'flopy.modflow.mfbas.ModflowBas'> <class 'flopy.modflow.mfbas.ModflowBas'>\n",
      "replacing existing Package...\n"
     ]
    },
    {
     "name": "stderr",
     "output_type": "stream",
     "text": [
      "C:\\Users\\tibun\\Anaconda3\\envs\\acople\\lib\\site-packages\\ipykernel_launcher.py:126: SettingWithCopyWarning: \n",
      "A value is trying to be set on a copy of a slice from a DataFrame\n",
      "\n",
      "See the caveats in the documentation: https://pandas.pydata.org/pandas-docs/stable/user_guide/indexing.html#returning-a-view-versus-a-copy\n"
     ]
    },
    {
     "name": "stdout",
     "output_type": "stream",
     "text": [
      "WARNING: There is drained water outside the SWMM model area\n",
      "2018-11-03 00:00:00\n",
      "WARNING: unit 19 of package RCH already in use\n",
      "****Warning -- two packages of the same type:  <class 'flopy.modflow.mfrch.ModflowRch'> <class 'flopy.modflow.mfrch.ModflowRch'>\n",
      "replacing existing Package...\n",
      "WARNING: unit 13 of package BAS6 already in use\n",
      "****Warning -- two packages of the same type:  <class 'flopy.modflow.mfbas.ModflowBas'> <class 'flopy.modflow.mfbas.ModflowBas'>\n",
      "replacing existing Package...\n"
     ]
    },
    {
     "name": "stderr",
     "output_type": "stream",
     "text": [
      "C:\\Users\\tibun\\Anaconda3\\envs\\acople\\lib\\site-packages\\ipykernel_launcher.py:126: SettingWithCopyWarning: \n",
      "A value is trying to be set on a copy of a slice from a DataFrame\n",
      "\n",
      "See the caveats in the documentation: https://pandas.pydata.org/pandas-docs/stable/user_guide/indexing.html#returning-a-view-versus-a-copy\n"
     ]
    },
    {
     "name": "stdout",
     "output_type": "stream",
     "text": [
      "WARNING: There is drained water outside the SWMM model area\n",
      "2018-11-04 00:00:00\n",
      "WARNING: unit 19 of package RCH already in use\n",
      "****Warning -- two packages of the same type:  <class 'flopy.modflow.mfrch.ModflowRch'> <class 'flopy.modflow.mfrch.ModflowRch'>\n",
      "replacing existing Package...\n",
      "WARNING: unit 13 of package BAS6 already in use\n",
      "****Warning -- two packages of the same type:  <class 'flopy.modflow.mfbas.ModflowBas'> <class 'flopy.modflow.mfbas.ModflowBas'>\n",
      "replacing existing Package...\n"
     ]
    },
    {
     "name": "stderr",
     "output_type": "stream",
     "text": [
      "C:\\Users\\tibun\\Anaconda3\\envs\\acople\\lib\\site-packages\\ipykernel_launcher.py:126: SettingWithCopyWarning: \n",
      "A value is trying to be set on a copy of a slice from a DataFrame\n",
      "\n",
      "See the caveats in the documentation: https://pandas.pydata.org/pandas-docs/stable/user_guide/indexing.html#returning-a-view-versus-a-copy\n"
     ]
    },
    {
     "name": "stdout",
     "output_type": "stream",
     "text": [
      "WARNING: There is drained water outside the SWMM model area\n",
      "2018-11-05 00:00:00\n",
      "WARNING: unit 19 of package RCH already in use\n",
      "****Warning -- two packages of the same type:  <class 'flopy.modflow.mfrch.ModflowRch'> <class 'flopy.modflow.mfrch.ModflowRch'>\n",
      "replacing existing Package...\n",
      "WARNING: unit 13 of package BAS6 already in use\n",
      "****Warning -- two packages of the same type:  <class 'flopy.modflow.mfbas.ModflowBas'> <class 'flopy.modflow.mfbas.ModflowBas'>\n",
      "replacing existing Package...\n"
     ]
    },
    {
     "name": "stderr",
     "output_type": "stream",
     "text": [
      "C:\\Users\\tibun\\Anaconda3\\envs\\acople\\lib\\site-packages\\ipykernel_launcher.py:126: SettingWithCopyWarning: \n",
      "A value is trying to be set on a copy of a slice from a DataFrame\n",
      "\n",
      "See the caveats in the documentation: https://pandas.pydata.org/pandas-docs/stable/user_guide/indexing.html#returning-a-view-versus-a-copy\n"
     ]
    },
    {
     "name": "stdout",
     "output_type": "stream",
     "text": [
      "WARNING: There is drained water outside the SWMM model area\n",
      "2018-11-06 00:00:00\n",
      "WARNING: unit 19 of package RCH already in use\n",
      "****Warning -- two packages of the same type:  <class 'flopy.modflow.mfrch.ModflowRch'> <class 'flopy.modflow.mfrch.ModflowRch'>\n",
      "replacing existing Package...\n",
      "WARNING: unit 13 of package BAS6 already in use\n",
      "****Warning -- two packages of the same type:  <class 'flopy.modflow.mfbas.ModflowBas'> <class 'flopy.modflow.mfbas.ModflowBas'>\n",
      "replacing existing Package...\n"
     ]
    },
    {
     "name": "stderr",
     "output_type": "stream",
     "text": [
      "C:\\Users\\tibun\\Anaconda3\\envs\\acople\\lib\\site-packages\\ipykernel_launcher.py:126: SettingWithCopyWarning: \n",
      "A value is trying to be set on a copy of a slice from a DataFrame\n",
      "\n",
      "See the caveats in the documentation: https://pandas.pydata.org/pandas-docs/stable/user_guide/indexing.html#returning-a-view-versus-a-copy\n"
     ]
    },
    {
     "name": "stdout",
     "output_type": "stream",
     "text": [
      "WARNING: There is drained water outside the SWMM model area\n",
      "2018-11-07 00:00:00\n",
      "WARNING: unit 19 of package RCH already in use\n",
      "****Warning -- two packages of the same type:  <class 'flopy.modflow.mfrch.ModflowRch'> <class 'flopy.modflow.mfrch.ModflowRch'>\n",
      "replacing existing Package...\n",
      "WARNING: unit 13 of package BAS6 already in use\n",
      "****Warning -- two packages of the same type:  <class 'flopy.modflow.mfbas.ModflowBas'> <class 'flopy.modflow.mfbas.ModflowBas'>\n",
      "replacing existing Package...\n"
     ]
    },
    {
     "name": "stderr",
     "output_type": "stream",
     "text": [
      "C:\\Users\\tibun\\Anaconda3\\envs\\acople\\lib\\site-packages\\ipykernel_launcher.py:126: SettingWithCopyWarning: \n",
      "A value is trying to be set on a copy of a slice from a DataFrame\n",
      "\n",
      "See the caveats in the documentation: https://pandas.pydata.org/pandas-docs/stable/user_guide/indexing.html#returning-a-view-versus-a-copy\n"
     ]
    },
    {
     "name": "stdout",
     "output_type": "stream",
     "text": [
      "WARNING: There is drained water outside the SWMM model area\n",
      "2018-11-08 00:00:00\n",
      "WARNING: unit 19 of package RCH already in use\n",
      "****Warning -- two packages of the same type:  <class 'flopy.modflow.mfrch.ModflowRch'> <class 'flopy.modflow.mfrch.ModflowRch'>\n",
      "replacing existing Package...\n",
      "WARNING: unit 13 of package BAS6 already in use\n",
      "****Warning -- two packages of the same type:  <class 'flopy.modflow.mfbas.ModflowBas'> <class 'flopy.modflow.mfbas.ModflowBas'>\n",
      "replacing existing Package...\n"
     ]
    },
    {
     "name": "stderr",
     "output_type": "stream",
     "text": [
      "C:\\Users\\tibun\\Anaconda3\\envs\\acople\\lib\\site-packages\\ipykernel_launcher.py:126: SettingWithCopyWarning: \n",
      "A value is trying to be set on a copy of a slice from a DataFrame\n",
      "\n",
      "See the caveats in the documentation: https://pandas.pydata.org/pandas-docs/stable/user_guide/indexing.html#returning-a-view-versus-a-copy\n"
     ]
    },
    {
     "name": "stdout",
     "output_type": "stream",
     "text": [
      "WARNING: There is drained water outside the SWMM model area\n",
      "2018-11-09 00:00:00\n",
      "WARNING: unit 19 of package RCH already in use\n",
      "****Warning -- two packages of the same type:  <class 'flopy.modflow.mfrch.ModflowRch'> <class 'flopy.modflow.mfrch.ModflowRch'>\n",
      "replacing existing Package...\n",
      "WARNING: unit 13 of package BAS6 already in use\n",
      "****Warning -- two packages of the same type:  <class 'flopy.modflow.mfbas.ModflowBas'> <class 'flopy.modflow.mfbas.ModflowBas'>\n",
      "replacing existing Package...\n"
     ]
    },
    {
     "name": "stderr",
     "output_type": "stream",
     "text": [
      "C:\\Users\\tibun\\Anaconda3\\envs\\acople\\lib\\site-packages\\ipykernel_launcher.py:126: SettingWithCopyWarning: \n",
      "A value is trying to be set on a copy of a slice from a DataFrame\n",
      "\n",
      "See the caveats in the documentation: https://pandas.pydata.org/pandas-docs/stable/user_guide/indexing.html#returning-a-view-versus-a-copy\n"
     ]
    },
    {
     "name": "stdout",
     "output_type": "stream",
     "text": [
      "WARNING: There is drained water outside the SWMM model area\n",
      "2018-11-10 00:00:00\n",
      "WARNING: unit 19 of package RCH already in use\n",
      "****Warning -- two packages of the same type:  <class 'flopy.modflow.mfrch.ModflowRch'> <class 'flopy.modflow.mfrch.ModflowRch'>\n",
      "replacing existing Package...\n",
      "WARNING: unit 13 of package BAS6 already in use\n",
      "****Warning -- two packages of the same type:  <class 'flopy.modflow.mfbas.ModflowBas'> <class 'flopy.modflow.mfbas.ModflowBas'>\n",
      "replacing existing Package...\n"
     ]
    },
    {
     "name": "stderr",
     "output_type": "stream",
     "text": [
      "C:\\Users\\tibun\\Anaconda3\\envs\\acople\\lib\\site-packages\\ipykernel_launcher.py:126: SettingWithCopyWarning: \n",
      "A value is trying to be set on a copy of a slice from a DataFrame\n",
      "\n",
      "See the caveats in the documentation: https://pandas.pydata.org/pandas-docs/stable/user_guide/indexing.html#returning-a-view-versus-a-copy\n"
     ]
    },
    {
     "name": "stdout",
     "output_type": "stream",
     "text": [
      "WARNING: There is drained water outside the SWMM model area\n",
      "2018-11-11 00:00:00\n",
      "WARNING: unit 19 of package RCH already in use\n",
      "****Warning -- two packages of the same type:  <class 'flopy.modflow.mfrch.ModflowRch'> <class 'flopy.modflow.mfrch.ModflowRch'>\n",
      "replacing existing Package...\n",
      "WARNING: unit 13 of package BAS6 already in use\n",
      "****Warning -- two packages of the same type:  <class 'flopy.modflow.mfbas.ModflowBas'> <class 'flopy.modflow.mfbas.ModflowBas'>\n",
      "replacing existing Package...\n"
     ]
    },
    {
     "name": "stderr",
     "output_type": "stream",
     "text": [
      "C:\\Users\\tibun\\Anaconda3\\envs\\acople\\lib\\site-packages\\ipykernel_launcher.py:126: SettingWithCopyWarning: \n",
      "A value is trying to be set on a copy of a slice from a DataFrame\n",
      "\n",
      "See the caveats in the documentation: https://pandas.pydata.org/pandas-docs/stable/user_guide/indexing.html#returning-a-view-versus-a-copy\n"
     ]
    },
    {
     "name": "stdout",
     "output_type": "stream",
     "text": [
      "WARNING: There is drained water outside the SWMM model area\n",
      "2018-11-12 00:00:00\n",
      "WARNING: unit 19 of package RCH already in use\n",
      "****Warning -- two packages of the same type:  <class 'flopy.modflow.mfrch.ModflowRch'> <class 'flopy.modflow.mfrch.ModflowRch'>\n",
      "replacing existing Package...\n",
      "WARNING: unit 13 of package BAS6 already in use\n",
      "****Warning -- two packages of the same type:  <class 'flopy.modflow.mfbas.ModflowBas'> <class 'flopy.modflow.mfbas.ModflowBas'>\n",
      "replacing existing Package...\n"
     ]
    },
    {
     "name": "stderr",
     "output_type": "stream",
     "text": [
      "C:\\Users\\tibun\\Anaconda3\\envs\\acople\\lib\\site-packages\\ipykernel_launcher.py:126: SettingWithCopyWarning: \n",
      "A value is trying to be set on a copy of a slice from a DataFrame\n",
      "\n",
      "See the caveats in the documentation: https://pandas.pydata.org/pandas-docs/stable/user_guide/indexing.html#returning-a-view-versus-a-copy\n"
     ]
    },
    {
     "name": "stdout",
     "output_type": "stream",
     "text": [
      "WARNING: There is drained water outside the SWMM model area\n",
      "2018-11-13 00:00:00\n",
      "WARNING: unit 19 of package RCH already in use\n",
      "****Warning -- two packages of the same type:  <class 'flopy.modflow.mfrch.ModflowRch'> <class 'flopy.modflow.mfrch.ModflowRch'>\n",
      "replacing existing Package...\n",
      "WARNING: unit 13 of package BAS6 already in use\n",
      "****Warning -- two packages of the same type:  <class 'flopy.modflow.mfbas.ModflowBas'> <class 'flopy.modflow.mfbas.ModflowBas'>\n",
      "replacing existing Package...\n"
     ]
    },
    {
     "name": "stderr",
     "output_type": "stream",
     "text": [
      "C:\\Users\\tibun\\Anaconda3\\envs\\acople\\lib\\site-packages\\ipykernel_launcher.py:126: SettingWithCopyWarning: \n",
      "A value is trying to be set on a copy of a slice from a DataFrame\n",
      "\n",
      "See the caveats in the documentation: https://pandas.pydata.org/pandas-docs/stable/user_guide/indexing.html#returning-a-view-versus-a-copy\n"
     ]
    },
    {
     "name": "stdout",
     "output_type": "stream",
     "text": [
      "WARNING: There is drained water outside the SWMM model area\n",
      "2018-11-14 00:00:00\n",
      "WARNING: unit 19 of package RCH already in use\n",
      "****Warning -- two packages of the same type:  <class 'flopy.modflow.mfrch.ModflowRch'> <class 'flopy.modflow.mfrch.ModflowRch'>\n",
      "replacing existing Package...\n",
      "WARNING: unit 13 of package BAS6 already in use\n",
      "****Warning -- two packages of the same type:  <class 'flopy.modflow.mfbas.ModflowBas'> <class 'flopy.modflow.mfbas.ModflowBas'>\n",
      "replacing existing Package...\n"
     ]
    },
    {
     "name": "stderr",
     "output_type": "stream",
     "text": [
      "C:\\Users\\tibun\\Anaconda3\\envs\\acople\\lib\\site-packages\\ipykernel_launcher.py:126: SettingWithCopyWarning: \n",
      "A value is trying to be set on a copy of a slice from a DataFrame\n",
      "\n",
      "See the caveats in the documentation: https://pandas.pydata.org/pandas-docs/stable/user_guide/indexing.html#returning-a-view-versus-a-copy\n"
     ]
    },
    {
     "name": "stdout",
     "output_type": "stream",
     "text": [
      "WARNING: There is drained water outside the SWMM model area\n",
      "2018-11-15 00:00:00\n",
      "WARNING: unit 19 of package RCH already in use\n",
      "****Warning -- two packages of the same type:  <class 'flopy.modflow.mfrch.ModflowRch'> <class 'flopy.modflow.mfrch.ModflowRch'>\n",
      "replacing existing Package...\n",
      "WARNING: unit 13 of package BAS6 already in use\n",
      "****Warning -- two packages of the same type:  <class 'flopy.modflow.mfbas.ModflowBas'> <class 'flopy.modflow.mfbas.ModflowBas'>\n",
      "replacing existing Package...\n"
     ]
    },
    {
     "name": "stderr",
     "output_type": "stream",
     "text": [
      "C:\\Users\\tibun\\Anaconda3\\envs\\acople\\lib\\site-packages\\ipykernel_launcher.py:126: SettingWithCopyWarning: \n",
      "A value is trying to be set on a copy of a slice from a DataFrame\n",
      "\n",
      "See the caveats in the documentation: https://pandas.pydata.org/pandas-docs/stable/user_guide/indexing.html#returning-a-view-versus-a-copy\n"
     ]
    },
    {
     "name": "stdout",
     "output_type": "stream",
     "text": [
      "WARNING: There is drained water outside the SWMM model area\n",
      "2018-11-16 00:00:00\n",
      "WARNING: unit 19 of package RCH already in use\n",
      "****Warning -- two packages of the same type:  <class 'flopy.modflow.mfrch.ModflowRch'> <class 'flopy.modflow.mfrch.ModflowRch'>\n",
      "replacing existing Package...\n",
      "WARNING: unit 13 of package BAS6 already in use\n",
      "****Warning -- two packages of the same type:  <class 'flopy.modflow.mfbas.ModflowBas'> <class 'flopy.modflow.mfbas.ModflowBas'>\n",
      "replacing existing Package...\n"
     ]
    },
    {
     "name": "stderr",
     "output_type": "stream",
     "text": [
      "C:\\Users\\tibun\\Anaconda3\\envs\\acople\\lib\\site-packages\\ipykernel_launcher.py:126: SettingWithCopyWarning: \n",
      "A value is trying to be set on a copy of a slice from a DataFrame\n",
      "\n",
      "See the caveats in the documentation: https://pandas.pydata.org/pandas-docs/stable/user_guide/indexing.html#returning-a-view-versus-a-copy\n"
     ]
    },
    {
     "name": "stdout",
     "output_type": "stream",
     "text": [
      "WARNING: There is drained water outside the SWMM model area\n",
      "2018-11-17 00:00:00\n",
      "WARNING: unit 19 of package RCH already in use\n",
      "****Warning -- two packages of the same type:  <class 'flopy.modflow.mfrch.ModflowRch'> <class 'flopy.modflow.mfrch.ModflowRch'>\n",
      "replacing existing Package...\n",
      "WARNING: unit 13 of package BAS6 already in use\n",
      "****Warning -- two packages of the same type:  <class 'flopy.modflow.mfbas.ModflowBas'> <class 'flopy.modflow.mfbas.ModflowBas'>\n",
      "replacing existing Package...\n"
     ]
    },
    {
     "name": "stderr",
     "output_type": "stream",
     "text": [
      "C:\\Users\\tibun\\Anaconda3\\envs\\acople\\lib\\site-packages\\ipykernel_launcher.py:126: SettingWithCopyWarning: \n",
      "A value is trying to be set on a copy of a slice from a DataFrame\n",
      "\n",
      "See the caveats in the documentation: https://pandas.pydata.org/pandas-docs/stable/user_guide/indexing.html#returning-a-view-versus-a-copy\n"
     ]
    },
    {
     "name": "stdout",
     "output_type": "stream",
     "text": [
      "WARNING: There is drained water outside the SWMM model area\n",
      "2018-11-18 00:00:00\n",
      "WARNING: unit 19 of package RCH already in use\n",
      "****Warning -- two packages of the same type:  <class 'flopy.modflow.mfrch.ModflowRch'> <class 'flopy.modflow.mfrch.ModflowRch'>\n",
      "replacing existing Package...\n",
      "WARNING: unit 13 of package BAS6 already in use\n",
      "****Warning -- two packages of the same type:  <class 'flopy.modflow.mfbas.ModflowBas'> <class 'flopy.modflow.mfbas.ModflowBas'>\n",
      "replacing existing Package...\n"
     ]
    },
    {
     "name": "stderr",
     "output_type": "stream",
     "text": [
      "C:\\Users\\tibun\\Anaconda3\\envs\\acople\\lib\\site-packages\\ipykernel_launcher.py:126: SettingWithCopyWarning: \n",
      "A value is trying to be set on a copy of a slice from a DataFrame\n",
      "\n",
      "See the caveats in the documentation: https://pandas.pydata.org/pandas-docs/stable/user_guide/indexing.html#returning-a-view-versus-a-copy\n"
     ]
    },
    {
     "name": "stdout",
     "output_type": "stream",
     "text": [
      "WARNING: There is drained water outside the SWMM model area\n",
      "2018-11-19 00:00:00\n",
      "WARNING: unit 19 of package RCH already in use\n",
      "****Warning -- two packages of the same type:  <class 'flopy.modflow.mfrch.ModflowRch'> <class 'flopy.modflow.mfrch.ModflowRch'>\n",
      "replacing existing Package...\n",
      "WARNING: unit 13 of package BAS6 already in use\n",
      "****Warning -- two packages of the same type:  <class 'flopy.modflow.mfbas.ModflowBas'> <class 'flopy.modflow.mfbas.ModflowBas'>\n",
      "replacing existing Package...\n"
     ]
    },
    {
     "name": "stderr",
     "output_type": "stream",
     "text": [
      "C:\\Users\\tibun\\Anaconda3\\envs\\acople\\lib\\site-packages\\ipykernel_launcher.py:126: SettingWithCopyWarning: \n",
      "A value is trying to be set on a copy of a slice from a DataFrame\n",
      "\n",
      "See the caveats in the documentation: https://pandas.pydata.org/pandas-docs/stable/user_guide/indexing.html#returning-a-view-versus-a-copy\n"
     ]
    },
    {
     "name": "stdout",
     "output_type": "stream",
     "text": [
      "WARNING: There is drained water outside the SWMM model area\n",
      "2018-11-20 00:00:00\n",
      "WARNING: unit 19 of package RCH already in use\n",
      "****Warning -- two packages of the same type:  <class 'flopy.modflow.mfrch.ModflowRch'> <class 'flopy.modflow.mfrch.ModflowRch'>\n",
      "replacing existing Package...\n",
      "WARNING: unit 13 of package BAS6 already in use\n",
      "****Warning -- two packages of the same type:  <class 'flopy.modflow.mfbas.ModflowBas'> <class 'flopy.modflow.mfbas.ModflowBas'>\n",
      "replacing existing Package...\n",
      "WARNING: There is drained water outside the SWMM model area"
     ]
    },
    {
     "name": "stderr",
     "output_type": "stream",
     "text": [
      "C:\\Users\\tibun\\Anaconda3\\envs\\acople\\lib\\site-packages\\ipykernel_launcher.py:126: SettingWithCopyWarning: \n",
      "A value is trying to be set on a copy of a slice from a DataFrame\n",
      "\n",
      "See the caveats in the documentation: https://pandas.pydata.org/pandas-docs/stable/user_guide/indexing.html#returning-a-view-versus-a-copy\n"
     ]
    },
    {
     "name": "stdout",
     "output_type": "stream",
     "text": [
      "\n",
      "2018-11-21 00:00:00\n",
      "WARNING: unit 19 of package RCH already in use\n",
      "****Warning -- two packages of the same type:  <class 'flopy.modflow.mfrch.ModflowRch'> <class 'flopy.modflow.mfrch.ModflowRch'>\n",
      "replacing existing Package...\n",
      "WARNING: unit 13 of package BAS6 already in use\n",
      "****Warning -- two packages of the same type:  <class 'flopy.modflow.mfbas.ModflowBas'> <class 'flopy.modflow.mfbas.ModflowBas'>\n",
      "replacing existing Package...\n"
     ]
    },
    {
     "name": "stderr",
     "output_type": "stream",
     "text": [
      "C:\\Users\\tibun\\Anaconda3\\envs\\acople\\lib\\site-packages\\ipykernel_launcher.py:126: SettingWithCopyWarning: \n",
      "A value is trying to be set on a copy of a slice from a DataFrame\n",
      "\n",
      "See the caveats in the documentation: https://pandas.pydata.org/pandas-docs/stable/user_guide/indexing.html#returning-a-view-versus-a-copy\n"
     ]
    },
    {
     "name": "stdout",
     "output_type": "stream",
     "text": [
      "WARNING: There is drained water outside the SWMM model area\n",
      "2018-11-22 00:00:00\n",
      "WARNING: unit 19 of package RCH already in use\n",
      "****Warning -- two packages of the same type:  <class 'flopy.modflow.mfrch.ModflowRch'> <class 'flopy.modflow.mfrch.ModflowRch'>\n",
      "replacing existing Package...\n",
      "WARNING: unit 13 of package BAS6 already in use\n",
      "****Warning -- two packages of the same type:  <class 'flopy.modflow.mfbas.ModflowBas'> <class 'flopy.modflow.mfbas.ModflowBas'>\n",
      "replacing existing Package...\n"
     ]
    },
    {
     "name": "stderr",
     "output_type": "stream",
     "text": [
      "C:\\Users\\tibun\\Anaconda3\\envs\\acople\\lib\\site-packages\\ipykernel_launcher.py:126: SettingWithCopyWarning: \n",
      "A value is trying to be set on a copy of a slice from a DataFrame\n",
      "\n",
      "See the caveats in the documentation: https://pandas.pydata.org/pandas-docs/stable/user_guide/indexing.html#returning-a-view-versus-a-copy\n"
     ]
    },
    {
     "name": "stdout",
     "output_type": "stream",
     "text": [
      "WARNING: There is drained water outside the SWMM model area\n",
      "2018-11-23 00:00:00\n",
      "WARNING: unit 19 of package RCH already in use\n",
      "****Warning -- two packages of the same type:  <class 'flopy.modflow.mfrch.ModflowRch'> <class 'flopy.modflow.mfrch.ModflowRch'>\n",
      "replacing existing Package...\n",
      "WARNING: unit 13 of package BAS6 already in use\n",
      "****Warning -- two packages of the same type:  <class 'flopy.modflow.mfbas.ModflowBas'> <class 'flopy.modflow.mfbas.ModflowBas'>\n",
      "replacing existing Package...\n"
     ]
    },
    {
     "name": "stderr",
     "output_type": "stream",
     "text": [
      "C:\\Users\\tibun\\Anaconda3\\envs\\acople\\lib\\site-packages\\ipykernel_launcher.py:126: SettingWithCopyWarning: \n",
      "A value is trying to be set on a copy of a slice from a DataFrame\n",
      "\n",
      "See the caveats in the documentation: https://pandas.pydata.org/pandas-docs/stable/user_guide/indexing.html#returning-a-view-versus-a-copy\n"
     ]
    },
    {
     "name": "stdout",
     "output_type": "stream",
     "text": [
      "WARNING: There is drained water outside the SWMM model area\n",
      "2018-11-24 00:00:00\n",
      "WARNING: unit 19 of package RCH already in use\n",
      "****Warning -- two packages of the same type:  <class 'flopy.modflow.mfrch.ModflowRch'> <class 'flopy.modflow.mfrch.ModflowRch'>\n",
      "replacing existing Package...\n",
      "WARNING: unit 13 of package BAS6 already in use\n",
      "****Warning -- two packages of the same type:  <class 'flopy.modflow.mfbas.ModflowBas'> <class 'flopy.modflow.mfbas.ModflowBas'>\n",
      "replacing existing Package...\n"
     ]
    },
    {
     "name": "stderr",
     "output_type": "stream",
     "text": [
      "C:\\Users\\tibun\\Anaconda3\\envs\\acople\\lib\\site-packages\\ipykernel_launcher.py:126: SettingWithCopyWarning: \n",
      "A value is trying to be set on a copy of a slice from a DataFrame\n",
      "\n",
      "See the caveats in the documentation: https://pandas.pydata.org/pandas-docs/stable/user_guide/indexing.html#returning-a-view-versus-a-copy\n"
     ]
    },
    {
     "name": "stdout",
     "output_type": "stream",
     "text": [
      "WARNING: There is drained water outside the SWMM model area\n",
      "2018-11-25 00:00:00\n",
      "WARNING: unit 19 of package RCH already in use\n",
      "****Warning -- two packages of the same type:  <class 'flopy.modflow.mfrch.ModflowRch'> <class 'flopy.modflow.mfrch.ModflowRch'>\n",
      "replacing existing Package...\n",
      "WARNING: unit 13 of package BAS6 already in use\n",
      "****Warning -- two packages of the same type:  <class 'flopy.modflow.mfbas.ModflowBas'> <class 'flopy.modflow.mfbas.ModflowBas'>\n",
      "replacing existing Package...\n"
     ]
    },
    {
     "name": "stderr",
     "output_type": "stream",
     "text": [
      "C:\\Users\\tibun\\Anaconda3\\envs\\acople\\lib\\site-packages\\ipykernel_launcher.py:126: SettingWithCopyWarning: \n",
      "A value is trying to be set on a copy of a slice from a DataFrame\n",
      "\n",
      "See the caveats in the documentation: https://pandas.pydata.org/pandas-docs/stable/user_guide/indexing.html#returning-a-view-versus-a-copy\n"
     ]
    },
    {
     "name": "stdout",
     "output_type": "stream",
     "text": [
      "WARNING: There is drained water outside the SWMM model area\n",
      "2018-11-26 00:00:00\n",
      "WARNING: unit 19 of package RCH already in use\n",
      "****Warning -- two packages of the same type:  <class 'flopy.modflow.mfrch.ModflowRch'> <class 'flopy.modflow.mfrch.ModflowRch'>\n",
      "replacing existing Package...\n",
      "WARNING: unit 13 of package BAS6 already in use\n",
      "****Warning -- two packages of the same type:  <class 'flopy.modflow.mfbas.ModflowBas'> <class 'flopy.modflow.mfbas.ModflowBas'>\n",
      "replacing existing Package...\n"
     ]
    },
    {
     "name": "stderr",
     "output_type": "stream",
     "text": [
      "C:\\Users\\tibun\\Anaconda3\\envs\\acople\\lib\\site-packages\\ipykernel_launcher.py:126: SettingWithCopyWarning: \n",
      "A value is trying to be set on a copy of a slice from a DataFrame\n",
      "\n",
      "See the caveats in the documentation: https://pandas.pydata.org/pandas-docs/stable/user_guide/indexing.html#returning-a-view-versus-a-copy\n"
     ]
    },
    {
     "name": "stdout",
     "output_type": "stream",
     "text": [
      "WARNING: There is drained water outside the SWMM model area\n",
      "2018-11-27 00:00:00\n",
      "WARNING: unit 19 of package RCH already in use\n",
      "****Warning -- two packages of the same type:  <class 'flopy.modflow.mfrch.ModflowRch'> <class 'flopy.modflow.mfrch.ModflowRch'>\n",
      "replacing existing Package...\n",
      "WARNING: unit 13 of package BAS6 already in use\n",
      "****Warning -- two packages of the same type:  <class 'flopy.modflow.mfbas.ModflowBas'> <class 'flopy.modflow.mfbas.ModflowBas'>\n",
      "replacing existing Package...\n"
     ]
    },
    {
     "name": "stderr",
     "output_type": "stream",
     "text": [
      "C:\\Users\\tibun\\Anaconda3\\envs\\acople\\lib\\site-packages\\ipykernel_launcher.py:126: SettingWithCopyWarning: \n",
      "A value is trying to be set on a copy of a slice from a DataFrame\n",
      "\n",
      "See the caveats in the documentation: https://pandas.pydata.org/pandas-docs/stable/user_guide/indexing.html#returning-a-view-versus-a-copy\n"
     ]
    },
    {
     "name": "stdout",
     "output_type": "stream",
     "text": [
      "WARNING: There is drained water outside the SWMM model area\n",
      "2018-11-28 00:00:00\n",
      "WARNING: unit 19 of package RCH already in use\n",
      "****Warning -- two packages of the same type:  <class 'flopy.modflow.mfrch.ModflowRch'> <class 'flopy.modflow.mfrch.ModflowRch'>\n",
      "replacing existing Package...\n",
      "WARNING: unit 13 of package BAS6 already in use\n",
      "****Warning -- two packages of the same type:  <class 'flopy.modflow.mfbas.ModflowBas'> <class 'flopy.modflow.mfbas.ModflowBas'>\n",
      "replacing existing Package...\n"
     ]
    },
    {
     "name": "stderr",
     "output_type": "stream",
     "text": [
      "C:\\Users\\tibun\\Anaconda3\\envs\\acople\\lib\\site-packages\\ipykernel_launcher.py:126: SettingWithCopyWarning: \n",
      "A value is trying to be set on a copy of a slice from a DataFrame\n",
      "\n",
      "See the caveats in the documentation: https://pandas.pydata.org/pandas-docs/stable/user_guide/indexing.html#returning-a-view-versus-a-copy\n"
     ]
    },
    {
     "name": "stdout",
     "output_type": "stream",
     "text": [
      "WARNING: There is drained water outside the SWMM model area\n",
      "2018-11-29 00:00:00\n",
      "WARNING: unit 19 of package RCH already in use\n",
      "****Warning -- two packages of the same type:  <class 'flopy.modflow.mfrch.ModflowRch'> <class 'flopy.modflow.mfrch.ModflowRch'>\n",
      "replacing existing Package...\n",
      "WARNING: unit 13 of package BAS6 already in use\n",
      "****Warning -- two packages of the same type:  <class 'flopy.modflow.mfbas.ModflowBas'> <class 'flopy.modflow.mfbas.ModflowBas'>\n",
      "replacing existing Package...\n"
     ]
    },
    {
     "name": "stderr",
     "output_type": "stream",
     "text": [
      "C:\\Users\\tibun\\Anaconda3\\envs\\acople\\lib\\site-packages\\ipykernel_launcher.py:126: SettingWithCopyWarning: \n",
      "A value is trying to be set on a copy of a slice from a DataFrame\n",
      "\n",
      "See the caveats in the documentation: https://pandas.pydata.org/pandas-docs/stable/user_guide/indexing.html#returning-a-view-versus-a-copy\n"
     ]
    },
    {
     "name": "stdout",
     "output_type": "stream",
     "text": [
      "WARNING: There is drained water outside the SWMM model area\n",
      "2018-11-30 00:00:00\n",
      "WARNING: unit 19 of package RCH already in use\n",
      "****Warning -- two packages of the same type:  <class 'flopy.modflow.mfrch.ModflowRch'> <class 'flopy.modflow.mfrch.ModflowRch'>\n",
      "replacing existing Package...\n",
      "WARNING: unit 13 of package BAS6 already in use\n",
      "****Warning -- two packages of the same type:  <class 'flopy.modflow.mfbas.ModflowBas'> <class 'flopy.modflow.mfbas.ModflowBas'>\n",
      "replacing existing Package...\n"
     ]
    },
    {
     "name": "stderr",
     "output_type": "stream",
     "text": [
      "C:\\Users\\tibun\\Anaconda3\\envs\\acople\\lib\\site-packages\\ipykernel_launcher.py:126: SettingWithCopyWarning: \n",
      "A value is trying to be set on a copy of a slice from a DataFrame\n",
      "\n",
      "See the caveats in the documentation: https://pandas.pydata.org/pandas-docs/stable/user_guide/indexing.html#returning-a-view-versus-a-copy\n"
     ]
    },
    {
     "name": "stdout",
     "output_type": "stream",
     "text": [
      "WARNING: There is drained water outside the SWMM model area\n",
      "2018-12-01 00:00:00\n",
      "WARNING: unit 19 of package RCH already in use\n",
      "****Warning -- two packages of the same type:  <class 'flopy.modflow.mfrch.ModflowRch'> <class 'flopy.modflow.mfrch.ModflowRch'>\n",
      "replacing existing Package...\n",
      "WARNING: unit 13 of package BAS6 already in use\n",
      "****Warning -- two packages of the same type:  <class 'flopy.modflow.mfbas.ModflowBas'> <class 'flopy.modflow.mfbas.ModflowBas'>\n",
      "replacing existing Package...\n",
      "WARNING: There is drained water outside the SWMM model area\n",
      "Flow Routing Mass Balance Error: 0.0\n",
      "Runoff Mass Balance Error: 0.0\n"
     ]
    },
    {
     "name": "stderr",
     "output_type": "stream",
     "text": [
      "C:\\Users\\tibun\\Anaconda3\\envs\\acople\\lib\\site-packages\\ipykernel_launcher.py:126: SettingWithCopyWarning: \n",
      "A value is trying to be set on a copy of a slice from a DataFrame\n",
      "\n",
      "See the caveats in the documentation: https://pandas.pydata.org/pandas-docs/stable/user_guide/indexing.html#returning-a-view-versus-a-copy\n"
     ]
    }
   ],
   "source": [
    "with Simulation(path) as sim:\n",
    "    print(sim.flow_units)\n",
    "    S_list=[]\n",
    "    SU_list=[]\n",
    "    S_areas=[]\n",
    "    system_routing = SystemStats(sim)\n",
    "    \n",
    "    for s in S_names_list:\n",
    "        S_list.append(Subcatchments(sim)[s])\n",
    "        S_areas.append(Subcatchments(sim)[s].area) #[ha]  \n",
    "    for i in range(len(SU_names_list)):\n",
    "        SU_list.append(Nodes(sim)[SU_names_list[i]])\n",
    "    \n",
    "    inf_S_list_1=np.zeros(len(S_list))\n",
    "    inf_S_list_2=np.zeros(len(S_list))\n",
    "    inf_SU_list_1=np.zeros(len(SU_list))\n",
    "    inf_SU_list_2=np.zeros(len(SU_list))\n",
    "    \n",
    "    #lists for the DRN incorporation\n",
    "    rate_SU_list=np.zeros(len(SU_list))\n",
    "    \n",
    "    #time counter for agregation\n",
    "    step_counter=0\n",
    "    day_counter=0\n",
    "    hourly_counter=0\n",
    "    \n",
    "    for step in sim:\n",
    "        step_counter=step_counter+1\n",
    "        \n",
    "        #rainfall modification to avoid double counting\n",
    "        \n",
    "        if step_counter==12:\n",
    "            step_counter=0\n",
    "            hourly_counter+=1\n",
    "            #SUBCATCHMENTS TIME SERIES RESULTS\n",
    "            for i in range(len(S_list)):\n",
    "                new_row = {'Time': sim.current_time, \"Precipitation (mm/h)\":S_list[i].rainfall, \n",
    "                           \"Evaporation (mm/d)\":S_list[i].evaporation_loss,\"Infiltration (mm/h)\":S_list[i].infiltration_loss, \n",
    "                           \"Runoff (m3/s)\":S_list[i].runoff,\"Runon (m3/s)\":S_list[i].runon,\n",
    "                           \"Cumulative Infiltration (m3)\": S_list[i].statistics[\"infiltration\"], \"Cumulative Evaporation (m3)\": S_list[i].statistics[\"evaporation\"]}\n",
    "                S_SWMM_TS[i] =S_SWMM_TS[i].append(new_row, ignore_index=True)\n",
    "\n",
    "            #STORAGE UNITS TIME SERIES RESULTS\n",
    "            for i in range(len(SU_list)):\n",
    "                new_row = {'Time': sim.current_time, \"Depth (m)\":SU_list[i].depth, \n",
    "                           \"Head (m)\":SU_list[i].head, \"Flooding (m3/s)\":SU_list[i].flooding, \n",
    "                           \"Lateral inflow (m3/s)\":SU_list[i].lateral_inflow,\"Total inflow (m3/s)\":SU_list[i].total_inflow,\n",
    "                           \"Total outflow (m3/s)\":SU_list[i].total_outflow, \"Volume (m3)\":SU_list[i].volume, \"Losses (m3/s)\":SU_list[i].losses,\n",
    "                           \"Cumulative Exfiltration Loss (m3)\": SU_list[i].storage_statistics[\"exfil_loss\"], \"Cumulative Evaporation Loss (m3)\": SU_list[i].storage_statistics[\"evap_loss\"]}\n",
    "                SU_SWMM_TS[i] =SU_SWMM_TS[i].append(new_row, ignore_index=True)\n",
    "            \n",
    "        if hourly_counter==24:\n",
    "            day_counter=day_counter+1\n",
    "            hourly_counter=0\n",
    "            print(sim.current_time)\n",
    "            for i in range(len(SU_list)):\n",
    "                #Delta infiltration\n",
    "                inf_SU_list_2[i]=(SU_list[i].storage_statistics[\"exfil_loss\"]-inf_SU_list_1[i])\n",
    "                inf_SU_list_1[i]=SU_list[i].storage_statistics[\"exfil_loss\"]\n",
    "           \n",
    "            for i in range(len(S_list)):\n",
    "                #Delta infiltration\n",
    "                inf_S_list_2[i]=(S_list[i].statistics[\"infiltration\"]-inf_S_list_1[i])\n",
    "                inf_S_list_1[i]=S_list[i].statistics[\"infiltration\"]\n",
    "                \n",
    "            RCH_S=inf_S_list_2\n",
    "            RCH_SU=np.zeros(len(S_names_list))\n",
    "            for i in range(len(S_names_list)):\n",
    "                for j in range(len(SU_S_names_list)):\n",
    "                    if S_names_list[i]==SU_S_names_list[j]:\n",
    "                        RCH_SU[i]=inf_SU_list_2[j]\n",
    "            RCH=RCH_S+RCH_SU\n",
    "            \n",
    "            #Unit change m3/dia->m/dia:\n",
    "            RCH_m=RCH/(np.array(S_areas)*10000.) #[m/dia]\n",
    "            RCH_df=pd.DataFrame({\"SWMM_S\":S_names_list, \"RCH\":RCH_m})\n",
    "            \n",
    "            #Gereferenced RCH: Add to the MODFLOW_gdf new column of rch\n",
    "            MODFLOW_gdf_test=pd.DataFrame() #en cada pasa de tiempo se crea uno nuevo, lo agrego en TS_gdf\n",
    "            MODFLOW_gdf_test=pd.merge(MODFLOW_gdf, RCH_df, on=\"SWMM_S\", how=\"left\")\n",
    "            \n",
    "            #Create MODFLOW inputs: RCH package\n",
    "            rch_array = np.zeros((nrows,ncols))\n",
    "            recharge_cells = MODFLOW_gdf_test.index.values\n",
    "            for cell in recharge_cells:\n",
    "                row = MODFLOW_gdf_test.row[cell]\n",
    "                col = MODFLOW_gdf_test.column[cell]\n",
    "                flux = MODFLOW_gdf_test.RCH[cell]\n",
    "                rch_array[row - 1][col - 1] = flux\n",
    "            rch_array[np.isnan(rch_array)] = 0.\n",
    "        \n",
    "            rch = flopy.modflow.ModflowRch(ml, nrchop=3, rech=rch_array, ipakcb=53)\n",
    "            \n",
    "            bas = flopy.modflow.ModflowBas(ml, ibound=ibound, strt=strt) #use the head table of the last time step\n",
    "           \n",
    "            #Run MODFLOW\n",
    "            \n",
    "            ml.write_input()\n",
    "            ml.run_model(silent=True)\n",
    "            \n",
    "            #Read MODFLOW outputs\n",
    "            fname = os.path.join('VER_MF_workspace', 'VER.hds')\n",
    "            headfile = flopy.utils.HeadFile(fname, model=ml)\n",
    "            heads = headfile.get_data()\n",
    "            heads[heads==1.e+30] = np.nan            # fix masked data \n",
    "            heads[heads==-999.99] = np.nan\n",
    "\n",
    "            \n",
    "            top = ml.dis.top.array\n",
    "            DTWT = top-heads[0]\n",
    "            \n",
    "            #DRN calculate\n",
    "            H=np.reshape(DTWT, len(MODFLOW_gdf_test))\n",
    "            altura=np.reshape(heads[0], len(MODFLOW_gdf_test))\n",
    "            for i in range(len(H)):\n",
    "                if H[i]<0:\n",
    "                    H[i]=-H[i]\n",
    "                else:\n",
    "                     H[i]=0.\n",
    "            MODFLOW_gdf_test[\"Altura\"]=altura   \n",
    "            MODFLOW_gdf_test[\"H\"]=H\n",
    "            MODFLOW_gdf_test[\"DRN_rate\"]=0.\n",
    "            \n",
    "            for i in  range(len(MODFLOW_gdf_test[\"DRN\"])):\n",
    "                if MODFLOW_gdf_test[\"DRN\"][i]:\n",
    "                    MODFLOW_gdf_test[\"DRN_rate\"][i]=H[i]*DRN_C\n",
    "            \n",
    "            #inflow rate array for wetlands:\n",
    "            W_inflow=MODFLOW_gdf_test.groupby(\"SWMM_SU\").sum()[\"DRN_rate\"]  #m3/dia\n",
    "            inflow_in_w=[]\n",
    "            for w in SU_names_list:\n",
    "                if w in W_inflow.index:\n",
    "                    inflow_in_w.append(W_inflow[w])\n",
    "                else:\n",
    "                    inflow_in_w.append(0.)        \n",
    "                \n",
    "            #Generated inflow swmm wetlands\n",
    "            \n",
    "            for i in range(len(SU_list)):\n",
    "                rate=inflow_in_w[i]/86400. #m3/s\n",
    "                SU_list[i].generated_inflow(rate)\n",
    "            \n",
    "            #MODFLOW evaporation on perv cells\n",
    "            \n",
    "            MODFLOW_gdf_test[\"RET\"]=0\n",
    "            MODFLOW_gdf_test.loc[MODFLOW_gdf_test.Altura<(MODFLOW_gdf[\"top\"]-EXPD), 'RET']=0\n",
    "            MODFLOW_gdf_test.loc[MODFLOW_gdf_test.Altura>(MODFLOW_gdf[\"top\"]-EXPD), 'RET'] = MODFLOW_gdf[\"EVT\"]*EVTR*(MODFLOW_gdf_test[\"Altura\"]-(MODFLOW_gdf[\"top\"]-EXPD))/EXPD\n",
    "            MODFLOW_gdf_test.loc[MODFLOW_gdf_test.Altura>MODFLOW_gdf[\"top\"], 'RET'] = EVTR*MODFLOW_gdf[\"EVT\"]      \n",
    "            \n",
    "            MODFLOW_gdf_test[\"Altura_EVT\"]=MODFLOW_gdf_test[\"Altura\"]-MODFLOW_gdf_test[\"RET\"]\n",
    "            \n",
    "            #Strt next loop\n",
    "            strt = np.ones((nlay,nrows,ncols)) \n",
    "            for index, row in MODFLOW_gdf_test.iterrows():\n",
    "                strt[:,row['row']-1,row['column']-1] = row[\"Altura_EVT\"]\n",
    "                     \n",
    "            #Save MODFLOW cells information\n",
    "            TS_gdf.append(MODFLOW_gdf_test)\n",
    "            \n",
    "            #check if al the drain water is incoporporated to SWMM as inflow:\n",
    "            total_DRN_MODFLOW_model=MODFLOW_gdf_test.DRN_rate.sum()\n",
    "            total_DRN_SWMM_model=MODFLOW_gdf_test.groupby(\"SWMM_S\").sum().DRN_rate.sum()\n",
    "            total_inflow=sum(inflow_in_w)\n",
    "            if total_DRN_MODFLOW_model>total_inflow:\n",
    "                print(\"WARNING: There is drained water outside the SWMM model area\")\n",
    "            if total_DRN_SWMM_model>total_inflow:\n",
    "                print(\"ERROR: There is drained water on the SWMM model area that is not inflow\")\n",
    "            \n",
    "            #Save zonebudget DataFrame\n",
    "            fname = os.path.join('VER_MF_workspace', 'VER.cbc')\n",
    "            cbb = flopy.utils.CellBudgetFile(fname)\n",
    "            zb = flopy.utils.ZoneBudget(cbb, zon, aliases=aliases)\n",
    "            zb_df=zb.get_dataframes()\n",
    "            ZB_TS.append(zb_df)\n",
    "            \n",
    "    routing_stats=system_routing.routing_stats\n",
    "    runoff_stats=system_routing.runoff_stats     \n",
    "print(\"Flow Routing Mass Balance Error:\", sim.flow_routing_error)\n",
    "print(\"Runoff Mass Balance Error:\", sim.runoff_error) "
   ]
  },
  {
   "cell_type": "code",
   "execution_count": 69,
   "metadata": {},
   "outputs": [],
   "source": [
    "df_routing_couple = pd.DataFrame({'Dry Weather Inflow (m3)': [routing_stats['dry_weather_inflow']],\n",
    "                   'Wet Weather Inflow (m3)': [routing_stats['wet_weather_inflow']], \n",
    "                   'Ground Water Inflow (m3)': [routing_stats['groundwater_inflow']],\n",
    "                   #'RDII Inflow (m3)': [routing_stats['II_inflow']],\n",
    "                   'External Inflow (m3)': [routing_stats['external_inflow']],\n",
    "                   'External Outflow (m3)': [routing_stats['outflow']],\n",
    "                   'Flooding Loss (m3)': [routing_stats['flooding']],\n",
    "                   'Evaporation Loss (m3)': [routing_stats['evaporation_loss']],\n",
    "                   'Seepage Loss (m3)': [routing_stats['seepage_loss']],\n",
    "                   'Initial Stored Volume': [routing_stats['initial_storage']],\n",
    "                   'Final Stored Volume': [routing_stats['final_storage']],\n",
    "                   'Continuity Error (%)': [routing_stats['routing_error']]})"
   ]
  },
  {
   "cell_type": "code",
   "execution_count": 70,
   "metadata": {},
   "outputs": [],
   "source": [
    "df_runoff_couple = pd.DataFrame({'Total Precipitation (mm)': [runoff_stats['rainfall']],\n",
    "                   'Evaporation Loss (m3)': [runoff_stats['evaporation']], \n",
    "                   'Infiltration Loss (m3)': [runoff_stats['infiltration']],\n",
    "                   'Runoff (m3)': [runoff_stats['runoff']],\n",
    "                   \"Initial Storage (mm)\":[runoff_stats['init_storage']],\n",
    "                   \"Final Storage (mm)\":[runoff_stats['final_storage']]})"
   ]
  },
  {
   "cell_type": "code",
   "execution_count": 71,
   "metadata": {},
   "outputs": [
    {
     "data": {
      "text/html": [
       "<div>\n",
       "<style scoped>\n",
       "    .dataframe tbody tr th:only-of-type {\n",
       "        vertical-align: middle;\n",
       "    }\n",
       "\n",
       "    .dataframe tbody tr th {\n",
       "        vertical-align: top;\n",
       "    }\n",
       "\n",
       "    .dataframe thead th {\n",
       "        text-align: right;\n",
       "    }\n",
       "</style>\n",
       "<table border=\"1\" class=\"dataframe\">\n",
       "  <thead>\n",
       "    <tr style=\"text-align: right;\">\n",
       "      <th></th>\n",
       "      <th>Dry Weather Inflow (m3)</th>\n",
       "      <th>Wet Weather Inflow (m3)</th>\n",
       "      <th>Ground Water Inflow (m3)</th>\n",
       "      <th>External Inflow (m3)</th>\n",
       "      <th>External Outflow (m3)</th>\n",
       "      <th>Flooding Loss (m3)</th>\n",
       "      <th>Evaporation Loss (m3)</th>\n",
       "      <th>Seepage Loss (m3)</th>\n",
       "      <th>Initial Stored Volume</th>\n",
       "      <th>Final Stored Volume</th>\n",
       "      <th>Continuity Error (%)</th>\n",
       "    </tr>\n",
       "  </thead>\n",
       "  <tbody>\n",
       "    <tr>\n",
       "      <th>0</th>\n",
       "      <td>0.0</td>\n",
       "      <td>2705.668666</td>\n",
       "      <td>0.0</td>\n",
       "      <td>1755.152484</td>\n",
       "      <td>0.0</td>\n",
       "      <td>0.0</td>\n",
       "      <td>0.0</td>\n",
       "      <td>3546.974701</td>\n",
       "      <td>0.0</td>\n",
       "      <td>0.0</td>\n",
       "      <td>0.0</td>\n",
       "    </tr>\n",
       "  </tbody>\n",
       "</table>\n",
       "</div>"
      ],
      "text/plain": [
       "   Dry Weather Inflow (m3)  Wet Weather Inflow (m3)  Ground Water Inflow (m3)  \\\n",
       "0                      0.0              2705.668666                       0.0   \n",
       "\n",
       "   External Inflow (m3)  External Outflow (m3)  Flooding Loss (m3)  \\\n",
       "0           1755.152484                    0.0                 0.0   \n",
       "\n",
       "   Evaporation Loss (m3)  Seepage Loss (m3)  Initial Stored Volume  \\\n",
       "0                    0.0        3546.974701                    0.0   \n",
       "\n",
       "   Final Stored Volume  Continuity Error (%)  \n",
       "0                  0.0                   0.0  "
      ]
     },
     "execution_count": 71,
     "metadata": {},
     "output_type": "execute_result"
    }
   ],
   "source": [
    "df_routing_couple"
   ]
  },
  {
   "cell_type": "code",
   "execution_count": 72,
   "metadata": {},
   "outputs": [
    {
     "data": {
      "text/html": [
       "<div>\n",
       "<style scoped>\n",
       "    .dataframe tbody tr th:only-of-type {\n",
       "        vertical-align: middle;\n",
       "    }\n",
       "\n",
       "    .dataframe tbody tr th {\n",
       "        vertical-align: top;\n",
       "    }\n",
       "\n",
       "    .dataframe thead th {\n",
       "        text-align: right;\n",
       "    }\n",
       "</style>\n",
       "<table border=\"1\" class=\"dataframe\">\n",
       "  <thead>\n",
       "    <tr style=\"text-align: right;\">\n",
       "      <th></th>\n",
       "      <th>Total Precipitation (mm)</th>\n",
       "      <th>Evaporation Loss (m3)</th>\n",
       "      <th>Infiltration Loss (m3)</th>\n",
       "      <th>Runoff (m3)</th>\n",
       "      <th>Initial Storage (mm)</th>\n",
       "      <th>Final Storage (mm)</th>\n",
       "    </tr>\n",
       "  </thead>\n",
       "  <tbody>\n",
       "    <tr>\n",
       "      <th>0</th>\n",
       "      <td>334.5</td>\n",
       "      <td>137.975622</td>\n",
       "      <td>836.343486</td>\n",
       "      <td>2705.668666</td>\n",
       "      <td>0.0</td>\n",
       "      <td>0.0</td>\n",
       "    </tr>\n",
       "  </tbody>\n",
       "</table>\n",
       "</div>"
      ],
      "text/plain": [
       "   Total Precipitation (mm)  Evaporation Loss (m3)  Infiltration Loss (m3)  \\\n",
       "0                     334.5             137.975622              836.343486   \n",
       "\n",
       "   Runoff (m3)  Initial Storage (mm)  Final Storage (mm)  \n",
       "0  2705.668666                   0.0                 0.0  "
      ]
     },
     "execution_count": 72,
     "metadata": {},
     "output_type": "execute_result"
    }
   ],
   "source": [
    "df_runoff_couple"
   ]
  },
  {
   "cell_type": "markdown",
   "metadata": {},
   "source": [
    "# Results"
   ]
  },
  {
   "cell_type": "markdown",
   "metadata": {},
   "source": [
    "## Zone Budget"
   ]
  },
  {
   "cell_type": "code",
   "execution_count": 74,
   "metadata": {},
   "outputs": [],
   "source": [
    "ZB_TS[0]=ZB_TS[0].reset_index(level=[0,1])"
   ]
  },
  {
   "cell_type": "code",
   "execution_count": 75,
   "metadata": {},
   "outputs": [],
   "source": [
    "dias=np.linspace(0,len(ZB_TS)-1,len(ZB_TS))\n",
    "df_S1_ZB=pd.DataFrame(index=dias)\n",
    "df_SU_ZB=pd.DataFrame(index=dias)\n",
    "df_Lake_ZB=pd.DataFrame(index=dias)\n",
    "df_OUT_ZB=pd.DataFrame(index=dias)\n",
    "columnas=ZB_TS[0].name\n",
    "for i in columnas:\n",
    "    df_S1_ZB[i]=\"\"\n",
    "    df_SU_ZB[i]=\"\"\n",
    "    df_Lake_ZB[i]=\"\"\n",
    "    df_OUT_ZB[i]=\"\""
   ]
  },
  {
   "cell_type": "code",
   "execution_count": 76,
   "metadata": {},
   "outputs": [],
   "source": [
    "for i in range(len(ZB_TS)):\n",
    "    for j in range(len(columnas)):\n",
    "        df_S1_ZB[columnas[j]][i]=ZB_TS[i].iloc[j].S1\n",
    "        df_SU_ZB[columnas[j]][i]=ZB_TS[i].iloc[j].SU\n",
    "        df_OUT_ZB[columnas[j]][i]=ZB_TS[i].iloc[j].OUT\n",
    "        df_Lake_ZB[columnas[j]][i]=ZB_TS[i].iloc[j].Lake"
   ]
  },
  {
   "cell_type": "code",
   "execution_count": 77,
   "metadata": {},
   "outputs": [
    {
     "data": {
      "image/png": "[encoded data removed]",
      "text/plain": [
       "<Figure size 1080x360 with 1 Axes>"
      ]
     },
     "metadata": {
      "needs_background": "light"
     },
     "output_type": "display_data"
    }
   ],
   "source": [
    "df_S1_ZB[\"PERCENT_DISCREPANCY\"].plot(figsize=(15,5))\n",
    "df_SU_ZB[\"PERCENT_DISCREPANCY\"].plot()\n",
    "df_OUT_ZB[\"PERCENT_DISCREPANCY\"].plot()\n",
    "df_Lake_ZB[\"PERCENT_DISCREPANCY\"].plot()\n",
    "plt.legend([\"S1\",\"SU\",\"OUT\", \"Lake\"])\n",
    "plt.ylabel(\"% Discrepancy\")\n",
    "plt.xlabel(\"Días\")\n",
    "plt.ylim(0,20)\n",
    "plt.show()"
   ]
  },
  {
   "cell_type": "markdown",
   "metadata": {},
   "source": [
    "## Continuity Analysis"
   ]
  },
  {
   "cell_type": "markdown",
   "metadata": {},
   "source": [
    "Usando TS_gdf:"
   ]
  },
  {
   "cell_type": "code",
   "execution_count": 78,
   "metadata": {},
   "outputs": [
    {
     "name": "stdout",
     "output_type": "stream",
     "text": [
      "836.343486191457 m3\n",
      "3546.930768520382 m3\n",
      "1768.3554103374481 m3\n",
      "13.225888180732726 m3\n"
     ]
    }
   ],
   "source": [
    "W_inflow=[]\n",
    "S_rch=[]\n",
    "W_rch=[]\n",
    "for i in range(len(TS_gdf)):\n",
    "    rch=TS_gdf[i].groupby(\"SWMM_S\").sum()[\"RCH\"]\n",
    "    W_rch.append(rch.S2*x_resolution*y_resolution)\n",
    "    S_rch.append(rch.S1*x_resolution*y_resolution)\n",
    "for i in range(len(TS_gdf)):\n",
    "    inflow=TS_gdf[i].groupby(\"SWMM_SU\").sum()[\"DRN_rate\"]\n",
    "    W_inflow.append(inflow.SU1)\n",
    "    \n",
    "total_S_rch=sum(S_rch)\n",
    "total_W_rch=sum(W_rch)\n",
    "total_W_inflow=sum(W_inflow)\n",
    "dt_drn_m=inflow.SU1\n",
    "\n",
    "print(total_S_rch, \"m3\")\n",
    "print(total_W_rch, \"m3\")\n",
    "print(total_W_inflow, \"m3\")\n",
    "print(dt_drn_m, \"m3\")"
   ]
  },
  {
   "cell_type": "code",
   "execution_count": 79,
   "metadata": {},
   "outputs": [
    {
     "data": {
      "text/plain": [
       "122"
      ]
     },
     "execution_count": 79,
     "metadata": {},
     "output_type": "execute_result"
    }
   ],
   "source": [
    "len(TS_gdf)"
   ]
  },
  {
   "cell_type": "code",
   "execution_count": 80,
   "metadata": {},
   "outputs": [
    {
     "data": {
      "text/plain": [
       "122"
      ]
     },
     "execution_count": 80,
     "metadata": {},
     "output_type": "execute_result"
    }
   ],
   "source": [
    "len(df_S1_ZB)"
   ]
  },
  {
   "cell_type": "markdown",
   "metadata": {},
   "source": [
    "### Coupling Continuity"
   ]
  },
  {
   "cell_type": "markdown",
   "metadata": {},
   "source": [
    "Cálculo external inflow usando SWMM output"
   ]
  },
  {
   "cell_type": "code",
   "execution_count": 81,
   "metadata": {},
   "outputs": [
    {
     "data": {
      "text/plain": [
       "1755.1524837678403"
      ]
     },
     "execution_count": 81,
     "metadata": {},
     "output_type": "execute_result"
    }
   ],
   "source": [
    "E_in_s=df_routing_couple[\"External Inflow (m3)\"][0]\n",
    "E_in_s"
   ]
  },
  {
   "cell_type": "markdown",
   "metadata": {},
   "source": [
    "Cálculo agua drenada usando MODFLOW output (ZB):"
   ]
  },
  {
   "cell_type": "code",
   "execution_count": 82,
   "metadata": {},
   "outputs": [
    {
     "data": {
      "text/plain": [
       "1755.1298247098923"
      ]
     },
     "execution_count": 82,
     "metadata": {},
     "output_type": "execute_result"
    }
   ],
   "source": [
    "DRN_S_M=df_SU_ZB[\"TO_DRAINS\"].sum()-dt_drn_m\n",
    "DRN_S_M"
   ]
  },
  {
   "cell_type": "code",
   "execution_count": 83,
   "metadata": {},
   "outputs": [
    {
     "data": {
      "text/plain": [
       "158.6433"
      ]
     },
     "execution_count": 83,
     "metadata": {},
     "output_type": "execute_result"
    }
   ],
   "source": [
    "DRN_ext_m=df_OUT_ZB[\"TO_DRAINS\"].sum()\n",
    "DRN_ext_m"
   ]
  },
  {
   "cell_type": "code",
   "execution_count": 84,
   "metadata": {},
   "outputs": [
    {
     "data": {
      "text/plain": [
       "1926.999"
      ]
     },
     "execution_count": 84,
     "metadata": {},
     "output_type": "execute_result"
    }
   ],
   "source": [
    "DRN_m=df_OUT_ZB[\"TO_DRAINS\"].sum()+df_SU_ZB[\"TO_DRAINS\"].sum()\n",
    "DRN_m"
   ]
  },
  {
   "cell_type": "code",
   "execution_count": 85,
   "metadata": {},
   "outputs": [
    {
     "name": "stdout",
     "output_type": "stream",
     "text": [
      "Continuity Coupling Error(DRN/INFLOW): -0.0012910189109071476 %\n"
     ]
    }
   ],
   "source": [
    "error_drn_inflow=((DRN_S_M)-E_in_s)/(DRN_S_M)*100\n",
    "print(\"Continuity Coupling Error(DRN/INFLOW):\",error_drn_inflow,\"%\")"
   ]
  },
  {
   "cell_type": "markdown",
   "metadata": {},
   "source": [
    "Cálculo infiltración total usando SWMM output"
   ]
  },
  {
   "cell_type": "code",
   "execution_count": 86,
   "metadata": {},
   "outputs": [
    {
     "data": {
      "text/plain": [
       "836.343486191458"
      ]
     },
     "execution_count": 86,
     "metadata": {},
     "output_type": "execute_result"
    }
   ],
   "source": [
    "df_runoff_couple[\"Infiltration Loss (m3)\"][0]"
   ]
  },
  {
   "cell_type": "code",
   "execution_count": 87,
   "metadata": {},
   "outputs": [
    {
     "data": {
      "text/plain": [
       "3546.974701255031"
      ]
     },
     "execution_count": 87,
     "metadata": {},
     "output_type": "execute_result"
    }
   ],
   "source": [
    "df_routing_couple[\"Seepage Loss (m3)\"][0]"
   ]
  },
  {
   "cell_type": "code",
   "execution_count": 88,
   "metadata": {},
   "outputs": [
    {
     "data": {
      "text/plain": [
       "836.343486191458"
      ]
     },
     "execution_count": 88,
     "metadata": {},
     "output_type": "execute_result"
    }
   ],
   "source": [
    "I_s=df_runoff_couple[\"Infiltration Loss (m3)\"][0]\n",
    "I_s"
   ]
  },
  {
   "cell_type": "code",
   "execution_count": 89,
   "metadata": {},
   "outputs": [
    {
     "data": {
      "text/plain": [
       "3546.974701255031"
      ]
     },
     "execution_count": 89,
     "metadata": {},
     "output_type": "execute_result"
    }
   ],
   "source": [
    "S_s=df_routing_couple[\"Seepage Loss (m3)\"][0]\n",
    "S_s"
   ]
  },
  {
   "cell_type": "markdown",
   "metadata": {},
   "source": [
    "Cálculo recarga usando MODFLOW output (ZB):"
   ]
  },
  {
   "cell_type": "code",
   "execution_count": 90,
   "metadata": {},
   "outputs": [
    {
     "data": {
      "text/plain": [
       "3546.9304"
      ]
     },
     "execution_count": 90,
     "metadata": {},
     "output_type": "execute_result"
    }
   ],
   "source": [
    "df_SU_ZB[\"FROM_RECHARGE\"].sum()"
   ]
  },
  {
   "cell_type": "code",
   "execution_count": 91,
   "metadata": {},
   "outputs": [
    {
     "data": {
      "text/plain": [
       "836.3436"
      ]
     },
     "execution_count": 91,
     "metadata": {},
     "output_type": "execute_result"
    }
   ],
   "source": [
    "df_S1_ZB[\"FROM_RECHARGE\"].sum()"
   ]
  },
  {
   "cell_type": "code",
   "execution_count": 92,
   "metadata": {},
   "outputs": [
    {
     "data": {
      "text/plain": [
       "4383.274"
      ]
     },
     "execution_count": 92,
     "metadata": {},
     "output_type": "execute_result"
    }
   ],
   "source": [
    "RCH_m=df_S1_ZB[\"FROM_RECHARGE\"].sum()+df_SU_ZB[\"FROM_RECHARGE\"].sum()\n",
    "RCH_m"
   ]
  },
  {
   "cell_type": "code",
   "execution_count": 93,
   "metadata": {},
   "outputs": [
    {
     "name": "stdout",
     "output_type": "stream",
     "text": [
      "Continuity Coupling Error(INF/RCH): -0.00100978551622467 %\n"
     ]
    }
   ],
   "source": [
    "error_inf_rch=(RCH_m-I_s-S_s)/RCH_m*100\n",
    "print(\"Continuity Coupling Error(INF/RCH):\",error_inf_rch,\"%\")"
   ]
  },
  {
   "cell_type": "markdown",
   "metadata": {},
   "source": [
    "### SWMM Continuity"
   ]
  },
  {
   "cell_type": "code",
   "execution_count": 94,
   "metadata": {},
   "outputs": [
    {
     "data": {
      "text/plain": [
       "3679.500000000034"
      ]
     },
     "execution_count": 94,
     "metadata": {},
     "output_type": "execute_result"
    }
   ],
   "source": [
    "P_s=df_runoff_couple[\"Total Precipitation (mm)\"][0]*sum(S_areas)*10\n",
    "P_s"
   ]
  },
  {
   "cell_type": "code",
   "execution_count": 95,
   "metadata": {},
   "outputs": [
    {
     "data": {
      "text/plain": [
       "0.0"
      ]
     },
     "execution_count": 95,
     "metadata": {},
     "output_type": "execute_result"
    }
   ],
   "source": [
    "E_out_s=df_routing_couple[\"External Outflow (m3)\"][0]\n",
    "E_out_s"
   ]
  },
  {
   "cell_type": "code",
   "execution_count": 96,
   "metadata": {},
   "outputs": [
    {
     "data": {
      "text/plain": [
       "0.0"
      ]
     },
     "execution_count": 96,
     "metadata": {},
     "output_type": "execute_result"
    }
   ],
   "source": [
    "E_out_s=df_routing_couple[\"External Outflow (m3)\"][0]\n",
    "E_out_s"
   ]
  },
  {
   "cell_type": "code",
   "execution_count": 97,
   "metadata": {},
   "outputs": [
    {
     "data": {
      "text/plain": [
       "0.0"
      ]
     },
     "execution_count": 97,
     "metadata": {},
     "output_type": "execute_result"
    }
   ],
   "source": [
    "F_s=df_routing_couple[\"Flooding Loss (m3)\"][0]\n",
    "F_s"
   ]
  },
  {
   "cell_type": "code",
   "execution_count": 98,
   "metadata": {},
   "outputs": [
    {
     "data": {
      "text/plain": [
       "914.0"
      ]
     },
     "execution_count": 98,
     "metadata": {},
     "output_type": "execute_result"
    }
   ],
   "source": [
    "S_f_s=914+0*sum(S_areas)*10\n",
    "S_i_s=0\n",
    "S_f_s"
   ]
  },
  {
   "cell_type": "code",
   "execution_count": 99,
   "metadata": {},
   "outputs": [
    {
     "data": {
      "text/plain": [
       "137.97562159542193"
      ]
     },
     "execution_count": 99,
     "metadata": {},
     "output_type": "execute_result"
    }
   ],
   "source": [
    "EVT_s=df_runoff_couple[\"Evaporation Loss (m3)\"][0]+df_routing_couple[\"Evaporation Loss (m3)\"][0]\n",
    "EVT_s"
   ]
  },
  {
   "cell_type": "code",
   "execution_count": 101,
   "metadata": {},
   "outputs": [
    {
     "name": "stdout",
     "output_type": "stream",
     "text": [
      "SWMM Error: -0.00011800667585511143 %\n"
     ]
    }
   ],
   "source": [
    "SWMM_error=P_s+E_in_s-E_out_s-EVT_s-F_s-I_s-S_s-S_f_s+S_i_s\n",
    "total_in_s=P_s+E_in_s\n",
    "percent_SWMM_error=SWMM_error/total_in_s\n",
    "print(\"SWMM Error:\",percent_SWMM_error, \"%\" )"
   ]
  },
  {
   "cell_type": "markdown",
   "metadata": {},
   "source": [
    "### MODFLOW Continuity"
   ]
  },
  {
   "cell_type": "code",
   "execution_count": 102,
   "metadata": {},
   "outputs": [
    {
     "data": {
      "text/plain": [
       "1313.9425"
      ]
     },
     "execution_count": 102,
     "metadata": {},
     "output_type": "execute_result"
    }
   ],
   "source": [
    "CH_out_m=df_Lake_ZB[\"TO_CONSTANT_HEAD\"].sum()\n",
    "CH_out_m"
   ]
  },
  {
   "cell_type": "code",
   "execution_count": 103,
   "metadata": {},
   "outputs": [
    {
     "data": {
      "text/plain": [
       "5.898598"
      ]
     },
     "execution_count": 103,
     "metadata": {},
     "output_type": "execute_result"
    }
   ],
   "source": [
    "CH_in_m=df_Lake_ZB[\"FROM_CONSTANT_HEAD\"].sum()\n",
    "CH_in_m"
   ]
  },
  {
   "cell_type": "code",
   "execution_count": 104,
   "metadata": {},
   "outputs": [
    {
     "data": {
      "text/plain": [
       "1178.0435"
      ]
     },
     "execution_count": 104,
     "metadata": {},
     "output_type": "execute_result"
    }
   ],
   "source": [
    "S_to_m=df_S1_ZB[\"TO_STORAGE\"].sum()+df_SU_ZB[\"TO_STORAGE\"].sum()+df_OUT_ZB[\"TO_STORAGE\"].sum()\n",
    "S_to_m"
   ]
  },
  {
   "cell_type": "code",
   "execution_count": 105,
   "metadata": {},
   "outputs": [
    {
     "data": {
      "text/plain": [
       "6.081012"
      ]
     },
     "execution_count": 105,
     "metadata": {},
     "output_type": "execute_result"
    }
   ],
   "source": [
    "S_from_m=df_S1_ZB[\"FROM_STORAGE\"].sum()+df_SU_ZB[\"FROM_STORAGE\"].sum()+df_OUT_ZB[\"FROM_STORAGE\"].sum()\n",
    "S_from_m"
   ]
  },
  {
   "cell_type": "code",
   "execution_count": 106,
   "metadata": {},
   "outputs": [
    {
     "name": "stdout",
     "output_type": "stream",
     "text": [
      "MODFLOW Error: -0.5406852811574936 %\n"
     ]
    }
   ],
   "source": [
    "MODFLOW_error=RCH_m+CH_in_m-DRN_m-CH_out_m-S_to_m+S_from_m #m3\n",
    "total_in_M=RCH_m+CH_in_m\n",
    "percent_MODFLOW_error=MODFLOW_error/total_in_M*100\n",
    "print(\"MODFLOW Error:\",percent_MODFLOW_error, \"%\" )"
   ]
  },
  {
   "cell_type": "markdown",
   "metadata": {},
   "source": [
    "### Global Continuity"
   ]
  },
  {
   "cell_type": "code",
   "execution_count": 107,
   "metadata": {},
   "outputs": [
    {
     "name": "stdout",
     "output_type": "stream",
     "text": [
      "GLOBAL Error: -0.6607457361214357 %\n"
     ]
    }
   ],
   "source": [
    "GLOBAL_error=P_s+CH_in_m-(DRN_ext_m+dt_drn_m)-E_out_s-EVT_s-CH_out_m-(S_to_m-S_from_m)-(S_f_s-S_i_s)\n",
    "total_in=P_s+CH_in_m\n",
    "percent_GLOBAL_error=GLOBAL_error/total_in*100\n",
    "print(\"GLOBAL Error:\",percent_GLOBAL_error, \"%\" )"
   ]
  },
  {
   "cell_type": "code",
   "execution_count": 108,
   "metadata": {},
   "outputs": [],
   "source": [
    "error_df=pd.DataFrame({\"Coupling (DRN/INFLOW) % \": [error_drn_inflow], \"Coupling (INF/RCH) %\": [error_inf_rch], \"SWMM %\": [percent_SWMM_error], \"MODFLOW %\": [percent_MODFLOW_error], \"Global %\": [percent_GLOBAL_error]})"
   ]
  },
  {
   "cell_type": "code",
   "execution_count": 109,
   "metadata": {},
   "outputs": [
    {
     "data": {
      "text/html": [
       "<div>\n",
       "<style scoped>\n",
       "    .dataframe tbody tr th:only-of-type {\n",
       "        vertical-align: middle;\n",
       "    }\n",
       "\n",
       "    .dataframe tbody tr th {\n",
       "        vertical-align: top;\n",
       "    }\n",
       "\n",
       "    .dataframe thead th {\n",
       "        text-align: right;\n",
       "    }\n",
       "</style>\n",
       "<table border=\"1\" class=\"dataframe\">\n",
       "  <thead>\n",
       "    <tr style=\"text-align: right;\">\n",
       "      <th></th>\n",
       "      <th>Coupling (DRN/INFLOW) %</th>\n",
       "      <th>Coupling (INF/RCH) %</th>\n",
       "      <th>SWMM %</th>\n",
       "      <th>MODFLOW %</th>\n",
       "      <th>Global %</th>\n",
       "    </tr>\n",
       "  </thead>\n",
       "  <tbody>\n",
       "    <tr>\n",
       "      <th>0</th>\n",
       "      <td>-0.001291</td>\n",
       "      <td>-0.00101</td>\n",
       "      <td>-0.000118</td>\n",
       "      <td>-0.540685</td>\n",
       "      <td>-0.660746</td>\n",
       "    </tr>\n",
       "  </tbody>\n",
       "</table>\n",
       "</div>"
      ],
      "text/plain": [
       "   Coupling (DRN/INFLOW) %   Coupling (INF/RCH) %    SWMM %  MODFLOW %  \\\n",
       "0                 -0.001291              -0.00101 -0.000118  -0.540685   \n",
       "\n",
       "   Global %  \n",
       "0 -0.660746  "
      ]
     },
     "execution_count": 109,
     "metadata": {},
     "output_type": "execute_result"
    }
   ],
   "source": [
    "error_df"
   ]
  },
  {
   "cell_type": "code",
   "execution_count": 110,
   "metadata": {},
   "outputs": [],
   "source": [
    "evp_cells_mdoflow=[]\n",
    "for i in range(len(TS_gdf)):\n",
    "    evp_day=TS_gdf[i].RET.sum()\n",
    "    evp_cells_mdoflow.append(evp_day*x_resolution*y_resolution)"
   ]
  },
  {
   "cell_type": "code",
   "execution_count": 111,
   "metadata": {},
   "outputs": [
    {
     "data": {
      "text/plain": [
       "509.66644162535664"
      ]
     },
     "execution_count": 111,
     "metadata": {},
     "output_type": "execute_result"
    }
   ],
   "source": [
    "sum(evp_cells_mdoflow)"
   ]
  },
  {
   "cell_type": "markdown",
   "metadata": {},
   "source": [
    "## Couple Model Results"
   ]
  },
  {
   "cell_type": "markdown",
   "metadata": {},
   "source": [
    "### SWMM Subcatchments"
   ]
  },
  {
   "cell_type": "code",
   "execution_count": 110,
   "metadata": {},
   "outputs": [
    {
     "data": {
      "text/plain": [
       "Text(0, 0.5, 'Evaporation (mm/d)')"
      ]
     },
     "execution_count": 110,
     "metadata": {},
     "output_type": "execute_result"
    },
    {
     "data": {
      "image/png": "[encoded data removed]",
      "text/plain": [
       "<Figure size 720x1080 with 5 Axes>"
      ]
     },
     "metadata": {
      "needs_background": "light"
     },
     "output_type": "display_data"
    }
   ],
   "source": [
    "f, (ax1, ax2, ax3, ax4, ax5) = plt.subplots(5,1, figsize=(10,15))\n",
    "ax1.plot(S_SWMM_TS[0].index,S_SWMM_TS[0][\"Precipitation (mm/h)\"] )\n",
    "ax1.set_ylabel(\"Precipitation (mm/h)\")\n",
    "ax2.plot(S_SWMM_TS[0].index,S_SWMM_TS[0][\"Infiltration (mm/h)\"] )\n",
    "ax2.set_ylabel(\"Infiltration (mm/h)\")\n",
    "ax3.plot(S_SWMM_TS[0].index,S_SWMM_TS[0][\"Cumulative Infiltration (m3)\"], label=\"Infiltration\")\n",
    "ax3.plot(S_SWMM_TS[0].index,S_SWMM_TS[0][\"Cumulative Evaporation (m3)\"], label=\"Evaporation\" )\n",
    "ax3.set_ylabel(\"Cumulative Loss (m3)\")\n",
    "ax3.legend()\n",
    "ax4.plot(S_SWMM_TS[0].index,S_SWMM_TS[0][\"Runoff (m3/s)\"] )\n",
    "ax4.set_ylabel(\"Runoff (m3/s)\")\n",
    "ax5.plot(S_SWMM_TS[0].index,S_SWMM_TS[0][\"Evaporation (mm/d)\"] )\n",
    "ax5.set_ylabel(\"Evaporation (mm/d)\")"
   ]
  },
  {
   "cell_type": "code",
   "execution_count": 111,
   "metadata": {},
   "outputs": [
    {
     "data": {
      "text/plain": [
       "<matplotlib.legend.Legend at 0x2ba99b93cc8>"
      ]
     },
     "execution_count": 111,
     "metadata": {},
     "output_type": "execute_result"
    },
    {
     "data": {
      "image/png": "[encoded data removed]",
      "text/plain": [
       "<Figure size 720x864 with 4 Axes>"
      ]
     },
     "metadata": {
      "needs_background": "light"
     },
     "output_type": "display_data"
    }
   ],
   "source": [
    "f, (ax1, ax2, ax3, ax4) = plt.subplots(4,1, figsize=(10,12))\n",
    "ax1.plot(S_SWMM_TS[1].index,S_SWMM_TS[1][\"Precipitation (mm/h)\"], label=\"Precipitation\" )\n",
    "#ax1.set_ylabel(\"Precipitation (mm/h)\")\n",
    "ax1.plot(S_SWMM_TS[1].index,S_SWMM_TS[1][\"Runoff (m3/s)\"]/1000*1000*60*60 , label=\"Runoff\")\n",
    "ax1.set_ylabel(\"(mm/h)\")\n",
    "ax1.legend()\n",
    "ax2.plot(S_SWMM_TS[1].index,S_SWMM_TS[1][\"Infiltration (mm/h)\"] )\n",
    "ax2.set_ylabel(\"Infiltration (mm/h)\")\n",
    "ax3.plot(S_SWMM_TS[1].index,S_SWMM_TS[1][\"Evaporation (mm/d)\"] )\n",
    "ax3.set_ylabel(\"Evaporation (mm/d)\")\n",
    "ax4.plot(S_SWMM_TS[1].index,S_SWMM_TS[1][\"Cumulative Infiltration (m3)\"], label=\"Infiltration\")\n",
    "ax4.plot(S_SWMM_TS[0].index,S_SWMM_TS[1][\"Cumulative Evaporation (m3)\"], label=\"Evaporation\" )\n",
    "ax4.set_ylabel(\"Cumulative Loss (m3)\")\n",
    "ax4.legend()"
   ]
  },
  {
   "cell_type": "markdown",
   "metadata": {},
   "source": [
    "### SWMM Storage Units"
   ]
  },
  {
   "cell_type": "code",
   "execution_count": 112,
   "metadata": {},
   "outputs": [
    {
     "data": {
      "text/plain": [
       "Text(0, 0.5, 'Total outflow (m3/s)')"
      ]
     },
     "execution_count": 112,
     "metadata": {},
     "output_type": "execute_result"
    },
    {
     "data": {
      "image/png": "[encoded data removed]",
      "text/plain": [
       "<Figure size 720x1080 with 5 Axes>"
      ]
     },
     "metadata": {
      "needs_background": "light"
     },
     "output_type": "display_data"
    }
   ],
   "source": [
    "f, (ax1, ax2, ax3, ax4, ax5) = plt.subplots(5,1, figsize=(10,15))\n",
    "ax1.plot(SU_SWMM_TS[0].index,SU_SWMM_TS[0][\"Depth (m)\"] )\n",
    "ax1.set_ylabel(\"Depth (m)\")\n",
    "ax2.plot(SU_SWMM_TS[0].index,SU_SWMM_TS[0][\"Total inflow (m3/s)\"] )\n",
    "ax2.set_ylabel(\"Total inflow (m3/s)\")\n",
    "ax3.plot(SU_SWMM_TS[0].index,SU_SWMM_TS[0][\"Losses (m3/s)\"] )\n",
    "ax3.set_ylabel(\"Losses (m3/s)\")\n",
    "ax4.plot(SU_SWMM_TS[0].index,SU_SWMM_TS[0][\"Cumulative Exfiltration Loss (m3)\"], label=\"Exfiltration\" )\n",
    "ax4.plot(SU_SWMM_TS[0].index,SU_SWMM_TS[0][\"Cumulative Evaporation Loss (m3)\"] , label=\"Evaporation\")\n",
    "ax4.set_ylabel(\"Cumulative Loss (m3)\")\n",
    "ax4.legend()\n",
    "ax5.plot(SU_SWMM_TS[0].index,SU_SWMM_TS[0][\"Total outflow (m3/s)\"] )\n",
    "ax5.set_ylabel(\"Total outflow (m3/s)\")"
   ]
  },
  {
   "cell_type": "markdown",
   "metadata": {},
   "source": [
    "## MODFLOW cells"
   ]
  },
  {
   "cell_type": "code",
   "execution_count": 113,
   "metadata": {},
   "outputs": [
    {
     "data": {
      "text/plain": [
       "<AxesSubplot:>"
      ]
     },
     "execution_count": 113,
     "metadata": {},
     "output_type": "execute_result"
    },
    {
     "data": {
      "image/png": "[encoded data removed]",
      "text/plain": [
       "<Figure size 288x288 with 2 Axes>"
      ]
     },
     "metadata": {
      "needs_background": "light"
     },
     "output_type": "display_data"
    },
    {
     "data": {
      "image/png": "[encoded data removed]",
      "text/plain": [
       "<Figure size 288x288 with 2 Axes>"
      ]
     },
     "metadata": {
      "needs_background": "light"
     },
     "output_type": "display_data"
    },
    {
     "data": {
      "image/png": "[encoded data removed]",
      "text/plain": [
       "<Figure size 288x288 with 2 Axes>"
      ]
     },
     "metadata": {
      "needs_background": "light"
     },
     "output_type": "display_data"
    },
    {
     "data": {
      "image/png": "[encoded data removed]",
      "text/plain": [
       "<Figure size 288x288 with 2 Axes>"
      ]
     },
     "metadata": {
      "needs_background": "light"
     },
     "output_type": "display_data"
    }
   ],
   "source": [
    "fig, ax1 = plt.subplots(1, 1 ,figsize=(4,4))\n",
    "TS_gdf[0].plot(column='Altura', ax=ax1, legend=True)\n",
    "fig, ax2 = plt.subplots(1, 1 ,figsize=(4,4))\n",
    "TS_gdf[9].plot(column='Altura', ax=ax2, legend=True)\n",
    "fig, ax3= plt.subplots(1, 1 ,figsize=(4,4))\n",
    "TS_gdf[19].plot(column='Altura', ax=ax3, legend=True)\n",
    "fig, ax4= plt.subplots(1, 1 ,figsize=(4,4))\n",
    "TS_gdf[29].plot(column='Altura', ax=ax4, legend=True)"
   ]
  },
  {
   "cell_type": "code",
   "execution_count": 114,
   "metadata": {},
   "outputs": [],
   "source": [
    "dias=np.linspace(0,len(TS_gdf)-1,len(TS_gdf))\n",
    "W_inflow=[]\n",
    "S_rch=[]\n",
    "W_rch=[]\n",
    "W_rch_neta=[]\n",
    "for i in range(len(TS_gdf)):\n",
    "    inflow=TS_gdf[i].groupby(\"SWMM_SU\").sum()[\"DRN_rate\"]  #m3/dia\n",
    "    rch=TS_gdf[i].groupby(\"SWMM_S\").sum()[\"RCH\"]\n",
    "    W_inflow.append(inflow.SU1)\n",
    "    W_rch.append(rch.S2*x_resolution*y_resolution)\n",
    "    S_rch.append(rch.S1*x_resolution*y_resolution)\n",
    "    neta=rch.S2*x_resolution*y_resolution-inflow.SU1\n",
    "    W_rch_neta.append(neta)\n",
    "total_S_rch=sum(S_rch)\n",
    "total_W_rch=sum(W_rch)\n",
    "total_W_inflow=sum(W_inflow)\n",
    "total_W_rch_neta=sum(W_rch_neta)"
   ]
  },
  {
   "cell_type": "code",
   "execution_count": 115,
   "metadata": {},
   "outputs": [
    {
     "data": {
      "image/png": "[encoded data removed]",
      "text/plain": [
       "<Figure size 648x288 with 1 Axes>"
      ]
     },
     "metadata": {
      "needs_background": "light"
     },
     "output_type": "display_data"
    }
   ],
   "source": [
    "plt.figure(figsize=(9, 4))\n",
    "plt.plot(dias, W_inflow, label=\"Inflow SU\")\n",
    "plt.plot(dias, W_rch, label=\"RCH SU\")\n",
    "plt.plot(dias, S_rch, label=\"RCH S\")\n",
    "plt.plot(dias, W_rch_neta, label=\"RCH neta\")\n",
    "plt.legend()\n",
    "plt.ylabel(\"(m3/d)\")\n",
    "plt.xlabel(\"Días\")\n",
    "plt.show()"
   ]
  },
  {
   "cell_type": "markdown",
   "metadata": {},
   "source": [
    "# Comparación con modelos desacoplados"
   ]
  },
  {
   "cell_type": "markdown",
   "metadata": {},
   "source": [
    "## Uncouple Model"
   ]
  },
  {
   "cell_type": "code",
   "execution_count": 116,
   "metadata": {},
   "outputs": [],
   "source": [
    "dire=\"SWMM_VER_model\"\n",
    "file=\"SWMM_VER_X2_Copy.inp\"\n",
    "path=dire + \"/\" + file"
   ]
  },
  {
   "cell_type": "code",
   "execution_count": 117,
   "metadata": {},
   "outputs": [],
   "source": [
    "SU_SWMM_TS_SA=[]\n",
    "S_SWMM_TS_SA=[]\n",
    "for i in SU_names_list:\n",
    "    a= pd.DataFrame()\n",
    "    a[\"Time\"]=\"\"\n",
    "    a[\"Depth (m)\"]=\"\"\n",
    "    a[\"Head (m)\"]=\"\"\n",
    "    a[\"Flooding (m3/s)\"]=\"\"\n",
    "    a[\"Lateral inflow (m3/s)\"]=\"\"\n",
    "    a[\"Total inflow (m3/s)\"]=\"\"\n",
    "    a[\"Total outflow (m3/s)\"]=\"\"\n",
    "    a[\"Volume (m3)\"]=\"\"\n",
    "    a[\"Losses (m3/s)\"]=\"\"\n",
    "    a[\"Cumulative Exfiltration Loss (m3)\"]=\"\"\n",
    "    SU_SWMM_TS_SA.append(a)\n",
    "for i in S_names_list:\n",
    "    a= pd.DataFrame()\n",
    "    a[\"Time\"]=\"\"\n",
    "    a[\"Precipitation (mm/h)\"]=\"\"\n",
    "    a[\"Evaporation (mm/d)\"]=\"\"\n",
    "    a[\"Infiltration (mm/h)\"]=\"\" \n",
    "    a[\"Runoff (m3/s)\"]=\"\"\n",
    "    a[\"Runon (m3/s)\"]=\"\"\n",
    "    a[\"Cumulative Infiltration (m3)\"]=\"\"\n",
    "    a[\"Cumulative Evaporation (m3)\"]=\"\"\n",
    "    S_SWMM_TS_SA.append(a)"
   ]
  },
  {
   "cell_type": "code",
   "execution_count": 118,
   "metadata": {},
   "outputs": [],
   "source": [
    "with Simulation(path) as sim:\n",
    "    S_list=[]\n",
    "    SU_list=[]\n",
    "    S_areas=[]\n",
    "    system_routing = SystemStats(sim)\n",
    "    \n",
    "    for s in S_names_list:\n",
    "        S_list.append(Subcatchments(sim)[s])\n",
    "        S_areas.append(Subcatchments(sim)[s].area) #[ha]  \n",
    "    for i in range(len(SU_names_list)):\n",
    "        SU_list.append(Nodes(sim)[SU_names_list[i]])\n",
    "    \n",
    "    inf_S_list_1=np.zeros(len(S_list))\n",
    "    inf_S_list_2=np.zeros(len(S_list))\n",
    "    inf_SU_list_1=np.zeros(len(SU_list))\n",
    "    inf_SU_list_2=np.zeros(len(SU_list))\n",
    "    \n",
    "    step_counter=0\n",
    "\n",
    "    for step in sim:\n",
    "        step_counter=step_counter+1\n",
    "        \n",
    "        #rainfall modification to avoid double counting\n",
    "        \n",
    "        if step_counter==12:\n",
    "            step_counter=0\n",
    "            \n",
    "            #STORAGE UNITS TIME SERIES RESULTS\n",
    "            for i in range(len(SU_list)):\n",
    "                new_row = {'Time': sim.current_time, \"Depth (m)\":SU_list[i].depth, \n",
    "                           \"Head (m)\":SU_list[i].head, \"Flooding (m3/s)\":SU_list[i].flooding, \n",
    "                           \"Lateral inflow (m3/s)\":SU_list[i].lateral_inflow,\"Total inflow (m3/s)\":SU_list[i].total_inflow,\n",
    "                           \"Total outflow (m3/s)\":SU_list[i].total_outflow, \"Volume (m3)\":SU_list[i].volume, \"Losses (m3/s)\":SU_list[i].losses,\n",
    "                           \"Cumulative Exfiltration Loss (m3)\": SU_list[i].storage_statistics[\"exfil_loss\"]}\n",
    "                SU_SWMM_TS_SA[i] =SU_SWMM_TS_SA[i].append(new_row, ignore_index=True)\n",
    "            #SUBCATCHMENTS TIME SERIES RESULTS\n",
    "            for i in range(len(S_list)):\n",
    "                new_row = {'Time': sim.current_time, \"Precipitation (mm/h)\":S_list[i].rainfall, \n",
    "                           \"Evaporation (mm/d)\":S_list[i].evaporation_loss,\"Infiltration (mm/h)\":S_list[i].infiltration_loss, \n",
    "                           \"Runoff (m3/s)\":S_list[i].runoff,\"Runon (m3/s)\":S_list[i].runon,\n",
    "                           \"Cumulative Infiltration (m3)\": S_list[i].statistics[\"infiltration\"], \"Cumulative Evaporation (m3)\": S_list[i].statistics[\"evaporation\"]}\n",
    "                S_SWMM_TS_SA[i] =S_SWMM_TS_SA[i].append(new_row, ignore_index=True) \n",
    "    routing_stats_SA=system_routing.routing_stats\n",
    "    runoff_stats_SA=system_routing.runoff_stats   "
   ]
  },
  {
   "cell_type": "code",
   "execution_count": 119,
   "metadata": {},
   "outputs": [],
   "source": [
    "df_routing_SA = pd.DataFrame({'Dry Weather Inflow (m3)': [routing_stats_SA['dry_weather_inflow']],\n",
    "                   'Wet Weather Inflow (m3)': [routing_stats_SA['wet_weather_inflow']], \n",
    "                   'Ground Water Inflow (m3)': [routing_stats_SA['groundwater_inflow']],\n",
    "                   #'RDII Inflow (m3)': [routing_stats['II_inflow']],\n",
    "                   'External Inflow (m3)': [routing_stats_SA['external_inflow']],\n",
    "                   'External Outflow (m3)': [routing_stats_SA['outflow']],\n",
    "                   'Flooding Loss (m3)': [routing_stats_SA['flooding']],\n",
    "                   'Evaporation Loss (m3)': [routing_stats_SA['evaporation_loss']],\n",
    "                   'Seepage Loss (m3)': [routing_stats_SA['seepage_loss']],\n",
    "                   'Initial Stored Volume': [routing_stats_SA['initial_storage']],\n",
    "                   'Final Stored Volume': [routing_stats_SA['final_storage']],\n",
    "                   'Continuity Error (%)': [routing_stats_SA['routing_error']]})"
   ]
  },
  {
   "cell_type": "code",
   "execution_count": 120,
   "metadata": {},
   "outputs": [],
   "source": [
    "df_runoff_SA = pd.DataFrame({'Total Precipitation (mm)': [runoff_stats_SA['rainfall']],\n",
    "                   'Evaporation Loss (m3)': [runoff_stats_SA['evaporation']], \n",
    "                   'Infiltration Loss (m3)': [runoff_stats_SA['infiltration']],\n",
    "                   'Runoff (m3)': [runoff_stats_SA['runoff']],\n",
    "                   \"Initial Storage (mm)\":[runoff_stats_SA['init_storage']],\n",
    "                   \"Final Storage (mm)\":[runoff_stats_SA['final_storage']]})"
   ]
  },
  {
   "cell_type": "code",
   "execution_count": 121,
   "metadata": {},
   "outputs": [
    {
     "data": {
      "text/html": [
       "<div>\n",
       "<style scoped>\n",
       "    .dataframe tbody tr th:only-of-type {\n",
       "        vertical-align: middle;\n",
       "    }\n",
       "\n",
       "    .dataframe tbody tr th {\n",
       "        vertical-align: top;\n",
       "    }\n",
       "\n",
       "    .dataframe thead th {\n",
       "        text-align: right;\n",
       "    }\n",
       "</style>\n",
       "<table border=\"1\" class=\"dataframe\">\n",
       "  <thead>\n",
       "    <tr style=\"text-align: right;\">\n",
       "      <th></th>\n",
       "      <th>Dry Weather Inflow (m3)</th>\n",
       "      <th>Wet Weather Inflow (m3)</th>\n",
       "      <th>Ground Water Inflow (m3)</th>\n",
       "      <th>External Inflow (m3)</th>\n",
       "      <th>External Outflow (m3)</th>\n",
       "      <th>Flooding Loss (m3)</th>\n",
       "      <th>Evaporation Loss (m3)</th>\n",
       "      <th>Seepage Loss (m3)</th>\n",
       "      <th>Initial Stored Volume</th>\n",
       "      <th>Final Stored Volume</th>\n",
       "      <th>Continuity Error (%)</th>\n",
       "    </tr>\n",
       "  </thead>\n",
       "  <tbody>\n",
       "    <tr>\n",
       "      <th>0</th>\n",
       "      <td>0.0</td>\n",
       "      <td>2705.668666</td>\n",
       "      <td>0.0</td>\n",
       "      <td>0.0</td>\n",
       "      <td>0.0</td>\n",
       "      <td>0.0</td>\n",
       "      <td>0.0</td>\n",
       "      <td>2705.711389</td>\n",
       "      <td>0.0</td>\n",
       "      <td>32268.589275</td>\n",
       "      <td>0.0001</td>\n",
       "    </tr>\n",
       "  </tbody>\n",
       "</table>\n",
       "</div>"
      ],
      "text/plain": [
       "   Dry Weather Inflow (m3)  Wet Weather Inflow (m3)  Ground Water Inflow (m3)  \\\n",
       "0                      0.0              2705.668666                       0.0   \n",
       "\n",
       "   External Inflow (m3)  External Outflow (m3)  Flooding Loss (m3)  \\\n",
       "0                   0.0                    0.0                 0.0   \n",
       "\n",
       "   Evaporation Loss (m3)  Seepage Loss (m3)  Initial Stored Volume  \\\n",
       "0                    0.0        2705.711389                    0.0   \n",
       "\n",
       "   Final Stored Volume  Continuity Error (%)  \n",
       "0         32268.589275                0.0001  "
      ]
     },
     "execution_count": 121,
     "metadata": {},
     "output_type": "execute_result"
    }
   ],
   "source": [
    "df_routing_SA"
   ]
  },
  {
   "cell_type": "code",
   "execution_count": 122,
   "metadata": {},
   "outputs": [
    {
     "data": {
      "text/html": [
       "<div>\n",
       "<style scoped>\n",
       "    .dataframe tbody tr th:only-of-type {\n",
       "        vertical-align: middle;\n",
       "    }\n",
       "\n",
       "    .dataframe tbody tr th {\n",
       "        vertical-align: top;\n",
       "    }\n",
       "\n",
       "    .dataframe thead th {\n",
       "        text-align: right;\n",
       "    }\n",
       "</style>\n",
       "<table border=\"1\" class=\"dataframe\">\n",
       "  <thead>\n",
       "    <tr style=\"text-align: right;\">\n",
       "      <th></th>\n",
       "      <th>Total Precipitation (mm)</th>\n",
       "      <th>Evaporation Loss (m3)</th>\n",
       "      <th>Infiltration Loss (m3)</th>\n",
       "      <th>Runoff (m3)</th>\n",
       "      <th>Initial Storage (mm)</th>\n",
       "      <th>Final Storage (mm)</th>\n",
       "    </tr>\n",
       "  </thead>\n",
       "  <tbody>\n",
       "    <tr>\n",
       "      <th>0</th>\n",
       "      <td>334.5</td>\n",
       "      <td>137.975622</td>\n",
       "      <td>836.343486</td>\n",
       "      <td>2705.668666</td>\n",
       "      <td>0.0</td>\n",
       "      <td>0.0</td>\n",
       "    </tr>\n",
       "  </tbody>\n",
       "</table>\n",
       "</div>"
      ],
      "text/plain": [
       "   Total Precipitation (mm)  Evaporation Loss (m3)  Infiltration Loss (m3)  \\\n",
       "0                     334.5             137.975622              836.343486   \n",
       "\n",
       "   Runoff (m3)  Initial Storage (mm)  Final Storage (mm)  \n",
       "0  2705.668666                   0.0                 0.0  "
      ]
     },
     "execution_count": 122,
     "metadata": {},
     "output_type": "execute_result"
    }
   ],
   "source": [
    "df_runoff_SA"
   ]
  },
  {
   "cell_type": "markdown",
   "metadata": {},
   "source": [
    "## Uncouple Model with Ground Water Module"
   ]
  },
  {
   "cell_type": "markdown",
   "metadata": {},
   "source": [
    "Características del modelo:"
   ]
  },
  {
   "cell_type": "code",
   "execution_count": 123,
   "metadata": {},
   "outputs": [],
   "source": [
    "dire=\"SWMM_VER_model\"\n",
    "file=\"SWMM_VER_AS_X2.inp\"\n",
    "path=dire + \"/\" + file"
   ]
  },
  {
   "cell_type": "code",
   "execution_count": 124,
   "metadata": {},
   "outputs": [],
   "source": [
    "S_SWMM_TS_GW=[]\n",
    "SU_SWMM_TS_GW=[]\n",
    "for i in S_names_list:\n",
    "    a= pd.DataFrame()\n",
    "    a[\"Time\"]=\"\"\n",
    "    a[\"Precipitation (mm/h)\"]=\"\"\n",
    "    a[\"Evaporation (mm/d)\"]=\"\"\n",
    "    a[\"Infiltration (mm/h)\"]=\"\" \n",
    "    a[\"Runoff (m3/s)\"]=\"\"\n",
    "    a[\"Runon (m3/s)\"]=\"\"\n",
    "    a[\"Cumulative Infiltration (m3)\"]=\"\"\n",
    "    a[\"Cumulative Evaporation (m3)\"]=\"\"\n",
    "    S_SWMM_TS_GW.append(a)\n",
    "for i in SU_names_list:\n",
    "    a= pd.DataFrame()\n",
    "    a[\"Time\"]=\"\"\n",
    "    a[\"Depth (m)\"]=\"\"\n",
    "    a[\"Head (m)\"]=\"\"\n",
    "    a[\"Flooding (m3/s)\"]=\"\"\n",
    "    a[\"Lateral inflow (m3/s)\"]=\"\"\n",
    "    a[\"Total inflow (m3/s)\"]=\"\"\n",
    "    a[\"Total outflow (m3/s)\"]=\"\"\n",
    "    a[\"Volume (m3)\"]=\"\"\n",
    "    a[\"Losses (m3/s)\"]=\"\"\n",
    "    a[\"Cumulative Exfiltration Loss (m3)\"]=\"\"\n",
    "    SU_SWMM_TS_GW.append(a)"
   ]
  },
  {
   "cell_type": "code",
   "execution_count": 125,
   "metadata": {},
   "outputs": [
    {
     "name": "stdout",
     "output_type": "stream",
     "text": [
      "Flow Routing Mass Balance Error: 0.0\n",
      "Runoff Mass Balance Error: 0.0\n"
     ]
    }
   ],
   "source": [
    "with Simulation(path) as sim:\n",
    "    S_list=[]\n",
    "    SU_list=[]\n",
    "    S_areas=[]\n",
    "    system_routing = SystemStats(sim)\n",
    "    \n",
    "    for s in S_names_list:\n",
    "        S_list.append(Subcatchments(sim)[s])\n",
    "        S_areas.append(Subcatchments(sim)[s].area) #[ha]  \n",
    "    for i in range(len(SU_names_list)):\n",
    "        SU_list.append(Nodes(sim)[SU_names_list[i]])\n",
    "    \n",
    "    inf_S_list_1=np.zeros(len(S_list))\n",
    "    inf_S_list_2=np.zeros(len(S_list))\n",
    "    inf_SU_list_1=np.zeros(len(SU_list))\n",
    "    inf_SU_list_2=np.zeros(len(SU_list))  \n",
    "    \n",
    "    step_counter=0\n",
    "\n",
    "    for step in sim:\n",
    "        step_counter=step_counter+1\n",
    "        \n",
    "        #rainfall modification to avoid double counting\n",
    "        \n",
    "        if step_counter==12:\n",
    "            step_counter=0\n",
    "\n",
    "            #STORAGE UNITS TIME SERIES RESULTS\n",
    "            for i in range(len(SU_list)):\n",
    "                new_row = {'Time': sim.current_time, \"Depth (m)\":SU_list[i].depth, \n",
    "                           \"Head (m)\":SU_list[i].head, \"Flooding (m3/s)\":SU_list[i].flooding, \n",
    "                           \"Lateral inflow (m3/s)\":SU_list[i].lateral_inflow,\"Total inflow (m3/s)\":SU_list[i].total_inflow,\n",
    "                           \"Total outflow (m3/s)\":SU_list[i].total_outflow, \"Volume (m3)\":SU_list[i].volume, \"Losses (m3/s)\":SU_list[i].losses,\n",
    "                           \"Cumulative Exfiltration Loss (m3)\": SU_list[i].storage_statistics[\"exfil_loss\"]}\n",
    "                SU_SWMM_TS_GW[i] =SU_SWMM_TS_GW[i].append(new_row, ignore_index=True)\n",
    "            for i in range(len(S_list)):\n",
    "                new_row = {'Time': sim.current_time, \"Precipitation (mm/h)\":S_list[i].rainfall, \n",
    "                           \"Evaporation (mm/d)\":S_list[i].evaporation_loss,\"Infiltration (mm/h)\":S_list[i].infiltration_loss, \n",
    "                           \"Runoff (m3/s)\":S_list[i].runoff,\"Runon (m3/s)\":S_list[i].runon,\n",
    "                           \"Cumulative Infiltration (m3)\": S_list[i].statistics[\"infiltration\"], \"Cumulative Evaporation (m3)\": S_list[i].statistics[\"evaporation\"]}\n",
    "                S_SWMM_TS_GW[i] =S_SWMM_TS_GW[i].append(new_row, ignore_index=True)\n",
    "            \n",
    "    routing_stats_GW=system_routing.routing_stats\n",
    "    runoff_stats_GW=system_routing.runoff_stats     \n",
    "print(\"Flow Routing Mass Balance Error:\", sim.flow_routing_error)\n",
    "print(\"Runoff Mass Balance Error:\", sim.runoff_error)"
   ]
  },
  {
   "cell_type": "code",
   "execution_count": 126,
   "metadata": {},
   "outputs": [],
   "source": [
    "df_routing_GW = pd.DataFrame({'Dry Weather Inflow (m3)': [routing_stats_GW['dry_weather_inflow']],\n",
    "                   'Wet Weather Inflow (m3)': [routing_stats_GW['wet_weather_inflow']], \n",
    "                   'Ground Water Inflow (m3)': [routing_stats_GW['groundwater_inflow']],\n",
    "                   #'RDII Inflow (m3)': [routing_stats['II_inflow']],\n",
    "                   'External Inflow (m3)': [routing_stats_GW['external_inflow']],\n",
    "                   'External Outflow (m3)': [routing_stats_GW['outflow']],\n",
    "                   'Flooding Loss (m3)': [routing_stats_GW['flooding']],\n",
    "                   'Evaporation Loss (m3)': [routing_stats_GW['evaporation_loss']],\n",
    "                   'Seepage Loss (m3)': [routing_stats_GW['seepage_loss']],\n",
    "                   'Initial Stored Volume': [routing_stats_GW['initial_storage']],\n",
    "                   'Final Stored Volume': [routing_stats_GW['final_storage']],\n",
    "                   'Continuity Error (%)': [routing_stats_GW['routing_error']]})"
   ]
  },
  {
   "cell_type": "code",
   "execution_count": 127,
   "metadata": {},
   "outputs": [],
   "source": [
    "df_runoff_GW = pd.DataFrame({'Total Precipitation (mm)': [runoff_stats_GW['rainfall']],\n",
    "                   'Evaporation Loss (m3)': [runoff_stats_GW['evaporation']], \n",
    "                   'Infiltration Loss (m3)': [runoff_stats_GW['infiltration']],\n",
    "                   'Runoff (m3)': [runoff_stats_GW['runoff']],\n",
    "                   \"Initial Storage (mm)\":[runoff_stats_GW['init_storage']],\n",
    "                   \"Final Storage (mm)\":[runoff_stats_GW['final_storage']]})"
   ]
  },
  {
   "cell_type": "code",
   "execution_count": 128,
   "metadata": {},
   "outputs": [
    {
     "data": {
      "text/html": [
       "<div>\n",
       "<style scoped>\n",
       "    .dataframe tbody tr th:only-of-type {\n",
       "        vertical-align: middle;\n",
       "    }\n",
       "\n",
       "    .dataframe tbody tr th {\n",
       "        vertical-align: top;\n",
       "    }\n",
       "\n",
       "    .dataframe thead th {\n",
       "        text-align: right;\n",
       "    }\n",
       "</style>\n",
       "<table border=\"1\" class=\"dataframe\">\n",
       "  <thead>\n",
       "    <tr style=\"text-align: right;\">\n",
       "      <th></th>\n",
       "      <th>Dry Weather Inflow (m3)</th>\n",
       "      <th>Wet Weather Inflow (m3)</th>\n",
       "      <th>Ground Water Inflow (m3)</th>\n",
       "      <th>External Inflow (m3)</th>\n",
       "      <th>External Outflow (m3)</th>\n",
       "      <th>Flooding Loss (m3)</th>\n",
       "      <th>Evaporation Loss (m3)</th>\n",
       "      <th>Seepage Loss (m3)</th>\n",
       "      <th>Initial Stored Volume</th>\n",
       "      <th>Final Stored Volume</th>\n",
       "      <th>Continuity Error (%)</th>\n",
       "    </tr>\n",
       "  </thead>\n",
       "  <tbody>\n",
       "    <tr>\n",
       "      <th>0</th>\n",
       "      <td>0.0</td>\n",
       "      <td>2705.668666</td>\n",
       "      <td>-1526.619722</td>\n",
       "      <td>0.0</td>\n",
       "      <td>0.0</td>\n",
       "      <td>0.0</td>\n",
       "      <td>0.0</td>\n",
       "      <td>0.0</td>\n",
       "      <td>0.0</td>\n",
       "      <td>0.0</td>\n",
       "      <td>-0.157903</td>\n",
       "    </tr>\n",
       "  </tbody>\n",
       "</table>\n",
       "</div>"
      ],
      "text/plain": [
       "   Dry Weather Inflow (m3)  Wet Weather Inflow (m3)  Ground Water Inflow (m3)  \\\n",
       "0                      0.0              2705.668666              -1526.619722   \n",
       "\n",
       "   External Inflow (m3)  External Outflow (m3)  Flooding Loss (m3)  \\\n",
       "0                   0.0                    0.0                 0.0   \n",
       "\n",
       "   Evaporation Loss (m3)  Seepage Loss (m3)  Initial Stored Volume  \\\n",
       "0                    0.0                0.0                    0.0   \n",
       "\n",
       "   Final Stored Volume  Continuity Error (%)  \n",
       "0                  0.0             -0.157903  "
      ]
     },
     "execution_count": 128,
     "metadata": {},
     "output_type": "execute_result"
    }
   ],
   "source": [
    "df_routing_GW "
   ]
  },
  {
   "cell_type": "code",
   "execution_count": 129,
   "metadata": {},
   "outputs": [
    {
     "data": {
      "text/html": [
       "<div>\n",
       "<style scoped>\n",
       "    .dataframe tbody tr th:only-of-type {\n",
       "        vertical-align: middle;\n",
       "    }\n",
       "\n",
       "    .dataframe tbody tr th {\n",
       "        vertical-align: top;\n",
       "    }\n",
       "\n",
       "    .dataframe thead th {\n",
       "        text-align: right;\n",
       "    }\n",
       "</style>\n",
       "<table border=\"1\" class=\"dataframe\">\n",
       "  <thead>\n",
       "    <tr style=\"text-align: right;\">\n",
       "      <th></th>\n",
       "      <th>Total Precipitation (mm)</th>\n",
       "      <th>Evaporation Loss (m3)</th>\n",
       "      <th>Infiltration Loss (m3)</th>\n",
       "      <th>Runoff (m3)</th>\n",
       "      <th>Initial Storage (mm)</th>\n",
       "      <th>Final Storage (mm)</th>\n",
       "    </tr>\n",
       "  </thead>\n",
       "  <tbody>\n",
       "    <tr>\n",
       "      <th>0</th>\n",
       "      <td>334.5</td>\n",
       "      <td>137.975622</td>\n",
       "      <td>836.343486</td>\n",
       "      <td>2705.668666</td>\n",
       "      <td>0.0</td>\n",
       "      <td>0.0</td>\n",
       "    </tr>\n",
       "  </tbody>\n",
       "</table>\n",
       "</div>"
      ],
      "text/plain": [
       "   Total Precipitation (mm)  Evaporation Loss (m3)  Infiltration Loss (m3)  \\\n",
       "0                     334.5             137.975622              836.343486   \n",
       "\n",
       "   Runoff (m3)  Initial Storage (mm)  Final Storage (mm)  \n",
       "0  2705.668666                   0.0                 0.0  "
      ]
     },
     "execution_count": 129,
     "metadata": {},
     "output_type": "execute_result"
    }
   ],
   "source": [
    "df_runoff_GW"
   ]
  },
  {
   "cell_type": "markdown",
   "metadata": {},
   "source": [
    "## Gráficas de Comparación"
   ]
  },
  {
   "cell_type": "markdown",
   "metadata": {},
   "source": [
    "### Storage Units"
   ]
  },
  {
   "cell_type": "code",
   "execution_count": 133,
   "metadata": {},
   "outputs": [
    {
     "data": {
      "image/png": "[encoded data removed]",
      "text/plain": [
       "<Figure size 1224x360 with 4 Axes>"
      ]
     },
     "metadata": {
      "needs_background": "light"
     },
     "output_type": "display_data"
    }
   ],
   "source": [
    "f, axs = plt.subplots(2,2, figsize=(17,5))\n",
    "\n",
    "axs[1,0].plot(SU_SWMM_TS[0].index/24,SU_SWMM_TS[0][\"Total inflow (m3/s)\"],label=\"SWMM-MODFLOW\",linestyle=\"-\", linewidth=1)\n",
    "axs[1,0].plot(SU_SWMM_TS_SA[0].index/24,SU_SWMM_TS_SA[0][\"Total inflow (m3/s)\"],label=\"SWMM\",linestyle=\"--\", linewidth=1)\n",
    "axs[1,0].plot(SU_SWMM_TS_GW[0].index/24,SU_SWMM_TS_GW[0][\"Total inflow (m3/s)\"], label=\"SWMM GW\", linestyle=\"-.\" , linewidth=1)\n",
    "axs[1,0].set_ylabel(\"Total inflow $\\mathrm{(m^3/s)}$\",fontsize=12)\n",
    "axs[1,0].set_xlabel(\"Time (days)\")\n",
    "axs[0,1].plot(SU_SWMM_TS[0].index/24,SU_SWMM_TS[0][\"Depth (m)\"], label=\"SWMM-MODFLOW\",linestyle=\"-\", linewidth=1)\n",
    "axs[0,1].plot(SU_SWMM_TS_SA[0].index/24,SU_SWMM_TS_SA[0][\"Depth (m)\"], label=\"SWMM\",linestyle=\"--\", linewidth=1 )\n",
    "axs[0,1].plot(SU_SWMM_TS_GW[0].index/24,SU_SWMM_TS_GW[0][\"Depth (m)\"], label=\"SWMM GW\",linestyle=\"-.\" )\n",
    "axs[0,1].set_ylabel(\"Depth (m)\")\n",
    "\n",
    "axs[0,0].plot(S_SWMM_TS[0].index/24,S_SWMM_TS[0][\"Precipitation (mm/h)\"], label=\"SWMM-MODFLOW\",linestyle=\"-\", linewidth=1)\n",
    "axs[0,0].plot(S_SWMM_TS_SA[0].index/24,S_SWMM_TS_SA[0][\"Precipitation (mm/h)\"], label=\"SWMM\",linestyle=\"--\", linewidth=1)\n",
    "axs[0,0].plot(S_SWMM_TS_GW[0].index/24,S_SWMM_TS_GW[0][\"Precipitation (mm/h)\"], label=\"SWMM GW\", linestyle=\"-.\", linewidth=1)\n",
    "axs[0,0].set_ylabel(\"Precipitation (mm/h)\")\n",
    "axs[0,0].legend(fontsize=12)\n",
    "# axs[0,1].plot(SU_SWMM_TS[0].index/24,SU_SWMM_TS[0][\"Losses (m3/s)\"],label=\"SWMM-MODFLOW\",linestyle=\"-\")\n",
    "# axs[0,1].plot(SU_SWMM_TS_SA[0].index/24,SU_SWMM_TS_SA[0][\"Losses (m3/s)\"],label=\"SWMM\",linestyle=\"--\")\n",
    "# axs[0,1].plot(SU_SWMM_TS_GW[0].index/24,SU_SWMM_TS_GW[0][\"Losses (m3/s)\"], label=\"SWMM GW\", linestyle=\"-.\"  )\n",
    "# axs[0,1].set_ylabel(\"Losses $[m^3/s]$\")\n",
    "# axs[0,1].legend()\n",
    "# ax4.plot(SU_SWMM_TS[0].index/24,SU_SWMM_TS[0][\"Cumulative Exfiltration Loss (m3)\"],label=\"SWMM-MODFLOW\",linestyle=\"-\"  )\n",
    "# ax4.plot(SU_SWMM_TS_SA[0].index/24,SU_SWMM_TS_SA[0][\"Cumulative Exfiltration Loss (m3)\"],label=\"SWMM\",linestyle=\"--\")\n",
    "# ax4.plot(SU_SWMM_TS_GW[0].index/24,SU_SWMM_TS_GW[0][\"Cumulative Exfiltration Loss (m3)\"], label=\"SWMM GW\", linestyle=\"-.\")\n",
    "# ax4.set_ylabel(\"Cumulative Exfiltration Loss (m3)\")\n",
    "axs[1,1].plot(SU_SWMM_TS[0].index/24,SU_SWMM_TS[0][\"Total outflow (m3/s)\"],label=\"SWMM-MODFLOW\",linestyle=\"-\", linewidth=1)\n",
    "axs[1,1].plot(SU_SWMM_TS_SA[0].index/24,SU_SWMM_TS_SA[0][\"Total outflow (m3/s)\"],label=\"SWMM\",linestyle=\"--\", linewidth=1)\n",
    "axs[1,1].plot(SU_SWMM_TS_GW[0].index/24,SU_SWMM_TS_GW[0][\"Total outflow (m3/s)\"], label=\"SWMM GW\", linestyle=\"-.\", linewidth=1)\n",
    "axs[1,1].set_ylabel(\"Total outflow $\\mathrm{(m^3/s)}$\",fontsize=12)\n",
    "axs[1,1].set_xlabel(\"Time (days)\")\n",
    "\n",
    "plt.rcParams[\"font.serif\"] = [\"Times New Roman\"]\n",
    "plt.rcParams['mathtext.fontset'] = 'stix'\n",
    "plt.rc('font', size=14)          # controls default text sizes\n",
    "plt.rc('axes', titlesize=14)     # fontsize of the axes title\n",
    "plt.rc('axes', labelsize=14)    # fontsize of the x and y labels\n",
    "plt.rc('legend', fontsize=14)    # legend fontsize\n",
    "plt.savefig(\"Figuras\\Time_Series_SU.svg\")\n",
    "plt.show()"
   ]
  },
  {
   "cell_type": "code",
   "execution_count": 134,
   "metadata": {},
   "outputs": [
    {
     "data": {
      "text/plain": [
       "count    2928.000000\n",
       "mean        0.000112\n",
       "std         0.000887\n",
       "min        -0.000397\n",
       "25%        -0.000175\n",
       "50%        -0.000059\n",
       "75%        -0.000026\n",
       "max         0.007316\n",
       "Name: Total inflow (m3/s), dtype: float64"
      ]
     },
     "execution_count": 134,
     "metadata": {},
     "output_type": "execute_result"
    }
   ],
   "source": [
    "SU_SWMM_TS_GW[0][\"Total inflow (m3/s)\"].describe()"
   ]
  },
  {
   "cell_type": "code",
   "execution_count": 135,
   "metadata": {},
   "outputs": [
    {
     "data": {
      "image/png": "[encoded data removed]",
      "text/plain": [
       "<Figure size 864x288 with 1 Axes>"
      ]
     },
     "metadata": {
      "needs_background": "light"
     },
     "output_type": "display_data"
    }
   ],
   "source": [
    "plt.figure(figsize=(12,4))\n",
    "plt.plot(SU_SWMM_TS_SA[0].index/24,SU_SWMM_TS_SA[0][\"Total inflow (m3/s)\"]-SU_SWMM_TS_SA[0][\"Total outflow (m3/s)\"],label=\"SWMM\",linestyle=\"--\", linewidth=1)\n",
    "plt.plot(SU_SWMM_TS_GW[0].index/24,SU_SWMM_TS_GW[0][\"Total inflow (m3/s)\"], label=\"SWMM GW\", linestyle=\"-.\", linewidth=1)\n",
    "plt.plot(SU_SWMM_TS[0].index/24,SU_SWMM_TS[0][\"Total inflow (m3/s)\"]-SU_SWMM_TS[0][\"Total outflow (m3/s)\"], label=\"SWMM-MODFLOW\",linestyle=\"-\", linewidth=1)\n",
    "plt.xlabel(\"Tiempo [días]\")\n",
    "plt.ylabel(\"Net Flow SU1 $[m^3/s]$\")\n",
    "plt.legend()\n",
    "plt.ylim((-0.001,0.008))\n",
    "plt.xlim((0,120))\n",
    "plt.grid()\n",
    "plt.savefig(\"Figuras\\SU_TS_Net_Flow.svg\")"
   ]
  },
  {
   "cell_type": "code",
   "execution_count": 136,
   "metadata": {},
   "outputs": [
    {
     "data": {
      "image/png": "[encoded data removed]",
      "text/plain": [
       "<Figure size 864x288 with 1 Axes>"
      ]
     },
     "metadata": {
      "needs_background": "light"
     },
     "output_type": "display_data"
    }
   ],
   "source": [
    "plt.figure(figsize=(12,4))\n",
    "plt.plot(SU_SWMM_TS_SA[0].index/24,SU_SWMM_TS_SA[0][\"Depth (m)\"],label=\"SWMM\",linestyle=\"--\", linewidth=1)\n",
    "plt.plot(SU_SWMM_TS_GW[0].index/24,SU_SWMM_TS_GW[0][\"Depth (m)\"], label=\"SWMM GW\", linestyle=\"-.\", linewidth=1 )\n",
    "plt.plot(SU_SWMM_TS[0].index/24,SU_SWMM_TS[0][\"Depth (m)\"], label=\"SWMM-MODFLOW\",linestyle=\"-\", linewidth=1 )\n",
    "plt.xlabel(\"Tiempo [días]\")\n",
    "plt.ylabel(\"SU1 Depth $[m]$\")\n",
    "plt.xlim((0,120))\n",
    "plt.legend()\n",
    "plt.grid()\n",
    "plt.savefig(\"Figuras\\SU_TS_Depth.svg\")"
   ]
  },
  {
   "cell_type": "code",
   "execution_count": 138,
   "metadata": {},
   "outputs": [
    {
     "data": {
      "image/png": "[encoded data removed]",
      "text/plain": [
       "<Figure size 1080x360 with 2 Axes>"
      ]
     },
     "metadata": {
      "needs_background": "light"
     },
     "output_type": "display_data"
    }
   ],
   "source": [
    "fig,ax=plt.subplots(figsize=(15,5))\n",
    "ax.plot(SU_SWMM_TS_SA[0].index/24,SU_SWMM_TS_SA[0][\"Depth (m)\"],label=\"SWMM\",linestyle=\"--\", linewidth=1)\n",
    "ax.plot(SU_SWMM_TS_GW[0].index/24,SU_SWMM_TS_GW[0][\"Depth (m)\"], label=\"SWMM GW\", linestyle=\"-.\", linewidth=1 )\n",
    "ax.plot(SU_SWMM_TS[0].index/24,SU_SWMM_TS[0][\"Depth (m)\"], label=\"SWMM-MODFLOW\",linestyle=\"-\", linewidth=1 )\n",
    "ax.yaxis.set_label_text('Depth (m)')\n",
    "ax.xaxis.set_label_text('Time (days)')\n",
    "ax.set_ylim(0,2.5)\n",
    "ax.set_xlim(0,120)\n",
    "plt.grid()\n",
    "ax2=ax.twinx()\n",
    "ax2.bar(S_SWMM_TS[0].index/24,S_SWMM_TS[0][\"Precipitation (mm/h)\"], label=\"I (mm/h)\")\n",
    "ax2.set_ylim(0,10)\n",
    "ax2.yaxis.set_label_text('I (mm/h)')\n",
    "ax2.invert_yaxis()\n",
    "ax.legend(loc=\"lower right\")\n",
    "ax2.legend(loc=\"upper right\")\n",
    "#plt.grid()\n",
    "#ax.set_title(\"\")\n",
    "\n",
    "plt.rc('font', size=16)          # controls default text sizes\n",
    "plt.rc('axes', titlesize=16)     # fontsize of the axes title\n",
    "plt.rc('axes', labelsize=16)    # fontsize of the x and y labels\n",
    "#plt.rc('xtick', labelsize=18)    # fontsize of the tick labels\n",
    "#plt.rc('ytick', labelsize=18)    # fontsize of the tick labels\n",
    "plt.rc('legend', fontsize=16)    # legend fontsize\n",
    "\n",
    "fig.savefig(\"Figuras/Fig4d_DepthTimeSeriesValidation.svg\")"
   ]
  },
  {
   "cell_type": "code",
   "execution_count": 137,
   "metadata": {},
   "outputs": [
    {
     "data": {
      "text/plain": [
       "<matplotlib.legend.Legend at 0x23cc8492348>"
      ]
     },
     "execution_count": 137,
     "metadata": {},
     "output_type": "execute_result"
    },
    {
     "data": {
      "image/png": "[encoded data removed]",
      "text/plain": [
       "<Figure size 1080x360 with 2 Axes>"
      ]
     },
     "metadata": {
      "needs_background": "light"
     },
     "output_type": "display_data"
    }
   ],
   "source": [
    "fig,ax=plt.subplots(figsize=(15,5))\n",
    "plt.plot(SU_SWMM_TS_SA[0].index/24,SU_SWMM_TS_SA[0][\"Total inflow (m3/s)\"]-SU_SWMM_TS_SA[0][\"Total outflow (m3/s)\"],label=\"SWMM\",linestyle=\"--\", linewidth=1)\n",
    "plt.plot(SU_SWMM_TS_GW[0].index/24,SU_SWMM_TS_GW[0][\"Total inflow (m3/s)\"], label=\"SWMM GW\", linestyle=\"-.\", linewidth=1)\n",
    "plt.plot(SU_SWMM_TS[0].index/24,SU_SWMM_TS[0][\"Total inflow (m3/s)\"]-SU_SWMM_TS[0][\"Total outflow (m3/s)\"], label=\"SWMM-MODFLOW\",linestyle=\"-\", linewidth=1)\n",
    "ax.yaxis.set_label_text(\"Net Flow SU1 $[m^3/s]$\")\n",
    "ax.set_ylim(-0.5*max(SU_SWMM_TS_GW[0][\"Total inflow (m3/s)\"]),2*max(SU_SWMM_TS_GW[0][\"Total inflow (m3/s)\"]))\n",
    "plt.grid()\n",
    "ax2=ax.twinx()\n",
    "ax2.bar(S_SWMM_TS[0].index/24,S_SWMM_TS[0][\"Precipitation (mm/h)\"], label=\"I (mm/h)\")\n",
    "ax2.set_ylim(0,3*max(S_SWMM_TS[0][\"Precipitation (mm/h)\"]))\n",
    "ax2.yaxis.set_label_text('I [mm/h]')\n",
    "ax2.invert_yaxis()\n",
    "ax.legend(loc=\"lower right\")\n",
    "ax2.legend(loc=\"upper right\")\n",
    "#plt.grid()\n",
    "#ax.set_title(\"\")"
   ]
  },
  {
   "cell_type": "markdown",
   "metadata": {},
   "source": [
    "## Balances Globales"
   ]
  },
  {
   "cell_type": "code",
   "execution_count": 139,
   "metadata": {},
   "outputs": [],
   "source": [
    "index=[[\"SWMM-MODFLOW\", \"SWMM\", \"SWMM-GW\"]]"
   ]
  },
  {
   "cell_type": "code",
   "execution_count": 140,
   "metadata": {},
   "outputs": [],
   "source": [
    "frames_routing = [df_routing_couple, df_routing_SA, df_routing_GW]"
   ]
  },
  {
   "cell_type": "code",
   "execution_count": 141,
   "metadata": {},
   "outputs": [],
   "source": [
    "df_routing=pd.concat(frames_routing)"
   ]
  },
  {
   "cell_type": "code",
   "execution_count": 142,
   "metadata": {},
   "outputs": [
    {
     "data": {
      "text/html": [
       "<div>\n",
       "<style scoped>\n",
       "    .dataframe tbody tr th:only-of-type {\n",
       "        vertical-align: middle;\n",
       "    }\n",
       "\n",
       "    .dataframe tbody tr th {\n",
       "        vertical-align: top;\n",
       "    }\n",
       "\n",
       "    .dataframe thead th {\n",
       "        text-align: right;\n",
       "    }\n",
       "</style>\n",
       "<table border=\"1\" class=\"dataframe\">\n",
       "  <thead>\n",
       "    <tr style=\"text-align: right;\">\n",
       "      <th></th>\n",
       "      <th>Dry Weather Inflow (m3)</th>\n",
       "      <th>Wet Weather Inflow (m3)</th>\n",
       "      <th>Ground Water Inflow (m3)</th>\n",
       "      <th>External Inflow (m3)</th>\n",
       "      <th>External Outflow (m3)</th>\n",
       "      <th>Flooding Loss (m3)</th>\n",
       "      <th>Evaporation Loss (m3)</th>\n",
       "      <th>Seepage Loss (m3)</th>\n",
       "      <th>Initial Stored Volume</th>\n",
       "      <th>Final Stored Volume</th>\n",
       "      <th>Continuity Error (%)</th>\n",
       "    </tr>\n",
       "  </thead>\n",
       "  <tbody>\n",
       "    <tr>\n",
       "      <th>SWMM-MODFLOW</th>\n",
       "      <td>0.0</td>\n",
       "      <td>2705.668666</td>\n",
       "      <td>0.000000</td>\n",
       "      <td>1755.152484</td>\n",
       "      <td>0.0</td>\n",
       "      <td>0.0</td>\n",
       "      <td>0.0</td>\n",
       "      <td>3546.974701</td>\n",
       "      <td>0.0</td>\n",
       "      <td>0.000000</td>\n",
       "      <td>0.000000</td>\n",
       "    </tr>\n",
       "    <tr>\n",
       "      <th>SWMM</th>\n",
       "      <td>0.0</td>\n",
       "      <td>2705.668666</td>\n",
       "      <td>0.000000</td>\n",
       "      <td>0.000000</td>\n",
       "      <td>0.0</td>\n",
       "      <td>0.0</td>\n",
       "      <td>0.0</td>\n",
       "      <td>2705.711389</td>\n",
       "      <td>0.0</td>\n",
       "      <td>32268.589275</td>\n",
       "      <td>0.000100</td>\n",
       "    </tr>\n",
       "    <tr>\n",
       "      <th>SWMM-GW</th>\n",
       "      <td>0.0</td>\n",
       "      <td>2705.668666</td>\n",
       "      <td>-1526.619722</td>\n",
       "      <td>0.000000</td>\n",
       "      <td>0.0</td>\n",
       "      <td>0.0</td>\n",
       "      <td>0.0</td>\n",
       "      <td>0.000000</td>\n",
       "      <td>0.0</td>\n",
       "      <td>0.000000</td>\n",
       "      <td>-0.157903</td>\n",
       "    </tr>\n",
       "  </tbody>\n",
       "</table>\n",
       "</div>"
      ],
      "text/plain": [
       "              Dry Weather Inflow (m3)  Wet Weather Inflow (m3)  \\\n",
       "SWMM-MODFLOW                      0.0              2705.668666   \n",
       "SWMM                              0.0              2705.668666   \n",
       "SWMM-GW                           0.0              2705.668666   \n",
       "\n",
       "              Ground Water Inflow (m3)  External Inflow (m3)  \\\n",
       "SWMM-MODFLOW                  0.000000           1755.152484   \n",
       "SWMM                          0.000000              0.000000   \n",
       "SWMM-GW                   -1526.619722              0.000000   \n",
       "\n",
       "              External Outflow (m3)  Flooding Loss (m3)  \\\n",
       "SWMM-MODFLOW                    0.0                 0.0   \n",
       "SWMM                            0.0                 0.0   \n",
       "SWMM-GW                         0.0                 0.0   \n",
       "\n",
       "              Evaporation Loss (m3)  Seepage Loss (m3)  Initial Stored Volume  \\\n",
       "SWMM-MODFLOW                    0.0        3546.974701                    0.0   \n",
       "SWMM                            0.0        2705.711389                    0.0   \n",
       "SWMM-GW                         0.0           0.000000                    0.0   \n",
       "\n",
       "              Final Stored Volume  Continuity Error (%)  \n",
       "SWMM-MODFLOW             0.000000              0.000000  \n",
       "SWMM                 32268.589275              0.000100  \n",
       "SWMM-GW                  0.000000             -0.157903  "
      ]
     },
     "execution_count": 142,
     "metadata": {},
     "output_type": "execute_result"
    }
   ],
   "source": [
    "df_routing.set_index(index)"
   ]
  },
  {
   "cell_type": "code",
   "execution_count": 143,
   "metadata": {},
   "outputs": [],
   "source": [
    "frames_runoff=[df_runoff_couple, df_runoff_SA, df_runoff_GW]"
   ]
  },
  {
   "cell_type": "code",
   "execution_count": 144,
   "metadata": {},
   "outputs": [],
   "source": [
    "df_runoff=pd.concat(frames_runoff)"
   ]
  },
  {
   "cell_type": "code",
   "execution_count": 145,
   "metadata": {},
   "outputs": [
    {
     "data": {
      "text/html": [
       "<div>\n",
       "<style scoped>\n",
       "    .dataframe tbody tr th:only-of-type {\n",
       "        vertical-align: middle;\n",
       "    }\n",
       "\n",
       "    .dataframe tbody tr th {\n",
       "        vertical-align: top;\n",
       "    }\n",
       "\n",
       "    .dataframe thead th {\n",
       "        text-align: right;\n",
       "    }\n",
       "</style>\n",
       "<table border=\"1\" class=\"dataframe\">\n",
       "  <thead>\n",
       "    <tr style=\"text-align: right;\">\n",
       "      <th></th>\n",
       "      <th>Total Precipitation (mm)</th>\n",
       "      <th>Evaporation Loss (m3)</th>\n",
       "      <th>Infiltration Loss (m3)</th>\n",
       "      <th>Runoff (m3)</th>\n",
       "      <th>Initial Storage (mm)</th>\n",
       "      <th>Final Storage (mm)</th>\n",
       "    </tr>\n",
       "  </thead>\n",
       "  <tbody>\n",
       "    <tr>\n",
       "      <th>SWMM-MODFLOW</th>\n",
       "      <td>334.5</td>\n",
       "      <td>137.975622</td>\n",
       "      <td>836.343486</td>\n",
       "      <td>2705.668666</td>\n",
       "      <td>0.0</td>\n",
       "      <td>0.0</td>\n",
       "    </tr>\n",
       "    <tr>\n",
       "      <th>SWMM</th>\n",
       "      <td>334.5</td>\n",
       "      <td>137.975622</td>\n",
       "      <td>836.343486</td>\n",
       "      <td>2705.668666</td>\n",
       "      <td>0.0</td>\n",
       "      <td>0.0</td>\n",
       "    </tr>\n",
       "    <tr>\n",
       "      <th>SWMM-GW</th>\n",
       "      <td>334.5</td>\n",
       "      <td>137.975622</td>\n",
       "      <td>836.343486</td>\n",
       "      <td>2705.668666</td>\n",
       "      <td>0.0</td>\n",
       "      <td>0.0</td>\n",
       "    </tr>\n",
       "  </tbody>\n",
       "</table>\n",
       "</div>"
      ],
      "text/plain": [
       "              Total Precipitation (mm)  Evaporation Loss (m3)  \\\n",
       "SWMM-MODFLOW                     334.5             137.975622   \n",
       "SWMM                             334.5             137.975622   \n",
       "SWMM-GW                          334.5             137.975622   \n",
       "\n",
       "              Infiltration Loss (m3)  Runoff (m3)  Initial Storage (mm)  \\\n",
       "SWMM-MODFLOW              836.343486  2705.668666                   0.0   \n",
       "SWMM                      836.343486  2705.668666                   0.0   \n",
       "SWMM-GW                   836.343486  2705.668666                   0.0   \n",
       "\n",
       "              Final Storage (mm)  \n",
       "SWMM-MODFLOW                 0.0  \n",
       "SWMM                         0.0  \n",
       "SWMM-GW                      0.0  "
      ]
     },
     "execution_count": 145,
     "metadata": {},
     "output_type": "execute_result"
    }
   ],
   "source": [
    "df_runoff.set_index(index)"
   ]
  },
  {
   "cell_type": "markdown",
   "metadata": {},
   "source": [
    "# Pruebas"
   ]
  },
  {
   "cell_type": "markdown",
   "metadata": {},
   "source": [
    "## Seepage loss conduits SWMM model"
   ]
  },
  {
   "cell_type": "code",
   "execution_count": null,
   "metadata": {},
   "outputs": [],
   "source": [
    "# #SWMM Subcatchments names:\n",
    "# S_names_list=[\"S1\", \"S2\"]\n",
    "# #SWMM Storge Unites names:\n",
    "# SU_names_list=[\"SU1\"]\n",
    "# #Wetlands subcatchments\n",
    "# SU_S_names_list=[\"S2\"]\n",
    "# #SWMM conduits:\n",
    "# C_names_list=[\"C1\"]"
   ]
  },
  {
   "cell_type": "markdown",
   "metadata": {},
   "source": [
    "Seepage off model"
   ]
  },
  {
   "cell_type": "code",
   "execution_count": null,
   "metadata": {},
   "outputs": [],
   "source": [
    "# dire=\"SWMM_VER_model/otras_versiones\"\n",
    "# file=\"SWMM_VER_X2_SPoff.inp\"\n",
    "# path=dire + \"/\" + file"
   ]
  },
  {
   "cell_type": "code",
   "execution_count": null,
   "metadata": {},
   "outputs": [],
   "source": [
    "# SU_SWMM_TS_SPoff=[]\n",
    "# S_SWMM_TS_SPoff=[]\n",
    "# C_SWMM_TS_SPoff=[]\n",
    "# for i in SU_names_list:\n",
    "#     a= pd.DataFrame()\n",
    "#     a[\"Time\"]=\"\"\n",
    "#     a[\"Depth (m)\"]=\"\"\n",
    "#     a[\"Head (m)\"]=\"\"\n",
    "#     a[\"Flooding (m3/s)\"]=\"\"\n",
    "#     a[\"Lateral inflow (m3/s)\"]=\"\"\n",
    "#     a[\"Total inflow (m3/s)\"]=\"\"\n",
    "#     a[\"Total outflow (m3/s)\"]=\"\"\n",
    "#     a[\"Volume (m3)\"]=\"\"\n",
    "#     a[\"Losses (m3/s)\"]=\"\"\n",
    "#     a[\"Cumulative Exfiltration Loss (m3)\"]=\"\"\n",
    "#     SU_SWMM_TS_SPoff.append(a)\n",
    "# for i in S_names_list:\n",
    "#     a= pd.DataFrame()\n",
    "#     a[\"Time\"]=\"\"\n",
    "#     a[\"Precipitation (mm/h)\"]=\"\"\n",
    "#     a[\"Evaporation (mm/d)\"]=\"\"\n",
    "#     a[\"Infiltration (mm/h)\"]=\"\" \n",
    "#     a[\"Runoff (m3/s)\"]=\"\"\n",
    "#     a[\"Runon (m3/s)\"]=\"\"\n",
    "#     a[\"Cumulative Infiltration (m3)\"]=\"\"\n",
    "#     a[\"Cumulative Evaporation (m3)\"]=\"\"\n",
    "#     S_SWMM_TS_SPoff.append(a)\n",
    "# for i in C_names_list:\n",
    "#     a= pd.DataFrame()\n",
    "#     a[\"Time\"]=\"\"\n",
    "#     a[\"Depth (m)\"]=\"\"\n",
    "#     a[\"Flow (m3/s)\"]=\"\"\n",
    "#     a[\"ups xs area (m2)\"]=\"\"\n",
    "#     a[\"ds xs area (m2)\"]=\"\"\n",
    "#     a[\"Volume (m3)\"]=\"\"\n",
    "#     #a[\"Seepage Loss ()\"]=\"\"\n",
    "#     C_SWMM_TS_SPoff.append(a)"
   ]
  },
  {
   "cell_type": "code",
   "execution_count": null,
   "metadata": {},
   "outputs": [],
   "source": [
    "# with Simulation(path) as sim:\n",
    "#     S_list=[]\n",
    "#     SU_list=[]\n",
    "#     C_list=[]\n",
    "#     S_areas=[]\n",
    "#     system_routing = SystemStats(sim)\n",
    "    \n",
    "#     for s in S_names_list:\n",
    "#         S_list.append(Subcatchments(sim)[s])\n",
    "#         S_areas.append(Subcatchments(sim)[s].area) #[ha]  \n",
    "#     for i in range(len(SU_names_list)):\n",
    "#         SU_list.append(Nodes(sim)[SU_names_list[i]])\n",
    "#     for c in range(len(C_names_list)):\n",
    "#         C_list.append(Links(sim)[C_names_list[c]])\n",
    "        \n",
    "        \n",
    "#     inf_S_list_1=np.zeros(len(S_list))\n",
    "#     inf_S_list_2=np.zeros(len(S_list))\n",
    "#     inf_SU_list_1=np.zeros(len(SU_list))\n",
    "#     inf_SU_list_2=np.zeros(len(SU_list))\n",
    "    \n",
    "#     step_counter=0\n",
    "\n",
    "#     for step in sim:\n",
    "#         step_counter=step_counter+1\n",
    "        \n",
    "#         #rainfall modification to avoid double counting\n",
    "        \n",
    "#         if step_counter==12:\n",
    "#             step_counter=0\n",
    "            \n",
    "#             #STORAGE UNITS TIME SERIES RESULTS\n",
    "#             for i in range(len(SU_list)):\n",
    "#                 new_row = {'Time': sim.current_time, \"Depth (m)\":SU_list[i].depth, \n",
    "#                            \"Head (m)\":SU_list[i].head, \"Flooding (m3/s)\":SU_list[i].flooding, \n",
    "#                            \"Lateral inflow (m3/s)\":SU_list[i].lateral_inflow,\"Total inflow (m3/s)\":SU_list[i].total_inflow,\n",
    "#                            \"Total outflow (m3/s)\":SU_list[i].total_outflow, \"Volume (m3)\":SU_list[i].volume, \"Losses (m3/s)\":SU_list[i].losses,\n",
    "#                            \"Cumulative Exfiltration Loss (m3)\": SU_list[i].storage_statistics[\"exfil_loss\"]}\n",
    "#                 SU_SWMM_TS_SPoff[i] =SU_SWMM_TS_SPoff[i].append(new_row, ignore_index=True)\n",
    "#             #SUBCATCHMENTS TIME SERIES RESULTS\n",
    "#             for i in range(len(S_list)):\n",
    "#                 new_row = {'Time': sim.current_time, \"Precipitation (mm/h)\":S_list[i].rainfall, \n",
    "#                            \"Evaporation (mm/d)\":S_list[i].evaporation_loss,\"Infiltration (mm/h)\":S_list[i].infiltration_loss, \n",
    "#                            \"Runoff (m3/s)\":S_list[i].runoff,\"Runon (m3/s)\":S_list[i].runon,\n",
    "#                            \"Cumulative Infiltration (m3)\": S_list[i].statistics[\"infiltration\"], \"Cumulative Evaporation (m3)\": S_list[i].statistics[\"evaporation\"]}\n",
    "#                 S_SWMM_TS_SPoff[i] =S_SWMM_TS_SPoff[i].append(new_row, ignore_index=True) \n",
    "#             for i in range(len(C_list)):\n",
    "#                 new_row= {'Time': sim.current_time, \"Depth (m)\": C_list[i].depth, \"Flow (m3/s)\": C_list[i].flow,\n",
    "#                          \"ups xs are (m2)\":C_list[i].ups_xsection_area, \"ds xs area (m2)\":C_list[i].ds_xsection_area,\n",
    "#                           \"Volume (m3)\":C_list[i].volume}\n",
    "#                 C_SWMM_TS_SPoff[i] =C_SWMM_TS_SPoff[i].append(new_row, ignore_index=True)\n",
    "            \n",
    "#     routing_stats_SPoff=system_routing.routing_stats\n",
    "#     runoff_stats_SPoff=system_routing.runoff_stats"
   ]
  },
  {
   "cell_type": "code",
   "execution_count": null,
   "metadata": {},
   "outputs": [],
   "source": [
    "# df_routing_SPoff = pd.DataFrame({'Dry Weather Inflow (m3)': [routing_stats_SPoff['dry_weather_inflow']],\n",
    "#                    'Wet Weather Inflow (m3)': [routing_stats_SPoff['wet_weather_inflow']], \n",
    "#                    'Ground Water Inflow (m3)': [routing_stats_SPoff['groundwater_inflow']],\n",
    "#                    #'RDII Inflow (m3)': [routing_stats['II_inflow']],\n",
    "#                    'External Inflow (m3)': [routing_stats_SPoff['external_inflow']],\n",
    "#                    'External Outflow (m3)': [routing_stats_SPoff['outflow']],\n",
    "#                    'Flooding Loss (m3)': [routing_stats_SPoff['flooding']],\n",
    "#                    'Evaporation Loss (m3)': [routing_stats_SPoff['evaporation_loss']],\n",
    "#                    'Seepage Loss (m3)': [routing_stats_SPoff['seepage_loss']],\n",
    "#                    'Initial Stored Volume': [routing_stats_SPoff['initial_storage']],\n",
    "#                    'Final Stored Volume': [routing_stats_SPoff['final_storage']],\n",
    "#                    'Continuity Error (%)': [routing_stats_SPoff['routing_error']]})"
   ]
  },
  {
   "cell_type": "code",
   "execution_count": null,
   "metadata": {},
   "outputs": [],
   "source": [
    "# df_runoff_SPoff = pd.DataFrame({'Total Precipitation (mm)': [runoff_stats_SPoff['rainfall']],\n",
    "#                    'Evaporation Loss (m3)': [runoff_stats_SPoff['evaporation']], \n",
    "#                    'Infiltration Loss (m3)': [runoff_stats_SPoff['infiltration']],\n",
    "#                    'Runoff (m3)': [runoff_stats_SPoff['runoff']],\n",
    "#                    \"Initial Storage (mm)\":[runoff_stats_SPoff['init_storage']],\n",
    "#                    \"Final Storage (mm)\":[runoff_stats_SPoff['final_storage']]})"
   ]
  },
  {
   "cell_type": "markdown",
   "metadata": {},
   "source": [
    "Seepage on model"
   ]
  },
  {
   "cell_type": "code",
   "execution_count": null,
   "metadata": {},
   "outputs": [],
   "source": [
    "# dire=\"SWMM_VER_model\\otras_versiones\"\n",
    "# file=\"SWMM_VER_X2_SPon.inp\"\n",
    "# path=dire + \"/\" + file"
   ]
  },
  {
   "cell_type": "code",
   "execution_count": null,
   "metadata": {},
   "outputs": [],
   "source": [
    "# SU_SWMM_TS_SPon=[]\n",
    "# S_SWMM_TS_SPon=[]\n",
    "# C_SWMM_TS_SPon=[]\n",
    "# for i in SU_names_list:\n",
    "#     a= pd.DataFrame()\n",
    "#     a[\"Time\"]=\"\"\n",
    "#     a[\"Depth (m)\"]=\"\"\n",
    "#     a[\"Head (m)\"]=\"\"\n",
    "#     a[\"Flooding (m3/s)\"]=\"\"\n",
    "#     a[\"Lateral inflow (m3/s)\"]=\"\"\n",
    "#     a[\"Total inflow (m3/s)\"]=\"\"\n",
    "#     a[\"Total outflow (m3/s)\"]=\"\"\n",
    "#     a[\"Volume (m3)\"]=\"\"\n",
    "#     a[\"Losses (m3/s)\"]=\"\"\n",
    "#     a[\"Cumulative Exfiltration Loss (m3)\"]=\"\"\n",
    "#     SU_SWMM_TS_SPon.append(a)\n",
    "# for i in S_names_list:\n",
    "#     a= pd.DataFrame()\n",
    "#     a[\"Time\"]=\"\"\n",
    "#     a[\"Precipitation (mm/h)\"]=\"\"\n",
    "#     a[\"Evaporation (mm/d)\"]=\"\"\n",
    "#     a[\"Infiltration (mm/h)\"]=\"\" \n",
    "#     a[\"Runoff (m3/s)\"]=\"\"\n",
    "#     a[\"Runon (m3/s)\"]=\"\"\n",
    "#     a[\"Cumulative Infiltration (m3)\"]=\"\"\n",
    "#     a[\"Cumulative Evaporation (m3)\"]=\"\"\n",
    "#     S_SWMM_TS_SPon.append(a)\n",
    "# for i in C_names_list:\n",
    "#     a= pd.DataFrame()\n",
    "#     a[\"Time\"]=\"\"\n",
    "#     a[\"Depth (m)\"]=\"\"\n",
    "#     a[\"Flow (m3/s)\"]=\"\"\n",
    "#     a[\"ups xs area (m2)\"]=\"\"\n",
    "#     a[\"ds xs area (m2)\"]=\"\"\n",
    "#     a[\"Volume (m3)\"]=\"\"\n",
    "#     #a[\"Seepage Loss ()\"]=\"\"\n",
    "#     C_SWMM_TS_SPon.append(a)"
   ]
  },
  {
   "cell_type": "code",
   "execution_count": null,
   "metadata": {},
   "outputs": [],
   "source": [
    "# with Simulation(path) as sim:\n",
    "#     S_list=[]\n",
    "#     SU_list=[]\n",
    "#     S_areas=[]\n",
    "#     C_list=[]\n",
    "#     system_routing = SystemStats(sim)\n",
    "    \n",
    "#     for s in S_names_list:\n",
    "#         S_list.append(Subcatchments(sim)[s])\n",
    "#         S_areas.append(Subcatchments(sim)[s].area) #[ha]  \n",
    "#     for i in range(len(SU_names_list)):\n",
    "#         SU_list.append(Nodes(sim)[SU_names_list[i]])\n",
    "#     for c in range(len(C_names_list)):\n",
    "#         C_list.append(Links(sim)[C_names_list[c]])\n",
    "    \n",
    "#     inf_S_list_1=np.zeros(len(S_list))\n",
    "#     inf_S_list_2=np.zeros(len(S_list))\n",
    "#     inf_SU_list_1=np.zeros(len(SU_list))\n",
    "#     inf_SU_list_2=np.zeros(len(SU_list))\n",
    "    \n",
    "#     step_counter=0\n",
    "\n",
    "#     for step in sim:\n",
    "#         step_counter=step_counter+1\n",
    "        \n",
    "#         #CONDUITS TIME SERIES RESULTS in every time step to calculate seepage loss\n",
    "#         for i in range(len(C_list)):\n",
    "#             new_row= {'Time': sim.current_time, \"Depth (m)\": C_list[i].depth, \"Flow (m3/s)\": C_list[i].flow,\n",
    "#                     \"ups xs area (m2)\":C_list[i].ups_xsection_area, \"ds xs area (m2)\":C_list[i].ds_xsection_area,\n",
    "#                     \"Volume (m3)\":C_list[i].volume}\n",
    "#             C_SWMM_TS_SPon[i] =C_SWMM_TS_SPon[i].append(new_row, ignore_index=True)\n",
    "\n",
    "#         if step_counter==12:\n",
    "#             step_counter=0\n",
    "            \n",
    "#             #STORAGE UNITS TIME SERIES RESULTS\n",
    "#             for i in range(len(SU_list)):\n",
    "#                 new_row = {'Time': sim.current_time, \"Depth (m)\":SU_list[i].depth, \n",
    "#                            \"Head (m)\":SU_list[i].head, \"Flooding (m3/s)\":SU_list[i].flooding, \n",
    "#                            \"Lateral inflow (m3/s)\":SU_list[i].lateral_inflow,\"Total inflow (m3/s)\":SU_list[i].total_inflow,\n",
    "#                            \"Total outflow (m3/s)\":SU_list[i].total_outflow, \"Volume (m3)\":SU_list[i].volume, \"Losses (m3/s)\":SU_list[i].losses,\n",
    "#                            \"Cumulative Exfiltration Loss (m3)\": SU_list[i].storage_statistics[\"exfil_loss\"]}\n",
    "#                 SU_SWMM_TS_SPon[i] =SU_SWMM_TS_SPon[i].append(new_row, ignore_index=True)\n",
    "#             #SUBCATCHMENTS TIME SERIES RESULTS\n",
    "#             for i in range(len(S_list)):\n",
    "#                 new_row = {'Time': sim.current_time, \"Precipitation (mm/h)\":S_list[i].rainfall, \n",
    "#                            \"Evaporation (mm/d)\":S_list[i].evaporation_loss,\"Infiltration (mm/h)\":S_list[i].infiltration_loss, \n",
    "#                            \"Runoff (m3/s)\":S_list[i].runoff,\"Runon (m3/s)\":S_list[i].runon,\n",
    "#                            \"Cumulative Infiltration (m3)\": S_list[i].statistics[\"infiltration\"], \"Cumulative Evaporation (m3)\": S_list[i].statistics[\"evaporation\"]}\n",
    "#                 S_SWMM_TS_SPon[i] =S_SWMM_TS_SPon[i].append(new_row, ignore_index=True) \n",
    "                \n",
    "#     routing_stats_SPon=system_routing.routing_stats\n",
    "#     runoff_stats_SPon=system_routing.runoff_stats   "
   ]
  },
  {
   "cell_type": "code",
   "execution_count": null,
   "metadata": {},
   "outputs": [],
   "source": [
    "# with Simulation(path) as sim:\n",
    "#     print(C_list[i].seepage_rate)"
   ]
  },
  {
   "cell_type": "code",
   "execution_count": null,
   "metadata": {},
   "outputs": [],
   "source": [
    "# df_routing_SPon = pd.DataFrame({'Dry Weather Inflow (m3)': [routing_stats_SPon['dry_weather_inflow']],\n",
    "#                    'Wet Weather Inflow (m3)': [routing_stats_SPon['wet_weather_inflow']], \n",
    "#                    'Ground Water Inflow (m3)': [routing_stats_SPon['groundwater_inflow']],\n",
    "#                    #'RDII Inflow (m3)': [routing_stats['II_inflow']],\n",
    "#                    'External Inflow (m3)': [routing_stats_SPon['external_inflow']],\n",
    "#                    'External Outflow (m3)': [routing_stats_SPon['outflow']],\n",
    "#                    'Flooding Loss (m3)': [routing_stats_SPon['flooding']],\n",
    "#                    'Evaporation Loss (m3)': [routing_stats_SPon['evaporation_loss']],\n",
    "#                    'Seepage Loss (m3)': [routing_stats_SPon['seepage_loss']],\n",
    "#                    'Initial Stored Volume': [routing_stats_SPon['initial_storage']],\n",
    "#                    'Final Stored Volume': [routing_stats_SPon['final_storage']],\n",
    "#                    'Continuity Error (%)': [routing_stats_SPon['routing_error']]})"
   ]
  },
  {
   "cell_type": "code",
   "execution_count": null,
   "metadata": {},
   "outputs": [],
   "source": [
    "# df_runoff_SPon = pd.DataFrame({'Total Precipitation (mm)': [runoff_stats_SPon['rainfall']],\n",
    "#                    'Evaporation Loss (m3)': [runoff_stats_SPon['evaporation']], \n",
    "#                    'Infiltration Loss (m3)': [runoff_stats_SPon['infiltration']],\n",
    "#                    'Runoff (m3)': [runoff_stats_SPon['runoff']],\n",
    "#                    \"Initial Storage (mm)\":[runoff_stats_SPon['init_storage']],\n",
    "#                    \"Final Storage (mm)\":[runoff_stats_SPon['final_storage']]})"
   ]
  },
  {
   "cell_type": "code",
   "execution_count": null,
   "metadata": {},
   "outputs": [],
   "source": [
    "# df_routing_SPoff"
   ]
  },
  {
   "cell_type": "code",
   "execution_count": null,
   "metadata": {},
   "outputs": [],
   "source": [
    "# df_routing_SPon"
   ]
  },
  {
   "cell_type": "code",
   "execution_count": null,
   "metadata": {},
   "outputs": [],
   "source": [
    "# f, (ax1, ax2, ax3, ax4) = plt.subplots(4,1, figsize=(15,10))\n",
    "# ax1.plot(C_SWMM_TS_SPon[0][\"Time\"],C_SWMM_TS_SPon[0][\"Depth (m)\"], label=\"Seepage ON\",linestyle=\"-\" )\n",
    "# ax1.plot(C_SWMM_TS_SPoff[0][\"Time\"],C_SWMM_TS_SPoff[0][\"Depth (m)\"], label=\"Seepage OFF\",linestyle=\"--\" )\n",
    "# ax1.set_ylabel(\"Depth (m)\")\n",
    "# ax1.legend()\n",
    "# ax2.plot(C_SWMM_TS_SPon[0][\"Time\"],C_SWMM_TS_SPon[0][\"Flow (m3/s)\"], label=\"Seepage ON\",linestyle=\"-\"  )\n",
    "# ax2.plot(C_SWMM_TS_SPoff[0][\"Time\"],C_SWMM_TS_SPoff[0][\"Flow (m3/s)\"], label=\"Seepage OFF\",linestyle=\"--\"  )\n",
    "# ax2.set_ylabel(\"Flow (m3/s)\")\n",
    "# ax2.legend()\n",
    "# ax3.plot(C_SWMM_TS_SPon[0][\"Time\"],C_SWMM_TS_SPon[0][\"ups xs area (m2)\"], label=\"ups\",linestyle=\"-\"  )\n",
    "# ax3.plot(C_SWMM_TS_SPon[0][\"Time\"],C_SWMM_TS_SPon[0][\"ds xs area (m2)\"], label=\"ds\",linestyle=\"--\"  )\n",
    "# ax3.set_ylabel(\"Area (m2)\")\n",
    "# ax3.legend()\n",
    "# ax4.plot(C_SWMM_TS_SPon[0][\"Time\"],C_SWMM_TS_SPon[0][\"Volume (m3)\"], label=\"Seepage ON\",linestyle=\"-\")\n",
    "# ax4.plot(C_SWMM_TS_SPoff[0][\"Time\"],C_SWMM_TS_SPoff[0][\"Volume (m3)\"], label=\"Seepage OFF\",linestyle=\"--\"  )\n",
    "# ax4.set_ylabel(\"Volume (m3)\")\n",
    "# ax4.legend()"
   ]
  },
  {
   "cell_type": "code",
   "execution_count": null,
   "metadata": {},
   "outputs": [],
   "source": [
    "# f, (ax1, ax2, ax3,ax4, ax5) = plt.subplots(5,1, figsize=(10,10))\n",
    "# ax1.plot(SU_SWMM_TS_SPon[0].index,SU_SWMM_TS_SPon[0][\"Depth (m)\"], label=\"SPon\",linestyle=\"-\" )\n",
    "# ax1.plot(SU_SWMM_TS_SPoff[0].index,SU_SWMM_TS_SPoff[0][\"Depth (m)\"], label=\"SPoff\",linestyle=\"--\" )\n",
    "# ax1.legend()\n",
    "# ax1.set_ylabel(\"Depth (m)\")\n",
    "# ax2.plot(SU_SWMM_TS_SPon[0].index,SU_SWMM_TS_SPon[0][\"Total inflow (m3/s)\"],label=\"SPon\",linestyle=\"--\")\n",
    "# ax2.plot(SU_SWMM_TS_SPoff[0].index,SU_SWMM_TS_SPoff[0][\"Total inflow (m3/s)\"], label=\"SPoff\", linestyle=\"-.\"  )\n",
    "# ax2.legend()\n",
    "# ax2.set_ylabel(\"Total inflow (m3/s)\")\n",
    "# ax3.plot(SU_SWMM_TS_SPon[0].index,SU_SWMM_TS_SPon[0][\"Losses (m3/s)\"],label=\"SPon\",linestyle=\"--\")\n",
    "# ax3.plot(SU_SWMM_TS_SPoff[0].index,SU_SWMM_TS_SPoff[0][\"Losses (m3/s)\"], label=\"SPoff\", linestyle=\"-.\"  )\n",
    "# ax3.legend()\n",
    "# ax3.set_ylabel(\"Losses (m3/s)\")\n",
    "# ax4.plot(SU_SWMM_TS_SPon[0].index,SU_SWMM_TS_SPon[0][\"Cumulative Exfiltration Loss (m3)\"],label=\"SPon\",linestyle=\"--\")\n",
    "# ax4.plot(SU_SWMM_TS_SPoff[0].index,SU_SWMM_TS_SPoff[0][\"Cumulative Exfiltration Loss (m3)\"], label=\"SPoff\", linestyle=\"-.\")\n",
    "# ax4.legend()\n",
    "# ax4.set_ylabel(\"Cumulative Exfiltration Loss (m3)\")\n",
    "# ax5.plot(SU_SWMM_TS_SPon[0].index,SU_SWMM_TS_SPon[0][\"Total outflow (m3/s)\"],label=\"SPon\",linestyle=\"--\")\n",
    "# ax5.plot(SU_SWMM_TS_SPoff[0].index,SU_SWMM_TS_SPoff[0][\"Total outflow (m3/s)\"], label=\"SPoff\", linestyle=\"-.\" )\n",
    "# ax5.legend()\n",
    "# ax5.set_ylabel(\"Total outflow (m3/s)\")\n",
    "# f.suptitle(\"Storage Unit Time Series\",fontsize=16)\n",
    "# plt.show()"
   ]
  },
  {
   "cell_type": "markdown",
   "metadata": {},
   "source": [
    "Estimación Seepage Loss en Conductos:\n",
    "- qs=s*W\n",
    "\n",
    "Ojo que no puede ser mayor al volumen existente en el conducto"
   ]
  },
  {
   "cell_type": "code",
   "execution_count": null,
   "metadata": {},
   "outputs": [],
   "source": [
    "# C_SWMM_TS_SPon[0][\"Seepage (m3/s)\"]=(C_SWMM_TS_SPon[0][\"Depth (m)\"]/C_SWMM_TS_SPon[0][\"Depth (m)\"])*100/1000/3600*0.1*50\n",
    "# C_SWMM_TS_SPon[0][\"Seepage (m3/s)\"]=C_SWMM_TS_SPon[0][\"Seepage (m3/s)\"].fillna(0)"
   ]
  },
  {
   "cell_type": "code",
   "execution_count": null,
   "metadata": {},
   "outputs": [],
   "source": [
    "# C_SWMM_TS_SPon[0][\"Max Seepage dt (m3/s)\"]=C_SWMM_TS_SPon[0][\"Volume (m3)\"]/300"
   ]
  },
  {
   "cell_type": "code",
   "execution_count": null,
   "metadata": {},
   "outputs": [],
   "source": [
    "# f, (ax2) = plt.subplots(1,1, figsize=(20,5))\n",
    "# ax2.plot(C_SWMM_TS_SPon[0][\"Time\"],C_SWMM_TS_SPon[0][\"Seepage (m3/s)\"], label=\"Seepage\",linestyle=\"-\"  )\n",
    "# ax2.plot(C_SWMM_TS_SPon[0][\"Time\"],C_SWMM_TS_SPon[0][\"Max Seepage dt (m3/s)\"], label=\"Max Seepage\",linestyle=\"--\" )\n",
    "# ax2.set_ylabel(\"Seepage (m3/s)\")\n",
    "# ax2.legend(loc=\"upper left\")"
   ]
  },
  {
   "cell_type": "code",
   "execution_count": null,
   "metadata": {},
   "outputs": [],
   "source": [
    "# C_SWMM_TS_SPon[0][\"Final Seepage (m3/s)\"]=C_SWMM_TS_SPon[0][\"Seepage (m3/s)\"]\n",
    "# C_SWMM_TS_SPon[0].loc[C_SWMM_TS_SPon[0][\"Seepage (m3/s)\"]>C_SWMM_TS_SPon[0][\"Max Seepage dt (m3/s)\"], 'Final Seepage (m3/s)']=C_SWMM_TS_SPon[0][\"Max Seepage dt (m3/s)\"]"
   ]
  },
  {
   "cell_type": "code",
   "execution_count": null,
   "metadata": {},
   "outputs": [],
   "source": [
    "# f, (ax2) = plt.subplots(1,1, figsize=(20,5))\n",
    "# ax2.plot(C_SWMM_TS_SPon[0][\"Time\"],C_SWMM_TS_SPon[0][\"Seepage (m3/s)\"], label=\"Seepage\",linestyle=\"-\"  )\n",
    "# ax2.plot(C_SWMM_TS_SPon[0][\"Time\"],C_SWMM_TS_SPon[0][\"Max Seepage dt (m3/s)\"], label=\"Max Seepage\",linestyle=\"--\" )\n",
    "# ax2.plot(C_SWMM_TS_SPon[0][\"Time\"],C_SWMM_TS_SPon[0][\"Final Seepage (m3/s)\"], label=\"Final Seepage\",linestyle=\"--\" )\n",
    "# ax2.set_ylabel(\"Seepage (m3/s)\")\n",
    "# ax2.legend(loc=\"upper left\")"
   ]
  },
  {
   "cell_type": "code",
   "execution_count": null,
   "metadata": {},
   "outputs": [],
   "source": [
    "# C_SWMM_TS_SPon[0][\"Final Seepage (m3/s)\"].sum()*300"
   ]
  },
  {
   "cell_type": "code",
   "execution_count": null,
   "metadata": {},
   "outputs": [],
   "source": [
    "# C_SWMM_TS_SPon[0][\"Seepage (m3/s)\"].sum()*300"
   ]
  },
  {
   "cell_type": "code",
   "execution_count": null,
   "metadata": {},
   "outputs": [],
   "source": [
    "# (df_routing_SPon[\"Seepage Loss (m3)\"]-df_routing_SPoff[\"Seepage Loss (m3)\"])"
   ]
  },
  {
   "cell_type": "code",
   "execution_count": null,
   "metadata": {},
   "outputs": [],
   "source": [
    "# error_sp=((df_routing_SPon[\"Seepage Loss (m3)\"]-df_routing_SPoff[\"Seepage Loss (m3)\"])-C_SWMM_TS_SPon[0][\"Final Seepage (m3/s)\"].sum()*300)/(df_routing_SPon[\"Seepage Loss (m3)\"]-df_routing_SPoff[\"Seepage Loss (m3)\"])*100\n",
    "# print(error_sp,\"%\")"
   ]
  },
  {
   "cell_type": "code",
   "execution_count": null,
   "metadata": {},
   "outputs": [],
   "source": [
    "# with Simulation(path) as sim:\n",
    "#     C1=Links(sim)[\"C1\"]\n",
    "#     print(C1.is_conduit())\n",
    "#     print(C1.seepage_rate)"
   ]
  }
 ],
 "metadata": {
  "jupytext": {
   "formats": "ipynb,md"
  },
  "kernelspec": {
   "display_name": "Python 3",
   "language": "python",
   "name": "python3"
  },
  "language_info": {
   "codemirror_mode": {
    "name": "ipython",
    "version": 3
   },
   "file_extension": ".py",
   "mimetype": "text/x-python",
   "name": "python",
   "nbconvert_exporter": "python",
   "pygments_lexer": "ipython3",
   "version": "3.7.8"
  },
  "toc-autonumbering": true
 },
 "nbformat": 4,
 "nbformat_minor": 4
}
